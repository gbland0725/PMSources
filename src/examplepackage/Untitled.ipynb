{
 "cells": [
  {
   "cell_type": "code",
   "execution_count": null,
   "id": "original-superintendent",
   "metadata": {},
   "outputs": [],
   "source": [
    "%matplotlib inline\n",
    "import math\n",
    "import os \n",
    "import glob\n",
    "import pandas as pd\n",
    "import numpy as np\n",
    "import seaborn as sns\n",
    "import matplotlib.pyplot as plt\n",
    "import matplotlib.colors as cl\n",
    "import matplotlib.ticker as mtick\n",
    "from matplotlib.gridspec import GridSpec\n",
    "import statsmodels.api as sm\n",
    "from pandas import ExcelWriter\n",
    "import pickle\n",
    "import scipy as sp"
   ]
  },
  {
   "cell_type": "code",
   "execution_count": null,
   "id": "processed-cookie",
   "metadata": {},
   "outputs": [],
   "source": [
    "def load_object(filename):\n",
    "    with open(filename, 'rb') as fid:\n",
    "        file = pickle.load(fid)\n",
    "    return file"
   ]
  },
  {
   "cell_type": "code",
   "execution_count": null,
   "id": "excess-experiment",
   "metadata": {},
   "outputs": [],
   "source": [
    "#load the codes\n",
    "Qian2016codes = load_object('models/Qian2016codes.pkl')\n",
    "Qian2018codes = load_object('models/Qian2018codes.pkl')\n",
    "QianU2019codes = load_object('models/QianU2019codes.pkl')\n",
    "QianR2019codes = load_object('models/QianR2019codes.pkl')\n",
    "Sourcecodes = load_object('models/Sourcecodes.pkl')\n",
    "\n",
    "#Load the DFs\n",
    "Qian2016DF, Qian2016prob, Qian2016keys = load_object('models/Qian2016DF.pkl')\n",
    "Qian2018DF, Qian2018prob, Qian2018keys = load_object('models/Qian2018DF.pkl')\n",
    "QianU2019DF, QianU2019prob, QianU2019keys = load_object('models/QianU2019DF.pkl')\n",
    "QianR2019DF, QianR2019prob, QianR2019keys = load_object('models/QianR2019DF.pkl')\n",
    "SourceDF, Sourceprob, Sourcekeys = load_object('models/SourceDF.pkl')\n",
    "\n",
    "clustersdata = [Qian2016DF, Qian2018DF, QianU2019DF, QianR2019DF, SourceDF]\n",
    "airkeys = [Qian2016keys, Qian2018keys, QianU2019keys, QianR2019keys, Sourcekeys]"
   ]
  },
  {
   "cell_type": "code",
   "execution_count": null,
   "id": "precise-arrangement",
   "metadata": {},
   "outputs": [],
   "source": [
    "def index(data, label):\n",
    "    mini = data.reset_index()[data.reset_index()['labels'] == label].index.min()\n",
    "    maxi = data.reset_index()[data.reset_index()['labels'] == label].index.max()\n",
    "    return mini,maxi"
   ]
  },
  {
   "cell_type": "markdown",
   "id": "veterinary-bryan",
   "metadata": {},
   "source": [
    "# Get the total variational distance among the sources"
   ]
  },
  {
   "cell_type": "markdown",
   "id": "other-adaptation",
   "metadata": {},
   "source": [
    "## individual cells because of their memory and time demand"
   ]
  },
  {
   "cell_type": "code",
   "execution_count": null,
   "id": "decent-disorder",
   "metadata": {},
   "outputs": [],
   "source": [
    "tvdistance = 0.5*sp.spatial.distance.cdist(labelstransform[index(clustersdata[4], 'Soil dust')[0]: index(clustersdata[4], 'Soil dust')[1]],\n",
    "                                           labelstransform[index(clustersdata[4], 'Soil dust')[0]: index(clustersdata[4], 'Soil dust')[1]], 'cityblock')"
   ]
  },
  {
   "cell_type": "code",
   "execution_count": null,
   "id": "secondary-cabinet",
   "metadata": {},
   "outputs": [],
   "source": [
    "tvdistance1 = 0.5*sp.spatial.distance.cdist(labelstransform[index(clustersdata[4], 'Soil dust')[0]: index(clustersdata[4], 'Soil dust')[1]],\n",
    "                                            labelstransform[index(clustersdata[4], 'Construction dust')[0]: index(clustersdata[4], 'Construction dust')[1]], 'cityblock')"
   ]
  },
  {
   "cell_type": "code",
   "execution_count": null,
   "id": "first-roulette",
   "metadata": {},
   "outputs": [],
   "source": []
  }
 ],
 "metadata": {
  "kernelspec": {
   "display_name": "Python 3",
   "language": "python",
   "name": "python3"
  },
  "language_info": {
   "codemirror_mode": {
    "name": "ipython",
    "version": 3
   },
   "file_extension": ".py",
   "mimetype": "text/x-python",
   "name": "python",
   "nbconvert_exporter": "python",
   "pygments_lexer": "ipython3",
   "version": "3.8.5"
  }
 },
 "nbformat": 4,
 "nbformat_minor": 5
}
