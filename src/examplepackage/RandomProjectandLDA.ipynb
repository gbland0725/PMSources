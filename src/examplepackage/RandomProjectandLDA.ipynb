{
 "cells": [
  {
   "cell_type": "code",
   "execution_count": 6,
   "id": "later-climate",
   "metadata": {},
   "outputs": [],
   "source": [
    "%matplotlib inline\n",
    "import math\n",
    "import os \n",
    "import glob\n",
    "import pandas as pd\n",
    "import numpy as np\n",
    "import seaborn as sns\n",
    "import matplotlib.pyplot as plt\n",
    "import matplotlib.colors as cl\n",
    "import matplotlib.ticker as mtick\n",
    "from matplotlib.gridspec import GridSpec\n",
    "import statsmodels.api as sm\n",
    "from pandas import ExcelWriter\n",
    "import pickle\n",
    "import scipy as sp"
   ]
  },
  {
   "cell_type": "code",
   "execution_count": 2,
   "id": "antique-correspondence",
   "metadata": {},
   "outputs": [],
   "source": [
    "def load_object(filename):\n",
    "    with open(filename, 'rb') as fid:\n",
    "        file = pickle.load(fid)\n",
    "    return file"
   ]
  },
  {
   "cell_type": "code",
   "execution_count": 3,
   "id": "caroline-senator",
   "metadata": {},
   "outputs": [],
   "source": [
    "#load the codes\n",
    "Qian2016codes = load_object('models/Qian2016codes.pkl')\n",
    "Qian2018codes = load_object('models/Qian2018codes.pkl')\n",
    "QianU2019codes = load_object('models/QianU2019codes.pkl')\n",
    "QianR2019codes = load_object('models/QianR2019codes.pkl')\n",
    "Sourcecodes = load_object('models/Sourcecodes.pkl')\n",
    "\n",
    "#Load the DFs\n",
    "Qian2016DF, Qian2016prob, Qian2016keys = load_object('models/Qian2016DF.pkl')\n",
    "Qian2018DF, Qian2018prob, Qian2018keys = load_object('models/Qian2018DF.pkl')\n",
    "QianU2019DF, QianU2019prob, QianU2019keys = load_object('models/QianU2019DF.pkl')\n",
    "QianR2019DF, QianR2019prob, QianR2019keys = load_object('models/QianR2019DF.pkl')\n",
    "SourceDF, Sourceprob, Sourcekeys = load_object('models/SourceDF.pkl')\n",
    "\n",
    "clustersdata = [Qian2016DF, Qian2018DF, QianU2019DF, QianR2019DF, SourceDF]\n",
    "probdata = [Qian2016prob, Qian2018prob, QianU2019prob, QianR2019prob, Sourceprob]\n",
    "airkeys = [Qian2016keys, Qian2018keys, QianU2019keys, QianR2019keys, Sourcekeys]"
   ]
  },
  {
   "cell_type": "code",
   "execution_count": 4,
   "id": "intelligent-milan",
   "metadata": {},
   "outputs": [],
   "source": [
    "def index(data, label):\n",
    "    mini = data.reset_index()[data.reset_index()['labels'] == label].index.min()\n",
    "    maxi = data.reset_index()[data.reset_index()['labels'] == label].index.max()\n",
    "    return mini,maxi"
   ]
  },
  {
   "cell_type": "markdown",
   "id": "intermediate-feelings",
   "metadata": {},
   "source": [
    "# Compute total variation distance with respect to each source"
   ]
  },
  {
   "cell_type": "markdown",
   "id": "subsequent-hebrew",
   "metadata": {},
   "source": [
    "# Get the total variational distance among the sources"
   ]
  },
  {
   "cell_type": "markdown",
   "id": "eight-rachel",
   "metadata": {},
   "source": [
    "## individual cells because of their memory and time demand"
   ]
  },
  {
   "cell_type": "code",
   "execution_count": 5,
   "id": "characteristic-joining",
   "metadata": {},
   "outputs": [],
   "source": [
    "import scipy as sp\n",
    "tvdistance = 0.5*sp.spatial.distance.cdist(Sourceprob[index(clustersdata[4], 'Soil dust')[0]: index(clustersdata[4], 'Soil dust')[1]], \n",
    "                                           Sourceprob[index(clustersdata[4], 'Soil dust')[0]: index(clustersdata[4], 'Soil dust')[1]], 'cityblock')"
   ]
  },
  {
   "cell_type": "code",
   "execution_count": 6,
   "id": "legislative-craft",
   "metadata": {},
   "outputs": [],
   "source": [
    "tvdistance1 = 0.5*sp.spatial.distance.cdist(Sourceprob[index(clustersdata[4], 'Soil dust')[0]: index(clustersdata[4], 'Soil dust')[1]],\n",
    "                                            Sourceprob[index(clustersdata[4], 'Construction dust')[0]: index(clustersdata[4], 'Construction dust')[1]], 'cityblock')"
   ]
  },
  {
   "cell_type": "code",
   "execution_count": 7,
   "id": "documentary-significance",
   "metadata": {},
   "outputs": [],
   "source": [
    "tvdistance2 = 0.5*sp.spatial.distance.cdist(Sourceprob[index(clustersdata[4], 'Soil dust')[0]: index(clustersdata[4], 'Soil dust')[1]], \n",
    "                                            Sourceprob[index(clustersdata[4], 'Construction sand')[0]: index(clustersdata[4], 'Construction sand')[1]], 'cityblock')"
   ]
  },
  {
   "cell_type": "code",
   "execution_count": 8,
   "id": "included-motion",
   "metadata": {},
   "outputs": [],
   "source": [
    "tvdistance3 = 0.5*sp.spatial.distance.cdist(Sourceprob[index(clustersdata[4], 'Soil dust')[0]: index(clustersdata[4], 'Soil dust')[1]], \n",
    "                                            Sourceprob[index(clustersdata[4], 'Industrial emission')[0]: index(clustersdata[4], 'Industrial emission')[1]], 'cityblock')"
   ]
  },
  {
   "cell_type": "code",
   "execution_count": 9,
   "id": "universal-senator",
   "metadata": {},
   "outputs": [],
   "source": [
    "tvdistance4 = 0.5*sp.spatial.distance.cdist(Sourceprob[index(clustersdata[4], 'Soil dust')[0]: index(clustersdata[4], 'Soil dust')[1]], \n",
    "                                            Sourceprob[index(clustersdata[4], 'Urban fugitive dust')[0]: index(clustersdata[4], 'Urban fugitive dust')[1]], 'cityblock')"
   ]
  },
  {
   "cell_type": "code",
   "execution_count": 10,
   "id": "occasional-fiber",
   "metadata": {},
   "outputs": [],
   "source": [
    "tvdistance5 = 0.5*sp.spatial.distance.cdist(Sourceprob[index(clustersdata[4], 'Soil dust')[0]: index(clustersdata[4], 'Soil dust')[1]], \n",
    "                                            Sourceprob[index(clustersdata[4], 'Car exhaust')[0]: index(clustersdata[4], 'Car exhaust')[1]], 'cityblock')"
   ]
  },
  {
   "cell_type": "code",
   "execution_count": 11,
   "id": "qualified-lewis",
   "metadata": {},
   "outputs": [],
   "source": [
    "tvdistance6 = 0.5*sp.spatial.distance.cdist(Sourceprob[index(clustersdata[4], 'Soil dust')[0]: index(clustersdata[4], 'Soil dust')[1]], \n",
    "                                            Sourceprob[index(clustersdata[4], 'Biomass')[0]: index(clustersdata[4], 'Biomass')[1]], 'cityblock')"
   ]
  },
  {
   "cell_type": "code",
   "execution_count": 12,
   "id": "burning-forwarding",
   "metadata": {},
   "outputs": [],
   "source": [
    "tvdistance7 = 0.5*sp.spatial.distance.cdist(Sourceprob[index(clustersdata[4], 'Soil dust')[0]: index(clustersdata[4], 'Soil dust')[1]], \n",
    "                                            Sourceprob[index(clustersdata[4], 'Coal burning')[0]: index(clustersdata[4], 'Coal burning')[1]], 'cityblock')"
   ]
  },
  {
   "cell_type": "code",
   "execution_count": 13,
   "id": "eligible-transsexual",
   "metadata": {},
   "outputs": [],
   "source": [
    "tvaverage = np.average(tvdistance)"
   ]
  },
  {
   "cell_type": "code",
   "execution_count": 14,
   "id": "invalid-female",
   "metadata": {},
   "outputs": [],
   "source": [
    "tvaverage1 = np.average(tvdistance1)"
   ]
  },
  {
   "cell_type": "code",
   "execution_count": 15,
   "id": "superior-bench",
   "metadata": {},
   "outputs": [],
   "source": [
    "tvaverage2 = np.average(tvdistance2)"
   ]
  },
  {
   "cell_type": "code",
   "execution_count": 16,
   "id": "polished-biotechnology",
   "metadata": {},
   "outputs": [],
   "source": [
    "tvaverage3 = np.average(tvdistance3)"
   ]
  },
  {
   "cell_type": "code",
   "execution_count": 17,
   "id": "caring-nebraska",
   "metadata": {},
   "outputs": [],
   "source": [
    "tvaverage4 = np.average(tvdistance4)"
   ]
  },
  {
   "cell_type": "code",
   "execution_count": 18,
   "id": "coated-vaccine",
   "metadata": {},
   "outputs": [],
   "source": [
    "tvaverage5 = np.average(tvdistance5)"
   ]
  },
  {
   "cell_type": "code",
   "execution_count": 19,
   "id": "macro-strap",
   "metadata": {},
   "outputs": [],
   "source": [
    "tvaverage6 = np.average(tvdistance6)"
   ]
  },
  {
   "cell_type": "code",
   "execution_count": 20,
   "id": "productive-poster",
   "metadata": {},
   "outputs": [],
   "source": [
    "tvaverage7 = np.average(tvdistance7)"
   ]
  },
  {
   "cell_type": "code",
   "execution_count": 21,
   "id": "appropriate-gospel",
   "metadata": {},
   "outputs": [],
   "source": [
    "tvdistance8 = 0.5*sp.spatial.distance.cdist(Sourceprob[index(clustersdata[4], 'Construction sand')[0]: index(clustersdata[4], 'Construction sand')[1]], \n",
    "                                            Sourceprob[index(clustersdata[4], 'Construction dust')[0]: index(clustersdata[4], 'Construction dust')[1]], 'cityblock')"
   ]
  },
  {
   "cell_type": "code",
   "execution_count": 22,
   "id": "rising-breathing",
   "metadata": {},
   "outputs": [],
   "source": [
    "tvdistance9 = 0.5*sp.spatial.distance.cdist(Sourceprob[index(clustersdata[4], 'Industrial emission')[0]: index(clustersdata[4], 'Industrial emission')[1]],\n",
    "                                            Sourceprob[index(clustersdata[4], 'Construction dust')[0]: index(clustersdata[4], 'Construction dust')[1]], 'cityblock')"
   ]
  },
  {
   "cell_type": "code",
   "execution_count": 24,
   "id": "extended-louis",
   "metadata": {},
   "outputs": [],
   "source": [
    "tvdistance10 = 0.5*sp.spatial.distance.cdist(Sourceprob[index(clustersdata[4], 'Urban fugitive dust')[0]: index(clustersdata[4], 'Urban fugitive dust')[1]],\n",
    "                                             Sourceprob[index(clustersdata[4], 'Construction dust')[0]: index(clustersdata[4], 'Construction dust')[1]], 'cityblock')"
   ]
  },
  {
   "cell_type": "code",
   "execution_count": 25,
   "id": "continuing-table",
   "metadata": {},
   "outputs": [],
   "source": [
    "tvdistance11 = 0.5*sp.spatial.distance.cdist(Sourceprob[index(clustersdata[4], 'Car exhaust')[0]: index(clustersdata[4], 'Car exhaust')[1]], \n",
    "                                             Sourceprob[index(clustersdata[4], 'Construction dust')[0]: index(clustersdata[4], 'Construction dust')[1]], 'cityblock')"
   ]
  },
  {
   "cell_type": "code",
   "execution_count": 26,
   "id": "economic-interview",
   "metadata": {},
   "outputs": [],
   "source": [
    "tvdistance12 = 0.5*sp.spatial.distance.cdist(Sourceprob[index(clustersdata[4], 'Biomass')[0]: index(clustersdata[4], 'Biomass')[1]],\n",
    "                                             Sourceprob[index(clustersdata[4], 'Construction dust')[0]: index(clustersdata[4], 'Construction dust')[1]], 'cityblock')"
   ]
  },
  {
   "cell_type": "code",
   "execution_count": 27,
   "id": "catholic-purchase",
   "metadata": {},
   "outputs": [],
   "source": [
    "tvdistance13 = 0.5*sp.spatial.distance.cdist(Sourceprob[index(clustersdata[4], 'Coal burning')[0]: index(clustersdata[4], 'Coal burning')[1]],\n",
    "                                             Sourceprob[index(clustersdata[4], 'Construction dust')[0]: index(clustersdata[4], 'Construction dust')[1]], 'cityblock')"
   ]
  },
  {
   "cell_type": "code",
   "execution_count": 29,
   "id": "coordinated-warren",
   "metadata": {},
   "outputs": [],
   "source": [
    "tvdistance14 = 0.5*sp.spatial.distance.cdist(Sourceprob[index(clustersdata[4], 'Construction dust')[0]: index(clustersdata[4], 'Construction dust')[1]],\n",
    "                                             Sourceprob[index(clustersdata[4], 'Construction dust')[0]: index(clustersdata[4], 'Construction dust')[1]], 'cityblock')"
   ]
  },
  {
   "cell_type": "code",
   "execution_count": 30,
   "id": "owned-algeria",
   "metadata": {},
   "outputs": [],
   "source": [
    "tvaverage8 = np.average(tvdistance8)"
   ]
  },
  {
   "cell_type": "code",
   "execution_count": 31,
   "id": "persistent-guidance",
   "metadata": {},
   "outputs": [],
   "source": [
    "tvaverage9 = np.average(tvdistance9)"
   ]
  },
  {
   "cell_type": "code",
   "execution_count": 32,
   "id": "under-mechanism",
   "metadata": {},
   "outputs": [],
   "source": [
    "tvaverage10 = np.average(tvdistance10)"
   ]
  },
  {
   "cell_type": "code",
   "execution_count": 33,
   "id": "remarkable-connectivity",
   "metadata": {},
   "outputs": [],
   "source": [
    "tvaverage11 = np.average(tvdistance11)"
   ]
  },
  {
   "cell_type": "code",
   "execution_count": 34,
   "id": "romantic-celebration",
   "metadata": {},
   "outputs": [],
   "source": [
    "tvaverage12 = np.average(tvdistance12)"
   ]
  },
  {
   "cell_type": "code",
   "execution_count": 35,
   "id": "concerned-stupid",
   "metadata": {},
   "outputs": [],
   "source": [
    "tvaverage13 = np.average(tvdistance13)"
   ]
  },
  {
   "cell_type": "code",
   "execution_count": 36,
   "id": "foreign-daughter",
   "metadata": {},
   "outputs": [],
   "source": [
    "tvaverage14 = np.average(tvdistance14)"
   ]
  },
  {
   "cell_type": "code",
   "execution_count": 37,
   "id": "earned-species",
   "metadata": {},
   "outputs": [],
   "source": [
    "tvdistance15 = 0.5*sp.spatial.distance.cdist(Sourceprob[index(clustersdata[4], 'Construction sand')[0]: index(clustersdata[4], 'Construction sand')[1]],\n",
    "                                             Sourceprob[index(clustersdata[4], 'Industrial emission')[0]: index(clustersdata[4], 'Industrial emission')[1]], 'cityblock')"
   ]
  },
  {
   "cell_type": "code",
   "execution_count": 38,
   "id": "infrared-institute",
   "metadata": {},
   "outputs": [],
   "source": [
    "tvdistance16 = 0.5*sp.spatial.distance.cdist(Sourceprob[index(clustersdata[4], 'Construction sand')[0]: index(clustersdata[4], 'Construction sand')[1]],\n",
    "                                             Sourceprob[index(clustersdata[4], 'Urban fugitive dust')[0]: index(clustersdata[4], 'Urban fugitive dust')[1]], 'cityblock')"
   ]
  },
  {
   "cell_type": "code",
   "execution_count": 39,
   "id": "associate-poker",
   "metadata": {},
   "outputs": [],
   "source": [
    "tvdistance17 = 0.5*sp.spatial.distance.cdist(Sourceprob[index(clustersdata[4], 'Construction sand')[0]: index(clustersdata[4], 'Construction sand')[1]],\n",
    "                                             Sourceprob[index(clustersdata[4], 'Car exhaust')[0]: index(clustersdata[4], 'Car exhaust')[1]], 'cityblock')"
   ]
  },
  {
   "cell_type": "code",
   "execution_count": 40,
   "id": "opposed-organic",
   "metadata": {},
   "outputs": [],
   "source": [
    "tvdistance18 = 0.5*sp.spatial.distance.cdist(Sourceprob[index(clustersdata[4], 'Construction sand')[0]: index(clustersdata[4], 'Construction sand')[1]],\n",
    "                                             Sourceprob[index(clustersdata[4], 'Biomass')[0]: index(clustersdata[4], 'Biomass')[1]], 'cityblock')"
   ]
  },
  {
   "cell_type": "code",
   "execution_count": 41,
   "id": "otherwise-skating",
   "metadata": {},
   "outputs": [],
   "source": [
    "tvdistance19 = 0.5*sp.spatial.distance.cdist(Sourceprob[index(clustersdata[4], 'Construction sand')[0]: index(clustersdata[4], 'Construction sand')[1]],\n",
    "                                             Sourceprob[index(clustersdata[4], 'Coal burning')[0]: index(clustersdata[4], 'Coal burning')[1]], 'cityblock')"
   ]
  },
  {
   "cell_type": "code",
   "execution_count": 43,
   "id": "opposite-hamilton",
   "metadata": {},
   "outputs": [],
   "source": [
    "tvdistance20 = 0.5*sp.spatial.distance.cdist(Sourceprob[index(clustersdata[4], 'Construction sand')[0]: index(clustersdata[4], 'Construction sand')[1]],\n",
    "                                             Sourceprob[index(clustersdata[4], 'Construction sand')[0]: index(clustersdata[4], 'Construction sand')[1]], 'cityblock')"
   ]
  },
  {
   "cell_type": "code",
   "execution_count": 44,
   "id": "english-moses",
   "metadata": {},
   "outputs": [],
   "source": [
    "tvaverage15 = np.average(tvdistance15)"
   ]
  },
  {
   "cell_type": "code",
   "execution_count": 45,
   "id": "difficult-assignment",
   "metadata": {},
   "outputs": [],
   "source": [
    "tvaverage16 = np.average(tvdistance16)"
   ]
  },
  {
   "cell_type": "code",
   "execution_count": 46,
   "id": "editorial-trust",
   "metadata": {},
   "outputs": [],
   "source": [
    "tvaverage17 = np.average(tvdistance17)"
   ]
  },
  {
   "cell_type": "code",
   "execution_count": 47,
   "id": "breeding-serve",
   "metadata": {},
   "outputs": [],
   "source": [
    "tvaverage18 = np.average(tvdistance18)"
   ]
  },
  {
   "cell_type": "code",
   "execution_count": 48,
   "id": "equal-winter",
   "metadata": {},
   "outputs": [],
   "source": [
    "tvaverage19 = np.average(tvdistance19)"
   ]
  },
  {
   "cell_type": "code",
   "execution_count": 49,
   "id": "relevant-surface",
   "metadata": {},
   "outputs": [],
   "source": [
    "tvaverage20 = np.average(tvdistance20)"
   ]
  },
  {
   "cell_type": "code",
   "execution_count": 51,
   "id": "southern-increase",
   "metadata": {},
   "outputs": [],
   "source": [
    "tvdistance21 = 0.5*sp.spatial.distance.cdist(Sourceprob[index(clustersdata[4], 'Urban fugitive dust')[0]: index(clustersdata[4], 'Urban fugitive dust')[1]],\n",
    "                                             Sourceprob[index(clustersdata[4], 'Industrial emission')[0]: index(clustersdata[4], 'Industrial emission')[1]], 'cityblock')"
   ]
  },
  {
   "cell_type": "code",
   "execution_count": 52,
   "id": "every-emission",
   "metadata": {},
   "outputs": [],
   "source": [
    "tvdistance22 = 0.5*sp.spatial.distance.cdist(Sourceprob[index(clustersdata[4], 'Car exhaust')[0]: index(clustersdata[4], 'Car exhaust')[1]],\n",
    "                                             Sourceprob[index(clustersdata[4], 'Industrial emission')[0]: index(clustersdata[4], 'Industrial emission')[1]], 'cityblock')"
   ]
  },
  {
   "cell_type": "code",
   "execution_count": 53,
   "id": "postal-missile",
   "metadata": {},
   "outputs": [],
   "source": [
    "tvdistance23 = 0.5*sp.spatial.distance.cdist(Sourceprob[index(clustersdata[4], 'Biomass')[0]: index(clustersdata[4], 'Biomass')[1]],\n",
    "                                             Sourceprob[index(clustersdata[4], 'Industrial emission')[0]: index(clustersdata[4], 'Industrial emission')[1]], 'cityblock')"
   ]
  },
  {
   "cell_type": "code",
   "execution_count": 54,
   "id": "greatest-feedback",
   "metadata": {},
   "outputs": [],
   "source": [
    "tvdistance24 = 0.5*sp.spatial.distance.cdist(Sourceprob[index(clustersdata[4], 'Coal burning')[0]: index(clustersdata[4], 'Coal burning')[1]],\n",
    "                                             Sourceprob[index(clustersdata[4], 'Industrial emission')[0]: index(clustersdata[4], 'Industrial emission')[1]], 'cityblock')"
   ]
  },
  {
   "cell_type": "code",
   "execution_count": 56,
   "id": "challenging-wright",
   "metadata": {},
   "outputs": [],
   "source": [
    "tvdistance25 = 0.5*sp.spatial.distance.cdist(Sourceprob[index(clustersdata[4], 'Industrial emission')[0]: index(clustersdata[4], 'Industrial emission')[1]],\n",
    "                                             Sourceprob[index(clustersdata[4], 'Industrial emission')[0]: index(clustersdata[4], 'Industrial emission')[1]], 'cityblock')"
   ]
  },
  {
   "cell_type": "code",
   "execution_count": 57,
   "id": "subject-visit",
   "metadata": {},
   "outputs": [],
   "source": [
    "tvaverage21 = np.average(tvdistance21)"
   ]
  },
  {
   "cell_type": "code",
   "execution_count": 58,
   "id": "synthetic-capability",
   "metadata": {},
   "outputs": [],
   "source": [
    "tvaverage22 = np.average(tvdistance22)"
   ]
  },
  {
   "cell_type": "code",
   "execution_count": 59,
   "id": "through-questionnaire",
   "metadata": {},
   "outputs": [],
   "source": [
    "tvaverage23 = np.average(tvdistance23)"
   ]
  },
  {
   "cell_type": "code",
   "execution_count": 60,
   "id": "detected-homework",
   "metadata": {},
   "outputs": [],
   "source": [
    "tvaverage24 = np.average(tvdistance24)"
   ]
  },
  {
   "cell_type": "code",
   "execution_count": 61,
   "id": "julian-breakfast",
   "metadata": {},
   "outputs": [],
   "source": [
    "tvaverage25 = np.average(tvdistance25)"
   ]
  },
  {
   "cell_type": "code",
   "execution_count": 62,
   "id": "proof-livestock",
   "metadata": {},
   "outputs": [],
   "source": [
    "tvdistance26 = 0.5*sp.spatial.distance.cdist(Sourceprob[index(clustersdata[4], 'Urban fugitive dust')[0]: index(clustersdata[4], 'Urban fugitive dust')[1]],\n",
    "                                             Sourceprob[index(clustersdata[4], 'Car exhaust')[0]: index(clustersdata[4], 'Car exhaust')[1]], 'cityblock')"
   ]
  },
  {
   "cell_type": "code",
   "execution_count": 63,
   "id": "prescribed-cologne",
   "metadata": {},
   "outputs": [],
   "source": [
    "tvdistance27 = 0.5*sp.spatial.distance.cdist(Sourceprob[index(clustersdata[4], 'Urban fugitive dust')[0]: index(clustersdata[4], 'Urban fugitive dust')[1]],\n",
    "                                             Sourceprob[index(clustersdata[4], 'Biomass')[0]: index(clustersdata[4], 'Biomass')[1]], 'cityblock')"
   ]
  },
  {
   "cell_type": "code",
   "execution_count": 64,
   "id": "median-gallery",
   "metadata": {},
   "outputs": [],
   "source": [
    "tvdistance28 = 0.5*sp.spatial.distance.cdist(Sourceprob[index(clustersdata[4], 'Urban fugitive dust')[0]: index(clustersdata[4], 'Urban fugitive dust')[1]],\n",
    "                                             Sourceprob[index(clustersdata[4], 'Coal burning')[0]: index(clustersdata[4], 'Coal burning')[1]], 'cityblock')"
   ]
  },
  {
   "cell_type": "code",
   "execution_count": 65,
   "id": "rental-purple",
   "metadata": {},
   "outputs": [],
   "source": [
    "tvdistance29 = 0.5*sp.spatial.distance.cdist(Sourceprob[index(clustersdata[4], 'Urban fugitive dust')[0]: index(clustersdata[4], 'Urban fugitive dust')[1]],\n",
    "                                             Sourceprob[index(clustersdata[4], 'Urban fugitive dust')[0]: index(clustersdata[4], 'Urban fugitive dust')[1]], 'cityblock')"
   ]
  },
  {
   "cell_type": "code",
   "execution_count": 66,
   "id": "agricultural-finding",
   "metadata": {},
   "outputs": [],
   "source": [
    "tvaverage26 = np.average(tvdistance26)"
   ]
  },
  {
   "cell_type": "code",
   "execution_count": 67,
   "id": "deluxe-parish",
   "metadata": {},
   "outputs": [],
   "source": [
    "tvaverage27 = np.average(tvdistance27)"
   ]
  },
  {
   "cell_type": "code",
   "execution_count": 68,
   "id": "premier-witch",
   "metadata": {},
   "outputs": [],
   "source": [
    "tvaverage28 = np.average(tvdistance28)"
   ]
  },
  {
   "cell_type": "code",
   "execution_count": 69,
   "id": "weekly-rider",
   "metadata": {},
   "outputs": [],
   "source": [
    "tvaverage29 = np.average(tvdistance29)"
   ]
  },
  {
   "cell_type": "code",
   "execution_count": 70,
   "id": "leading-capitol",
   "metadata": {},
   "outputs": [],
   "source": [
    "tvdistance30 = 0.5*sp.spatial.distance.cdist(Sourceprob[index(clustersdata[4], 'Car exhaust')[0]: index(clustersdata[4], 'Car exhaust')[1]],\n",
    "                                             Sourceprob[index(clustersdata[4], 'Biomass')[0]: index(clustersdata[4], 'Biomass')[1]], 'cityblock')"
   ]
  },
  {
   "cell_type": "code",
   "execution_count": 71,
   "id": "dominant-assumption",
   "metadata": {},
   "outputs": [],
   "source": [
    "tvdistance31 = 0.5*sp.spatial.distance.cdist(Sourceprob[index(clustersdata[4], 'Car exhaust')[0]: index(clustersdata[4], 'Car exhaust')[1]],\n",
    "                                             Sourceprob[index(clustersdata[4], 'Coal burning')[0]: index(clustersdata[4], 'Coal burning')[1]], 'cityblock')"
   ]
  },
  {
   "cell_type": "code",
   "execution_count": 72,
   "id": "olive-checklist",
   "metadata": {},
   "outputs": [],
   "source": [
    "tvdistance32 = 0.5*sp.spatial.distance.cdist(Sourceprob[index(clustersdata[4], 'Car exhaust')[0]: index(clustersdata[4], 'Car exhaust')[1]],\n",
    "                                             Sourceprob[index(clustersdata[4], 'Car exhaust')[0]: index(clustersdata[4], 'Car exhaust')[1]], 'cityblock')"
   ]
  },
  {
   "cell_type": "code",
   "execution_count": 73,
   "id": "numeric-drove",
   "metadata": {},
   "outputs": [],
   "source": [
    "tvaverage30 = np.average(tvdistance30)"
   ]
  },
  {
   "cell_type": "code",
   "execution_count": 74,
   "id": "subject-aviation",
   "metadata": {},
   "outputs": [],
   "source": [
    "tvaverage31 = np.average(tvdistance31)"
   ]
  },
  {
   "cell_type": "code",
   "execution_count": 75,
   "id": "measured-progress",
   "metadata": {},
   "outputs": [],
   "source": [
    "tvaverage32 = np.average(tvdistance32)"
   ]
  },
  {
   "cell_type": "code",
   "execution_count": 76,
   "id": "selected-johnson",
   "metadata": {},
   "outputs": [],
   "source": [
    "tvdistance33 = 0.5*sp.spatial.distance.cdist(Sourceprob[index(clustersdata[4], 'Biomass')[0]: index(clustersdata[4], 'Biomass')[1]],\n",
    "                                             Sourceprob[index(clustersdata[4], 'Coal burning')[0]: index(clustersdata[4], 'Coal burning')[1]], 'cityblock')"
   ]
  },
  {
   "cell_type": "code",
   "execution_count": 77,
   "id": "abandoned-tackle",
   "metadata": {},
   "outputs": [],
   "source": [
    "tvdistance34 = 0.5*sp.spatial.distance.cdist(Sourceprob[index(clustersdata[4], 'Biomass')[0]: index(clustersdata[4], 'Biomass')[1]],\n",
    "                                             Sourceprob[index(clustersdata[4], 'Biomass')[0]: index(clustersdata[4], 'Biomass')[1]], 'cityblock')"
   ]
  },
  {
   "cell_type": "code",
   "execution_count": 78,
   "id": "acquired-credits",
   "metadata": {},
   "outputs": [],
   "source": [
    "tvaverage33 = np.average(tvdistance33)"
   ]
  },
  {
   "cell_type": "code",
   "execution_count": 79,
   "id": "naughty-penetration",
   "metadata": {},
   "outputs": [],
   "source": [
    "tvaverage34 = np.average(tvdistance34)"
   ]
  },
  {
   "cell_type": "code",
   "execution_count": 80,
   "id": "caring-active",
   "metadata": {},
   "outputs": [],
   "source": [
    "tvdistance35 = 0.5*sp.spatial.distance.cdist(Sourceprob[index(clustersdata[4], 'Coal burning')[0]: index(clustersdata[4], 'Coal burning')[1]],\n",
    "                                             Sourceprob[index(clustersdata[4], 'Coal burning')[0]: index(clustersdata[4], 'Coal burning')[1]], 'cityblock')"
   ]
  },
  {
   "cell_type": "code",
   "execution_count": 81,
   "id": "standard-commissioner",
   "metadata": {},
   "outputs": [],
   "source": [
    "tvaverage35 = np.average(tvdistance35)"
   ]
  },
  {
   "cell_type": "code",
   "execution_count": 82,
   "id": "agreed-cowboy",
   "metadata": {},
   "outputs": [],
   "source": [
    "#group everything together\n",
    "soildust = [tvaverage, tvaverage1, tvaverage2, tvaverage3, tvaverage4, tvaverage5, tvaverage6, tvaverage7]\n",
    "consdust = [tvaverage1, tvaverage14, tvaverage8, tvaverage9, tvaverage10, tvaverage11, tvaverage12, tvaverage13]\n",
    "conssand = [tvaverage2, tvaverage8, tvaverage20, tvaverage15, tvaverage16, tvaverage17, tvaverage18, tvaverage19]\n",
    "indemission  = [tvaverage3, tvaverage9, tvaverage15, tvaverage25, tvaverage21, tvaverage22, tvaverage23, tvaverage24]\n",
    "urbfugdust = [tvaverage4, tvaverage10, tvaverage16, tvaverage21, tvaverage29, tvaverage26, tvaverage27, tvaverage28]\n",
    "carexhaust = [tvaverage5, tvaverage11, tvaverage17, tvaverage22, tvaverage26, tvaverage32, tvaverage30, tvaverage31]\n",
    "biomass = [tvaverage6, tvaverage12, tvaverage18, tvaverage23, tvaverage27, tvaverage30, tvaverage34, tvaverage33]\n",
    "coalburning = [tvaverage7, tvaverage13, tvaverage19, tvaverage24, tvaverage28, tvaverage31, tvaverage33, tvaverage35]\n",
    "\n",
    "totalaverage = [soildust, consdust, conssand, indemission, urbfugdust, carexhaust, biomass, coalburning]"
   ]
  },
  {
   "cell_type": "code",
   "execution_count": 83,
   "id": "organized-correspondence",
   "metadata": {},
   "outputs": [
    {
     "data": {
      "text/plain": [
       "<AxesSubplot:>"
      ]
     },
     "execution_count": 83,
     "metadata": {},
     "output_type": "execute_result"
    },
    {
     "data": {
      "image/png": "[encoded data removed]",
      "text/plain": [
       "<Figure size 432x288 with 2 Axes>"
      ]
     },
     "metadata": {
      "needs_background": "light"
     },
     "output_type": "display_data"
    }
   ],
   "source": [
    "Index = ['Soil dust', 'Construction dust', 'Construction Sand', 'Industrial Emission', 'Urban Fugitive Dust', 'Car Exhaust', 'Biomass', 'Coal burning']\n",
    "sns.heatmap(pd.DataFrame(totalaverage, index = Index, columns = Index))"
   ]
  },
  {
   "cell_type": "code",
   "execution_count": 84,
   "id": "optical-proceeding",
   "metadata": {},
   "outputs": [],
   "source": [
    "#save object\n",
    "def save_object(obj, filename):\n",
    "    with open(filename, 'wb') as output:  # Overwrites any existing file.\n",
    "        pickle.dump(obj, output, pickle.HIGHEST_PROTOCOL)"
   ]
  },
  {
   "cell_type": "code",
   "execution_count": 85,
   "id": "nearby-biography",
   "metadata": {},
   "outputs": [],
   "source": [
    "save_object(totalaverage, 'outputdata/totalvariationavgsourceheatmap.pkl')"
   ]
  },
  {
   "cell_type": "markdown",
   "id": "connected-chick",
   "metadata": {},
   "source": [
    "# Get the Percentage particle allocated to component by max probability value"
   ]
  },
  {
   "cell_type": "code",
   "execution_count": 87,
   "id": "determined-cabin",
   "metadata": {},
   "outputs": [],
   "source": [
    "soildustconf = np.zeros(Sourceprob[index(clustersdata[4], 'Soil dust')[0]: index(clustersdata[4], 'Soil dust')[1]].shape)\n",
    "consdustconf = np.zeros(Sourceprob[index(clustersdata[4], 'Construction dust')[0]: index(clustersdata[4], 'Construction dust')[1]].shape)\n",
    "conssandconf = np.zeros(Sourceprob[index(clustersdata[4], 'Construction sand')[0]: index(clustersdata[4], 'Construction sand')[1]].shape)\n",
    "indemissionconf = np.zeros(Sourceprob[index(clustersdata[4], 'Industrial emission')[0]: index(clustersdata[4], 'Industrial emission')[1]].shape)\n",
    "urbfugdustconf = np.zeros(Sourceprob[index(clustersdata[4], 'Urban fugitive dust')[0]: index(clustersdata[4], 'Urban fugitive dust')[1]].shape)\n",
    "carexhaustconf = np.zeros(Sourceprob[index(clustersdata[4], 'Car exhaust')[0]: index(clustersdata[4], 'Car exhaust')[1]].shape)\n",
    "biomassconf = np.zeros(Sourceprob[index(clustersdata[4], 'Biomass')[0]: index(clustersdata[4], 'Biomass')[1]].shape)\n",
    "coalburningconf = np.zeros(Sourceprob[index(clustersdata[4], 'Coal burning')[0]: index(clustersdata[4], 'Coal burning')[1]].shape)"
   ]
  },
  {
   "cell_type": "code",
   "execution_count": 88,
   "id": "logical-heath",
   "metadata": {},
   "outputs": [],
   "source": [
    "indexconf = ['Soil dust', 'Construction dust', 'Construction sand', 'Industrial emission', 'Urban fugitive dust', 'Car exhaust', 'Biomass', 'Coal burning']\n",
    "conflist = [soildustconf, consdustconf, conssandconf, indemissionconf, urbfugdustconf, carexhaustconf, biomassconf, coalburningconf]"
   ]
  },
  {
   "cell_type": "code",
   "execution_count": 89,
   "id": "urban-sculpture",
   "metadata": {},
   "outputs": [
    {
     "name": "stdout",
     "output_type": "stream",
     "text": [
      "Soil dust\n",
      "Construction dust\n",
      "Construction sand\n",
      "Industrial emission\n",
      "Urban fugitive dust\n",
      "Car exhaust\n",
      "Biomass\n",
      "Coal burning\n"
     ]
    }
   ],
   "source": [
    "for indexm, matrix in zip(indexconf, conflist):\n",
    "    print(indexm)\n",
    "    intermediateargmax = Sourceprob[index(clustersdata[4], indexm)[0]: index(clustersdata[4], indexm)[1]].argmax(axis=1)\n",
    "    intermediatemax = Sourceprob[index(clustersdata[4], indexm)[0]: index(clustersdata[4], indexm)[1]].max(axis=1)\n",
    "    for i in np.arange(0, len(matrix)):\n",
    "        matrix[i, intermediateargmax[i]] = intermediatemax[i]"
   ]
  },
  {
   "cell_type": "code",
   "execution_count": 90,
   "id": "brutal-details",
   "metadata": {},
   "outputs": [],
   "source": [
    "#find the average and the count for every component\n",
    "confcountcomb = np.zeros([8, 30])\n",
    "confavgcomb = np.zeros([8, 30])\n",
    "for ind, conf in enumerate(conflist):\n",
    "    confcount = np.zeros([1,30])\n",
    "    for i in np.arange(0, 30):\n",
    "        confcount[:,i] = len(conf[:,i][np.nonzero(conf[:,i])])/len(conf)\n",
    "\n",
    "    confaverage = np.zeros([1,30])\n",
    "    for i in np.arange(0, 30):\n",
    "        confaverage[:,i] = np.average(conf[:,i][np.nonzero(conf[:,i])])\n",
    "    confcountcomb[ind] = confcount\n",
    "    confavgcomb[ind] = confaverage"
   ]
  },
  {
   "cell_type": "markdown",
   "id": "designing-respect",
   "metadata": {},
   "source": [
    "# Percentage in each component respect to source"
   ]
  },
  {
   "cell_type": "code",
   "execution_count": 91,
   "id": "vocational-damage",
   "metadata": {},
   "outputs": [
    {
     "data": {
      "text/plain": [
       "<AxesSubplot:>"
      ]
     },
     "execution_count": 91,
     "metadata": {},
     "output_type": "execute_result"
    },
    {
     "data": {
      "image/png": "[encoded data removed]",
      "text/plain": [
       "<Figure size 1584x360 with 2 Axes>"
      ]
     },
     "metadata": {
      "needs_background": "light"
     },
     "output_type": "display_data"
    }
   ],
   "source": [
    "fig = plt.figure(figsize = (22,5))\n",
    "sns.heatmap(pd.DataFrame(confcountcomb, index = indexconf, columns = np.arange(1,31)))"
   ]
  },
  {
   "cell_type": "markdown",
   "id": "simple-console",
   "metadata": {},
   "source": [
    "# Confidence of the max probability with respect to each source"
   ]
  },
  {
   "cell_type": "code",
   "execution_count": 92,
   "id": "compound-arrow",
   "metadata": {},
   "outputs": [
    {
     "data": {
      "text/plain": [
       "<AxesSubplot:>"
      ]
     },
     "execution_count": 92,
     "metadata": {},
     "output_type": "execute_result"
    },
    {
     "data": {
      "image/png": "[encoded data removed]",
      "text/plain": [
       "<Figure size 1584x360 with 2 Axes>"
      ]
     },
     "metadata": {
      "needs_background": "light"
     },
     "output_type": "display_data"
    }
   ],
   "source": [
    "fig = plt.figure(figsize = (22,5))\n",
    "sns.heatmap(pd.DataFrame(confavgcomb, index = indexconf, columns = np.arange(1,31)))"
   ]
  },
  {
   "cell_type": "code",
   "execution_count": 7,
   "id": "faced-karaoke",
   "metadata": {},
   "outputs": [],
   "source": [
    "#create a total variation matrix for 1st sample Qian 2016\n",
    "tvdistanceQian20161 = []\n",
    "for j in Qian2016keys:\n",
    "    tvmid = []\n",
    "    for i in Sourcekeys:\n",
    "        tvmid.append(0.5*sp.spatial.distance.cdist(Qian2016prob[index(clustersdata[0], j)[0]: index(clustersdata[0], j)[1]],\n",
    "                                                  Sourceprob[index(clustersdata[4], i)[0]: index(clustersdata[4], i)[1]], 'cityblock'))\n",
    "    tvdistanceQian20161.append(tvmid)"
   ]
  },
  {
   "cell_type": "code",
   "execution_count": 13,
   "id": "killing-helena",
   "metadata": {},
   "outputs": [],
   "source": [
    "Qian2016avg = np.zeros([2130, 8])\n",
    "for i,j in enumerate(tvdistanceQian20161[0]):\n",
    "    Qian2016avg[:,i] = np.average(j, axis = 1)"
   ]
  },
  {
   "cell_type": "code",
   "execution_count": 14,
   "id": "funky-southeast",
   "metadata": {},
   "outputs": [
    {
     "data": {
      "text/plain": [
       "array([4, 4, 4, ..., 3, 3, 5], dtype=int64)"
      ]
     },
     "execution_count": 14,
     "metadata": {},
     "output_type": "execute_result"
    }
   ],
   "source": [
    "#get the maximum for each source\n",
    "Qian2016avg.argmin(axis=1)"
   ]
  },
  {
   "cell_type": "code",
   "execution_count": 25,
   "id": "coated-veteran",
   "metadata": {},
   "outputs": [
    {
     "data": {
      "text/plain": [
       "array(['Industrial emission', 'Industrial emission',\n",
       "       'Industrial emission', ..., 'Coal burning', 'Coal burning',\n",
       "       'Urban fugitive dust'], dtype='<U19')"
      ]
     },
     "execution_count": 25,
     "metadata": {},
     "output_type": "execute_result"
    }
   ],
   "source": [
    "#get the corresponding keys\n",
    "np.array([Sourcekeys[i] for i in Qian2016avg.argmin(axis=1)])"
   ]
  },
  {
   "cell_type": "code",
   "execution_count": 26,
   "id": "freelance-emergency",
   "metadata": {},
   "outputs": [],
   "source": [
    "#get the counts and unique sources\n",
    "unique, unique_counts = np.unique(np.array([Sourcekeys[i] for i in Qian2016avg.argmin(axis=1)]), return_counts = True)"
   ]
  },
  {
   "cell_type": "code",
   "execution_count": 27,
   "id": "adequate-republican",
   "metadata": {},
   "outputs": [
    {
     "data": {
      "image/png": "[encoded data removed]",
      "text/plain": [
       "<Figure size 432x288 with 1 Axes>"
      ]
     },
     "metadata": {},
     "output_type": "display_data"
    }
   ],
   "source": [
    "plt.pie(unique_counts/unique_counts.sum(), labels = unique)\n",
    "plt.show()"
   ]
  },
  {
   "cell_type": "code",
   "execution_count": 21,
   "id": "looking-builder",
   "metadata": {},
   "outputs": [],
   "source": [
    "Qian2016avgconf = np.zeros([len(Qian2016avg), 8])"
   ]
  },
  {
   "cell_type": "code",
   "execution_count": 22,
   "id": "several-handbook",
   "metadata": {},
   "outputs": [],
   "source": [
    "#just get the minimum distance values\n",
    "for (index, maxi), argmaxi in zip(enumerate(Qian2016avg.min(axis=1)), Qian2016avg.argmin(axis=1)):\n",
    "    Qian2016avgconf[index, argmaxi] = maxi"
   ]
  },
  {
   "cell_type": "code",
   "execution_count": 23,
   "id": "opponent-crazy",
   "metadata": {},
   "outputs": [
    {
     "name": "stderr",
     "output_type": "stream",
     "text": [
      "C:\\Users\\Garret Bland\\Anaconda\\envs\\TOF classification\\lib\\site-packages\\numpy\\lib\\function_base.py:380: RuntimeWarning: Mean of empty slice.\n",
      "  avg = a.mean(axis)\n",
      "C:\\Users\\Garret Bland\\Anaconda\\envs\\TOF classification\\lib\\site-packages\\numpy\\core\\_methods.py:170: RuntimeWarning: invalid value encountered in double_scalars\n",
      "  ret = ret.dtype.type(ret / rcount)\n",
      "C:\\Users\\Garret Bland\\Anaconda\\envs\\TOF classification\\lib\\site-packages\\numpy\\core\\_methods.py:233: RuntimeWarning: Degrees of freedom <= 0 for slice\n",
      "  ret = _var(a, axis=axis, dtype=dtype, out=out, ddof=ddof,\n",
      "C:\\Users\\Garret Bland\\Anaconda\\envs\\TOF classification\\lib\\site-packages\\numpy\\core\\_methods.py:194: RuntimeWarning: invalid value encountered in true_divide\n",
      "  arrmean = um.true_divide(\n",
      "C:\\Users\\Garret Bland\\Anaconda\\envs\\TOF classification\\lib\\site-packages\\numpy\\core\\_methods.py:226: RuntimeWarning: invalid value encountered in double_scalars\n",
      "  ret = ret.dtype.type(ret / rcount)\n"
     ]
    }
   ],
   "source": [
    "#get average and std distance metrics of the minimum values\n",
    "averagedist = np.array([np.average(Qian2016avgconf[np.nonzero(Qian2016avgconf[:,i]), i]) for i in np.arange(0, len(Sourcekeys))])\n",
    "\n",
    "averagestd = np.array([np.std(Qian2016avgconf[np.nonzero(Qian2016avgconf[:,i]), i]) for i in np.arange(0, len(Sourcekeys))])"
   ]
  },
  {
   "cell_type": "code",
   "execution_count": 24,
   "id": "funky-longer",
   "metadata": {},
   "outputs": [
    {
     "data": {
      "text/plain": [
       "<AxesSubplot:>"
      ]
     },
     "execution_count": 24,
     "metadata": {},
     "output_type": "execute_result"
    },
    {
     "data": {
      "image/png": "[encoded data removed]",
      "text/plain": [
       "<Figure size 1080x216 with 1 Axes>"
      ]
     },
     "metadata": {
      "needs_background": "light"
     },
     "output_type": "display_data"
    }
   ],
   "source": [
    "accumulatelist = [Qian2016avgconf[np.nonzero(Qian2016avgconf[:,i]), i] for i in np.arange(0, len(Sourcekeys))]\n",
    "\n",
    "intermediatelist = []\n",
    "for i in accumulatelist:\n",
    "    intermediatelist.append(i[0])\n",
    "    \n",
    "fig = plt.figure(figsize = (15,3))    \n",
    "sns.boxplot(data = pd.DataFrame(intermediatelist, index = Sourcekeys).T)"
   ]
  },
  {
   "cell_type": "code",
   "execution_count": null,
   "id": "secure-activity",
   "metadata": {},
   "outputs": [],
   "source": []
  }
 ],
 "metadata": {
  "kernelspec": {
   "display_name": "Python 3",
   "language": "python",
   "name": "python3"
  },
  "language_info": {
   "codemirror_mode": {
    "name": "ipython",
    "version": 3
   },
   "file_extension": ".py",
   "mimetype": "text/x-python",
   "name": "python",
   "nbconvert_exporter": "python",
   "pygments_lexer": "ipython3",
   "version": "3.8.5"
  }
 },
 "nbformat": 4,
 "nbformat_minor": 5
}
