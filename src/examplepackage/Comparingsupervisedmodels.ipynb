{
 "cells": [
  {
   "cell_type": "code",
   "execution_count": 1,
   "id": "scheduled-apparatus",
   "metadata": {},
   "outputs": [],
   "source": [
    "%matplotlib inline\n",
    "import math\n",
    "import os \n",
    "import glob\n",
    "import pandas as pd\n",
    "import numpy as np\n",
    "import seaborn as sns\n",
    "import matplotlib.pyplot as plt\n",
    "import matplotlib.colors as cl\n",
    "import matplotlib.ticker as mtick\n",
    "from matplotlib.gridspec import GridSpec\n",
    "import statsmodels.api as sm\n",
    "from pandas import ExcelWriter\n",
    "import pickle\n",
    "import scipy as sp"
   ]
  },
  {
   "cell_type": "code",
   "execution_count": 2,
   "id": "listed-sponsorship",
   "metadata": {},
   "outputs": [],
   "source": [
    "def load_object(filename):\n",
    "    with open(filename, 'rb') as fid:\n",
    "        file = pickle.load(fid)\n",
    "    return file"
   ]
  },
  {
   "cell_type": "code",
   "execution_count": 4,
   "id": "destroyed-pharmacology",
   "metadata": {},
   "outputs": [
    {
     "ename": "FileNotFoundError",
     "evalue": "[Errno 2] No such file or directory: 'models/multipleLDAmodels/Sourcecodes_5.pkl'",
     "output_type": "error",
     "traceback": [
      "\u001b[1;31m---------------------------------------------------------------------------\u001b[0m",
      "\u001b[1;31mFileNotFoundError\u001b[0m                         Traceback (most recent call last)",
      "\u001b[1;32m<ipython-input-4-bd3987df70d3>\u001b[0m in \u001b[0;36m<module>\u001b[1;34m\u001b[0m\n\u001b[0;32m      4\u001b[0m \u001b[0mQianU2019codes\u001b[0m \u001b[1;33m=\u001b[0m \u001b[0mload_object\u001b[0m\u001b[1;33m(\u001b[0m\u001b[1;34m'models/multipleLDAmodels/QianU2019codes_5.pkl'\u001b[0m\u001b[1;33m)\u001b[0m\u001b[1;33m\u001b[0m\u001b[1;33m\u001b[0m\u001b[0m\n\u001b[0;32m      5\u001b[0m \u001b[0mQianR2019codes\u001b[0m \u001b[1;33m=\u001b[0m \u001b[0mload_object\u001b[0m\u001b[1;33m(\u001b[0m\u001b[1;34m'models/multipleLDAmodels/QianR2019codes_5.pkl'\u001b[0m\u001b[1;33m)\u001b[0m\u001b[1;33m\u001b[0m\u001b[1;33m\u001b[0m\u001b[0m\n\u001b[1;32m----> 6\u001b[1;33m \u001b[0mSourcecodes\u001b[0m \u001b[1;33m=\u001b[0m \u001b[0mload_object\u001b[0m\u001b[1;33m(\u001b[0m\u001b[1;34m'models/multipleLDAmodels/Sourcecodes_5.pkl'\u001b[0m\u001b[1;33m)\u001b[0m\u001b[1;33m\u001b[0m\u001b[1;33m\u001b[0m\u001b[0m\n\u001b[0m\u001b[0;32m      7\u001b[0m \u001b[0mSourcetrainingcodes\u001b[0m \u001b[1;33m=\u001b[0m \u001b[0mload_object\u001b[0m\u001b[1;33m(\u001b[0m\u001b[1;34m'models/multipleLDAmodels/Sourcesamples_trainingcodes_5.pkl'\u001b[0m\u001b[1;33m)\u001b[0m\u001b[1;33m\u001b[0m\u001b[1;33m\u001b[0m\u001b[0m\n\u001b[0;32m      8\u001b[0m \u001b[0mSourcetestingcodes\u001b[0m \u001b[1;33m=\u001b[0m \u001b[0mload_object\u001b[0m\u001b[1;33m(\u001b[0m\u001b[1;34m'models/multipleLDAmodels/Sourcesamples_testingcodes_5.pkl'\u001b[0m\u001b[1;33m)\u001b[0m\u001b[1;33m\u001b[0m\u001b[1;33m\u001b[0m\u001b[0m\n",
      "\u001b[1;32m<ipython-input-2-3f1cfab6ab0e>\u001b[0m in \u001b[0;36mload_object\u001b[1;34m(filename)\u001b[0m\n\u001b[0;32m      1\u001b[0m \u001b[1;32mdef\u001b[0m \u001b[0mload_object\u001b[0m\u001b[1;33m(\u001b[0m\u001b[0mfilename\u001b[0m\u001b[1;33m)\u001b[0m\u001b[1;33m:\u001b[0m\u001b[1;33m\u001b[0m\u001b[1;33m\u001b[0m\u001b[0m\n\u001b[1;32m----> 2\u001b[1;33m     \u001b[1;32mwith\u001b[0m \u001b[0mopen\u001b[0m\u001b[1;33m(\u001b[0m\u001b[0mfilename\u001b[0m\u001b[1;33m,\u001b[0m \u001b[1;34m'rb'\u001b[0m\u001b[1;33m)\u001b[0m \u001b[1;32mas\u001b[0m \u001b[0mfid\u001b[0m\u001b[1;33m:\u001b[0m\u001b[1;33m\u001b[0m\u001b[1;33m\u001b[0m\u001b[0m\n\u001b[0m\u001b[0;32m      3\u001b[0m         \u001b[0mfile\u001b[0m \u001b[1;33m=\u001b[0m \u001b[0mpickle\u001b[0m\u001b[1;33m.\u001b[0m\u001b[0mload\u001b[0m\u001b[1;33m(\u001b[0m\u001b[0mfid\u001b[0m\u001b[1;33m)\u001b[0m\u001b[1;33m\u001b[0m\u001b[1;33m\u001b[0m\u001b[0m\n\u001b[0;32m      4\u001b[0m     \u001b[1;32mreturn\u001b[0m \u001b[0mfile\u001b[0m\u001b[1;33m\u001b[0m\u001b[1;33m\u001b[0m\u001b[0m\n",
      "\u001b[1;31mFileNotFoundError\u001b[0m: [Errno 2] No such file or directory: 'models/multipleLDAmodels/Sourcecodes_5.pkl'"
     ]
    }
   ],
   "source": [
    "#load the codes\n",
    "Qian2016codes = load_object('models/multipleLDAmodels/Qian2016codes_5.pkl')\n",
    "Qian2018codes = load_object('models/multipleLDAmodels/Qian2018codes_5.pkl')\n",
    "QianU2019codes = load_object('models/multipleLDAmodels/QianU2019codes_5.pkl')\n",
    "QianR2019codes = load_object('models/multipleLDAmodels/QianR2019codes_5.pkl')\n",
    "Sourcecodes = load_object('models/multipleLDAmodels/Sourcecodes_5.pkl')\n",
    "Sourcetrainingcodes = load_object('models/multipleLDAmodels/Sourcesamples_trainingcodes_5.pkl')\n",
    "Sourcetestingcodes = load_object('models/multipleLDAmodels/Sourcesamples_testingcodes_5.pkl')\n",
    "\n",
    "#Load the DFs\n",
    "Qian2016DF, Qian2016prob, Qian2016keys = load_object('models/multipleLDAmodels/Qian2016DF_5.pkl')\n",
    "Qian2018DF, Qian2018prob, Qian2018keys = load_object('models/multipleLDAmodels/Qian2018DF_5.pkl')\n",
    "QianU2019DF, QianU2019prob, QianU2019keys = load_object('models/multipleLDAmodels/QianU2019DF_5.pkl')\n",
    "QianR2019DF, QianR2019prob, QianR2019keys = load_object('models/multipleLDAmodels/QianR2019DF_5.pkl')\n",
    "SourceDF, Sourceprob, Sourcekeys = load_object('models/multipleLDAmodels/SourceDF_5.pkl')\n",
    "SourcetrainingDF, Sourcetrainingprob, Sourcekeys = load_object('models/multipleLDAmodels/SourcetrainingDF_5.pkl')\n",
    "SourcetestingDF, Sourcetestingprob, Sourcekeys = load_object('models/multipleLDAmodels/SourcetestingDF_5.pkl')\n",
    "\n",
    "clustersdata = [Qian2016DF, Qian2018DF, QianU2019DF, QianR2019DF, SourceDF]\n",
    "probdata = [Qian2016prob, Qian2018prob, QianU2019prob, QianR2019prob, Sourceprob]\n",
    "airkeys = [Qian2016keys, Qian2018keys, QianU2019keys, QianR2019keys, Sourcekeys]"
   ]
  },
  {
   "cell_type": "code",
   "execution_count": 28,
   "id": "interstate-majority",
   "metadata": {},
   "outputs": [],
   "source": [
    "Train = SourcetrainingDF.iloc[:,:-3]\n",
    "TrainLabels = SourcetrainingDF['labels']\n",
    "Test = SourcetestingDF.iloc[:,:-3]\n",
    "TestLabels = SourcetestingDF['labels']\n",
    "\n",
    "Train_codes = Sourcetrainingcodes\n",
    "Test_codes = Sourcetestingcodes\n",
    "\n",
    "Train_prob = Sourcetrainingprob\n",
    "Test_prob = Sourcetestingprob"
   ]
  },
  {
   "cell_type": "markdown",
   "id": "concerned-company",
   "metadata": {},
   "source": [
    "# Logistic Regression"
   ]
  },
  {
   "cell_type": "markdown",
   "id": "perfect-graduation",
   "metadata": {},
   "source": [
    "## Raw Data"
   ]
  },
  {
   "cell_type": "code",
   "execution_count": 29,
   "id": "editorial-encoding",
   "metadata": {},
   "outputs": [],
   "source": [
    "from sklearn.linear_model import LogisticRegression\n",
    "\n",
    "\n",
    "\n",
    "clf = LogisticRegression().fit(Train, TrainLabels)"
   ]
  },
  {
   "cell_type": "code",
   "execution_count": 30,
   "id": "bulgarian-profession",
   "metadata": {},
   "outputs": [
    {
     "data": {
      "text/plain": [
       "0.18761400156345"
      ]
     },
     "execution_count": 30,
     "metadata": {},
     "output_type": "execute_result"
    }
   ],
   "source": [
    "clf.score(Test, TestLabels)"
   ]
  },
  {
   "cell_type": "code",
   "execution_count": 31,
   "id": "affected-container",
   "metadata": {},
   "outputs": [
    {
     "data": {
      "text/plain": [
       "0.18761811665037473"
      ]
     },
     "execution_count": 31,
     "metadata": {},
     "output_type": "execute_result"
    }
   ],
   "source": [
    "clf.score(Train, TrainLabels)"
   ]
  },
  {
   "cell_type": "markdown",
   "id": "needed-supplement",
   "metadata": {},
   "source": [
    "## Codes"
   ]
  },
  {
   "cell_type": "code",
   "execution_count": 32,
   "id": "adapted-matrix",
   "metadata": {},
   "outputs": [
    {
     "name": "stderr",
     "output_type": "stream",
     "text": [
      "C:\\Users\\Garret Bland\\Anaconda\\envs\\TOF classification\\lib\\site-packages\\sklearn\\linear_model\\_logistic.py:762: ConvergenceWarning: lbfgs failed to converge (status=1):\n",
      "STOP: TOTAL NO. of ITERATIONS REACHED LIMIT.\n",
      "\n",
      "Increase the number of iterations (max_iter) or scale the data as shown in:\n",
      "    https://scikit-learn.org/stable/modules/preprocessing.html\n",
      "Please also refer to the documentation for alternative solver options:\n",
      "    https://scikit-learn.org/stable/modules/linear_model.html#logistic-regression\n",
      "  n_iter_i = _check_optimize_result(\n"
     ]
    },
    {
     "name": "stdout",
     "output_type": "stream",
     "text": [
      "[0.40293581169113174, 0.4212664277180406]\n"
     ]
    }
   ],
   "source": [
    "clf = LogisticRegression().fit(Train_codes, TrainLabels)\n",
    "\n",
    "print([clf.score(Test_codes, TestLabels), clf.score(Train_codes, TrainLabels)])"
   ]
  },
  {
   "cell_type": "markdown",
   "id": "comparable-button",
   "metadata": {},
   "source": [
    "## LDA"
   ]
  },
  {
   "cell_type": "code",
   "execution_count": 33,
   "id": "proved-exhibit",
   "metadata": {},
   "outputs": [
    {
     "name": "stdout",
     "output_type": "stream",
     "text": [
      "[0.3441327195344393, 0.3401325078744434]\n"
     ]
    },
    {
     "name": "stderr",
     "output_type": "stream",
     "text": [
      "C:\\Users\\Garret Bland\\Anaconda\\envs\\TOF classification\\lib\\site-packages\\sklearn\\linear_model\\_logistic.py:762: ConvergenceWarning: lbfgs failed to converge (status=1):\n",
      "STOP: TOTAL NO. of ITERATIONS REACHED LIMIT.\n",
      "\n",
      "Increase the number of iterations (max_iter) or scale the data as shown in:\n",
      "    https://scikit-learn.org/stable/modules/preprocessing.html\n",
      "Please also refer to the documentation for alternative solver options:\n",
      "    https://scikit-learn.org/stable/modules/linear_model.html#logistic-regression\n",
      "  n_iter_i = _check_optimize_result(\n"
     ]
    }
   ],
   "source": [
    "clf = LogisticRegression().fit(Train_prob, TrainLabels)\n",
    "\n",
    "print([clf.score(Test_prob, TestLabels), clf.score(Train_prob, TrainLabels)])"
   ]
  },
  {
   "cell_type": "markdown",
   "id": "labeled-gasoline",
   "metadata": {},
   "source": [
    "# Neural Network"
   ]
  },
  {
   "cell_type": "markdown",
   "id": "optimum-release",
   "metadata": {},
   "source": [
    "## Raw Data"
   ]
  },
  {
   "cell_type": "code",
   "execution_count": 34,
   "id": "handled-group",
   "metadata": {},
   "outputs": [],
   "source": [
    "from sklearn.neural_network import MLPClassifier\n",
    "\n",
    "clf = MLPClassifier().fit(Train, TrainLabels)"
   ]
  },
  {
   "cell_type": "code",
   "execution_count": 35,
   "id": "listed-potential",
   "metadata": {},
   "outputs": [
    {
     "data": {
      "text/plain": [
       "0.18761400156345"
      ]
     },
     "execution_count": 35,
     "metadata": {},
     "output_type": "execute_result"
    }
   ],
   "source": [
    "clf.score(Test, TestLabels)"
   ]
  },
  {
   "cell_type": "code",
   "execution_count": 36,
   "id": "composed-accountability",
   "metadata": {},
   "outputs": [
    {
     "data": {
      "text/plain": [
       "0.18761811665037473"
      ]
     },
     "execution_count": 36,
     "metadata": {},
     "output_type": "execute_result"
    }
   ],
   "source": [
    "clf.score(Train, TrainLabels)"
   ]
  },
  {
   "cell_type": "markdown",
   "id": "yellow-library",
   "metadata": {},
   "source": [
    "## Codes"
   ]
  },
  {
   "cell_type": "code",
   "execution_count": 37,
   "id": "suited-simon",
   "metadata": {},
   "outputs": [
    {
     "name": "stdout",
     "output_type": "stream",
     "text": [
      "[0.5103795709198298, 0.5730205278592375]\n"
     ]
    }
   ],
   "source": [
    "clf = MLPClassifier().fit(Train_codes, TrainLabels)\n",
    "\n",
    "print([clf.score(Test_codes, TestLabels), clf.score(Train_codes, TrainLabels)])"
   ]
  },
  {
   "cell_type": "markdown",
   "id": "changed-retro",
   "metadata": {},
   "source": [
    "## LDA"
   ]
  },
  {
   "cell_type": "code",
   "execution_count": 38,
   "id": "occupational-facility",
   "metadata": {},
   "outputs": [
    {
     "name": "stderr",
     "output_type": "stream",
     "text": [
      "C:\\Users\\Garret Bland\\Anaconda\\envs\\TOF classification\\lib\\site-packages\\sklearn\\neural_network\\_multilayer_perceptron.py:582: ConvergenceWarning: Stochastic Optimizer: Maximum iterations (200) reached and the optimization hasn't converged yet.\n",
      "  warnings.warn(\n"
     ]
    },
    {
     "name": "stdout",
     "output_type": "stream",
     "text": [
      "[0.45843828715365237, 0.47007711523840556]\n"
     ]
    }
   ],
   "source": [
    "clf = MLPClassifier().fit(Train_prob, TrainLabels)\n",
    "\n",
    "print([clf.score(Test_prob, TestLabels), clf.score(Train_prob, TrainLabels)])"
   ]
  },
  {
   "cell_type": "markdown",
   "id": "alien-signal",
   "metadata": {},
   "source": [
    "# k nearest neighbors"
   ]
  },
  {
   "cell_type": "markdown",
   "id": "arbitrary-removal",
   "metadata": {},
   "source": [
    "## Raw Data"
   ]
  },
  {
   "cell_type": "code",
   "execution_count": 39,
   "id": "signal-rings",
   "metadata": {},
   "outputs": [],
   "source": [
    "from sklearn.neighbors import KNeighborsClassifier\n",
    "\n",
    "clf = KNeighborsClassifier(n_neighbors = 30, weights = 'distance').fit(Train, TrainLabels)"
   ]
  },
  {
   "cell_type": "code",
   "execution_count": 40,
   "id": "mediterranean-adams",
   "metadata": {},
   "outputs": [
    {
     "data": {
      "text/plain": [
       "0.5054286458785721"
      ]
     },
     "execution_count": 40,
     "metadata": {},
     "output_type": "execute_result"
    }
   ],
   "source": [
    "clf.score(Test, TestLabels)"
   ]
  },
  {
   "cell_type": "markdown",
   "id": "selected-justice",
   "metadata": {},
   "source": [
    "## Codes"
   ]
  },
  {
   "cell_type": "code",
   "execution_count": 42,
   "id": "basic-program",
   "metadata": {},
   "outputs": [
    {
     "name": "stdout",
     "output_type": "stream",
     "text": [
      "0.47989229566576913\n"
     ]
    }
   ],
   "source": [
    "clf = KNeighborsClassifier(n_neighbors = 30, weights = 'distance').fit(Train_codes, TrainLabels)\n",
    "\n",
    "print(clf.score(Test_codes, TestLabels))"
   ]
  },
  {
   "cell_type": "markdown",
   "id": "compressed-opera",
   "metadata": {},
   "source": [
    "## LDA"
   ]
  },
  {
   "cell_type": "code",
   "execution_count": 43,
   "id": "written-arnold",
   "metadata": {},
   "outputs": [
    {
     "name": "stdout",
     "output_type": "stream",
     "text": [
      "0.4503604620863372\n"
     ]
    }
   ],
   "source": [
    "clf = KNeighborsClassifier(n_neighbors = 30, weights = 'distance').fit(Train_prob, TrainLabels)\n",
    "\n",
    "print(clf.score(Test_prob, TestLabels))"
   ]
  },
  {
   "cell_type": "markdown",
   "id": "continental-percentage",
   "metadata": {},
   "source": [
    "# Random Forest"
   ]
  },
  {
   "cell_type": "markdown",
   "id": "adequate-jersey",
   "metadata": {},
   "source": [
    "## Raw Data"
   ]
  },
  {
   "cell_type": "code",
   "execution_count": 44,
   "id": "modular-modern",
   "metadata": {},
   "outputs": [],
   "source": [
    "from sklearn.ensemble import RandomForestClassifier\n",
    "\n",
    "clf = RandomForestClassifier().fit(Train, TrainLabels)"
   ]
  },
  {
   "cell_type": "code",
   "execution_count": 45,
   "id": "registered-charter",
   "metadata": {},
   "outputs": [
    {
     "data": {
      "text/plain": [
       "0.18761400156345"
      ]
     },
     "execution_count": 45,
     "metadata": {},
     "output_type": "execute_result"
    }
   ],
   "source": [
    "clf.score(Test, TestLabels)"
   ]
  },
  {
   "cell_type": "code",
   "execution_count": 46,
   "id": "quantitative-grocery",
   "metadata": {},
   "outputs": [
    {
     "data": {
      "text/plain": [
       "0.18761811665037473"
      ]
     },
     "execution_count": 46,
     "metadata": {},
     "output_type": "execute_result"
    }
   ],
   "source": [
    "clf.score(Train, TrainLabels)"
   ]
  },
  {
   "cell_type": "markdown",
   "id": "unavailable-crisis",
   "metadata": {},
   "source": [
    "## Codes"
   ]
  },
  {
   "cell_type": "code",
   "execution_count": 47,
   "id": "retired-foster",
   "metadata": {},
   "outputs": [
    {
     "name": "stdout",
     "output_type": "stream",
     "text": [
      "[0.45887257882393817, 0.9997827739763223]\n"
     ]
    }
   ],
   "source": [
    "clf = RandomForestClassifier().fit(Train_codes, TrainLabels)\n",
    "\n",
    "print([clf.score(Test_codes, TestLabels), clf.score(Train_codes, TrainLabels)])"
   ]
  },
  {
   "cell_type": "markdown",
   "id": "handy-bishop",
   "metadata": {},
   "source": [
    "## LDA"
   ]
  },
  {
   "cell_type": "code",
   "execution_count": 48,
   "id": "faced-logging",
   "metadata": {},
   "outputs": [
    {
     "name": "stdout",
     "output_type": "stream",
     "text": [
      "[0.41935203682793365, 0.9948082980341045]\n"
     ]
    }
   ],
   "source": [
    "clf = RandomForestClassifier().fit(Train_prob, TrainLabels)\n",
    "\n",
    "print([clf.score(Test_prob, TestLabels), clf.score(Train_prob, TrainLabels)])"
   ]
  },
  {
   "cell_type": "markdown",
   "id": "going-shade",
   "metadata": {},
   "source": [
    "# Gradient Boosted Tree"
   ]
  },
  {
   "cell_type": "markdown",
   "id": "cosmetic-death",
   "metadata": {},
   "source": [
    "## Raw Data"
   ]
  },
  {
   "cell_type": "code",
   "execution_count": 49,
   "id": "structured-wages",
   "metadata": {},
   "outputs": [],
   "source": [
    "from sklearn.ensemble import GradientBoostingClassifier\n",
    "\n",
    "clf = GradientBoostingClassifier().fit(Train, TrainLabels)"
   ]
  },
  {
   "cell_type": "code",
   "execution_count": 50,
   "id": "musical-concrete",
   "metadata": {},
   "outputs": [
    {
     "data": {
      "text/plain": [
       "0.18761400156345"
      ]
     },
     "execution_count": 50,
     "metadata": {},
     "output_type": "execute_result"
    }
   ],
   "source": [
    "clf.score(Test, TestLabels)"
   ]
  },
  {
   "cell_type": "code",
   "execution_count": 51,
   "id": "compact-diary",
   "metadata": {},
   "outputs": [
    {
     "data": {
      "text/plain": [
       "0.18761811665037473"
      ]
     },
     "execution_count": 51,
     "metadata": {},
     "output_type": "execute_result"
    }
   ],
   "source": [
    "clf.score(Train, TrainLabels)"
   ]
  },
  {
   "cell_type": "markdown",
   "id": "stuffed-plymouth",
   "metadata": {},
   "source": [
    "## Codes"
   ]
  },
  {
   "cell_type": "code",
   "execution_count": 52,
   "id": "unlike-mainland",
   "metadata": {},
   "outputs": [
    {
     "name": "stdout",
     "output_type": "stream",
     "text": [
      "[0.501433162511943, 0.5453893776474421]\n"
     ]
    }
   ],
   "source": [
    "clf = GradientBoostingClassifier().fit(Train_codes, TrainLabels)\n",
    "\n",
    "print([clf.score(Test_codes, TestLabels), clf.score(Train_codes, TrainLabels)])"
   ]
  },
  {
   "cell_type": "markdown",
   "id": "royal-facial",
   "metadata": {},
   "source": [
    "## LDA"
   ]
  },
  {
   "cell_type": "code",
   "execution_count": 53,
   "id": "miniature-advisory",
   "metadata": {},
   "outputs": [
    {
     "name": "stdout",
     "output_type": "stream",
     "text": [
      "[0.47311734560931124, 0.5133050939502553]\n"
     ]
    }
   ],
   "source": [
    "clf = GradientBoostingClassifier().fit(Train_prob, TrainLabels)\n",
    "\n",
    "print([clf.score(Test_prob, TestLabels), clf.score(Train_prob, TrainLabels)])"
   ]
  },
  {
   "cell_type": "markdown",
   "id": "otherwise-stability",
   "metadata": {},
   "source": [
    "# Support Vector machine"
   ]
  },
  {
   "cell_type": "markdown",
   "id": "improving-evans",
   "metadata": {},
   "source": [
    "## Raw Data"
   ]
  },
  {
   "cell_type": "code",
   "execution_count": 54,
   "id": "color-friend",
   "metadata": {},
   "outputs": [],
   "source": [
    "from sklearn.svm import SVC\n",
    "\n",
    "clf = SVC().fit(Train, TrainLabels)"
   ]
  },
  {
   "cell_type": "code",
   "execution_count": 55,
   "id": "collective-print",
   "metadata": {},
   "outputs": [
    {
     "data": {
      "text/plain": [
       "0.3904282115869018"
      ]
     },
     "execution_count": 55,
     "metadata": {},
     "output_type": "execute_result"
    }
   ],
   "source": [
    "clf.score(Test, TestLabels)"
   ]
  },
  {
   "cell_type": "code",
   "execution_count": 56,
   "id": "historic-baker",
   "metadata": {},
   "outputs": [
    {
     "data": {
      "text/plain": [
       "0.392462256978386"
      ]
     },
     "execution_count": 56,
     "metadata": {},
     "output_type": "execute_result"
    }
   ],
   "source": [
    "clf.score(Train, TrainLabels)"
   ]
  },
  {
   "cell_type": "markdown",
   "id": "apart-physics",
   "metadata": {},
   "source": [
    "## Codes"
   ]
  },
  {
   "cell_type": "code",
   "execution_count": null,
   "id": "documented-reduction",
   "metadata": {},
   "outputs": [],
   "source": [
    "clf = SVC().fit(Train_codes, TrainLabels)\n",
    "\n",
    "print([clf.score(Test_codes, TestLabels), clf.score(Train_codes, TrainLabels)])"
   ]
  },
  {
   "cell_type": "markdown",
   "id": "conservative-laptop",
   "metadata": {},
   "source": [
    "## LDA"
   ]
  },
  {
   "cell_type": "code",
   "execution_count": null,
   "id": "focused-condition",
   "metadata": {},
   "outputs": [],
   "source": [
    "clf = SVC().fit(Train_prob, TrainLabels)\n",
    "\n",
    "print([clf.score(Test_prob, TestLabels), clf.score(Train_prob, TrainLabels)])"
   ]
  },
  {
   "cell_type": "code",
   "execution_count": 27,
   "id": "molecular-manitoba",
   "metadata": {},
   "outputs": [
    {
     "data": {
      "text/html": [
       "<div>\n",
       "<style scoped>\n",
       "    .dataframe tbody tr th:only-of-type {\n",
       "        vertical-align: middle;\n",
       "    }\n",
       "\n",
       "    .dataframe tbody tr th {\n",
       "        vertical-align: top;\n",
       "    }\n",
       "\n",
       "    .dataframe thead th {\n",
       "        text-align: right;\n",
       "    }\n",
       "</style>\n",
       "<table border=\"1\" class=\"dataframe\">\n",
       "  <thead>\n",
       "    <tr style=\"text-align: right;\">\n",
       "      <th></th>\n",
       "      <th>48Ti</th>\n",
       "      <th>53Cr</th>\n",
       "      <th>55Mn</th>\n",
       "      <th>54Fe</th>\n",
       "      <th>59Co</th>\n",
       "      <th>58Ni</th>\n",
       "      <th>63Cu</th>\n",
       "      <th>64Zn</th>\n",
       "      <th>69Ga</th>\n",
       "      <th>72Ge</th>\n",
       "      <th>...</th>\n",
       "      <th>193Ir</th>\n",
       "      <th>195Pt</th>\n",
       "      <th>197Au</th>\n",
       "      <th>202Hg</th>\n",
       "      <th>208Pb</th>\n",
       "      <th>238U</th>\n",
       "      <th>51V</th>\n",
       "      <th>labels</th>\n",
       "      <th>clusters</th>\n",
       "      <th>clustersprob</th>\n",
       "    </tr>\n",
       "  </thead>\n",
       "  <tbody>\n",
       "    <tr>\n",
       "      <th>2892</th>\n",
       "      <td>3.108590e-16</td>\n",
       "      <td>0.000000e+00</td>\n",
       "      <td>0.0</td>\n",
       "      <td>0.000000e+00</td>\n",
       "      <td>0.0</td>\n",
       "      <td>0.0</td>\n",
       "      <td>0.0</td>\n",
       "      <td>0.0</td>\n",
       "      <td>0.0</td>\n",
       "      <td>0.0</td>\n",
       "      <td>...</td>\n",
       "      <td>0.0</td>\n",
       "      <td>0.0</td>\n",
       "      <td>0.0</td>\n",
       "      <td>0.0</td>\n",
       "      <td>0.000000e+00</td>\n",
       "      <td>0.0</td>\n",
       "      <td>0.0</td>\n",
       "      <td>Soil dust</td>\n",
       "      <td>9</td>\n",
       "      <td>0.845730</td>\n",
       "    </tr>\n",
       "    <tr>\n",
       "      <th>724</th>\n",
       "      <td>0.000000e+00</td>\n",
       "      <td>0.000000e+00</td>\n",
       "      <td>0.0</td>\n",
       "      <td>2.972637e-15</td>\n",
       "      <td>0.0</td>\n",
       "      <td>0.0</td>\n",
       "      <td>0.0</td>\n",
       "      <td>0.0</td>\n",
       "      <td>0.0</td>\n",
       "      <td>0.0</td>\n",
       "      <td>...</td>\n",
       "      <td>0.0</td>\n",
       "      <td>0.0</td>\n",
       "      <td>0.0</td>\n",
       "      <td>0.0</td>\n",
       "      <td>0.000000e+00</td>\n",
       "      <td>0.0</td>\n",
       "      <td>0.0</td>\n",
       "      <td>Soil dust</td>\n",
       "      <td>2</td>\n",
       "      <td>0.873934</td>\n",
       "    </tr>\n",
       "    <tr>\n",
       "      <th>10566</th>\n",
       "      <td>3.793511e-16</td>\n",
       "      <td>0.000000e+00</td>\n",
       "      <td>0.0</td>\n",
       "      <td>0.000000e+00</td>\n",
       "      <td>0.0</td>\n",
       "      <td>0.0</td>\n",
       "      <td>0.0</td>\n",
       "      <td>0.0</td>\n",
       "      <td>0.0</td>\n",
       "      <td>0.0</td>\n",
       "      <td>...</td>\n",
       "      <td>0.0</td>\n",
       "      <td>0.0</td>\n",
       "      <td>0.0</td>\n",
       "      <td>0.0</td>\n",
       "      <td>0.000000e+00</td>\n",
       "      <td>0.0</td>\n",
       "      <td>0.0</td>\n",
       "      <td>Soil dust</td>\n",
       "      <td>9</td>\n",
       "      <td>0.869833</td>\n",
       "    </tr>\n",
       "    <tr>\n",
       "      <th>4861</th>\n",
       "      <td>0.000000e+00</td>\n",
       "      <td>0.000000e+00</td>\n",
       "      <td>0.0</td>\n",
       "      <td>0.000000e+00</td>\n",
       "      <td>0.0</td>\n",
       "      <td>0.0</td>\n",
       "      <td>0.0</td>\n",
       "      <td>0.0</td>\n",
       "      <td>0.0</td>\n",
       "      <td>0.0</td>\n",
       "      <td>...</td>\n",
       "      <td>0.0</td>\n",
       "      <td>0.0</td>\n",
       "      <td>0.0</td>\n",
       "      <td>0.0</td>\n",
       "      <td>1.059787e-16</td>\n",
       "      <td>0.0</td>\n",
       "      <td>0.0</td>\n",
       "      <td>Soil dust</td>\n",
       "      <td>28</td>\n",
       "      <td>0.449736</td>\n",
       "    </tr>\n",
       "    <tr>\n",
       "      <th>6944</th>\n",
       "      <td>0.000000e+00</td>\n",
       "      <td>0.000000e+00</td>\n",
       "      <td>0.0</td>\n",
       "      <td>0.000000e+00</td>\n",
       "      <td>0.0</td>\n",
       "      <td>0.0</td>\n",
       "      <td>0.0</td>\n",
       "      <td>0.0</td>\n",
       "      <td>0.0</td>\n",
       "      <td>0.0</td>\n",
       "      <td>...</td>\n",
       "      <td>0.0</td>\n",
       "      <td>0.0</td>\n",
       "      <td>0.0</td>\n",
       "      <td>0.0</td>\n",
       "      <td>0.000000e+00</td>\n",
       "      <td>0.0</td>\n",
       "      <td>0.0</td>\n",
       "      <td>Soil dust</td>\n",
       "      <td>29</td>\n",
       "      <td>0.996610</td>\n",
       "    </tr>\n",
       "    <tr>\n",
       "      <th>...</th>\n",
       "      <td>...</td>\n",
       "      <td>...</td>\n",
       "      <td>...</td>\n",
       "      <td>...</td>\n",
       "      <td>...</td>\n",
       "      <td>...</td>\n",
       "      <td>...</td>\n",
       "      <td>...</td>\n",
       "      <td>...</td>\n",
       "      <td>...</td>\n",
       "      <td>...</td>\n",
       "      <td>...</td>\n",
       "      <td>...</td>\n",
       "      <td>...</td>\n",
       "      <td>...</td>\n",
       "      <td>...</td>\n",
       "      <td>...</td>\n",
       "      <td>...</td>\n",
       "      <td>...</td>\n",
       "      <td>...</td>\n",
       "      <td>...</td>\n",
       "    </tr>\n",
       "    <tr>\n",
       "      <th>3407</th>\n",
       "      <td>0.000000e+00</td>\n",
       "      <td>0.000000e+00</td>\n",
       "      <td>0.0</td>\n",
       "      <td>9.895866e-16</td>\n",
       "      <td>0.0</td>\n",
       "      <td>0.0</td>\n",
       "      <td>0.0</td>\n",
       "      <td>0.0</td>\n",
       "      <td>0.0</td>\n",
       "      <td>0.0</td>\n",
       "      <td>...</td>\n",
       "      <td>0.0</td>\n",
       "      <td>0.0</td>\n",
       "      <td>0.0</td>\n",
       "      <td>0.0</td>\n",
       "      <td>0.000000e+00</td>\n",
       "      <td>0.0</td>\n",
       "      <td>0.0</td>\n",
       "      <td>Biomass</td>\n",
       "      <td>2</td>\n",
       "      <td>0.699769</td>\n",
       "    </tr>\n",
       "    <tr>\n",
       "      <th>3396</th>\n",
       "      <td>0.000000e+00</td>\n",
       "      <td>0.000000e+00</td>\n",
       "      <td>0.0</td>\n",
       "      <td>1.234896e-15</td>\n",
       "      <td>0.0</td>\n",
       "      <td>0.0</td>\n",
       "      <td>0.0</td>\n",
       "      <td>0.0</td>\n",
       "      <td>0.0</td>\n",
       "      <td>0.0</td>\n",
       "      <td>...</td>\n",
       "      <td>0.0</td>\n",
       "      <td>0.0</td>\n",
       "      <td>0.0</td>\n",
       "      <td>0.0</td>\n",
       "      <td>0.000000e+00</td>\n",
       "      <td>0.0</td>\n",
       "      <td>0.0</td>\n",
       "      <td>Biomass</td>\n",
       "      <td>2</td>\n",
       "      <td>0.743589</td>\n",
       "    </tr>\n",
       "    <tr>\n",
       "      <th>9942</th>\n",
       "      <td>1.981400e-16</td>\n",
       "      <td>0.000000e+00</td>\n",
       "      <td>0.0</td>\n",
       "      <td>0.000000e+00</td>\n",
       "      <td>0.0</td>\n",
       "      <td>0.0</td>\n",
       "      <td>0.0</td>\n",
       "      <td>0.0</td>\n",
       "      <td>0.0</td>\n",
       "      <td>0.0</td>\n",
       "      <td>...</td>\n",
       "      <td>0.0</td>\n",
       "      <td>0.0</td>\n",
       "      <td>0.0</td>\n",
       "      <td>0.0</td>\n",
       "      <td>0.000000e+00</td>\n",
       "      <td>0.0</td>\n",
       "      <td>0.0</td>\n",
       "      <td>Biomass</td>\n",
       "      <td>9</td>\n",
       "      <td>0.778113</td>\n",
       "    </tr>\n",
       "    <tr>\n",
       "      <th>4212</th>\n",
       "      <td>0.000000e+00</td>\n",
       "      <td>3.805140e-16</td>\n",
       "      <td>0.0</td>\n",
       "      <td>0.000000e+00</td>\n",
       "      <td>0.0</td>\n",
       "      <td>0.0</td>\n",
       "      <td>0.0</td>\n",
       "      <td>0.0</td>\n",
       "      <td>0.0</td>\n",
       "      <td>0.0</td>\n",
       "      <td>...</td>\n",
       "      <td>0.0</td>\n",
       "      <td>0.0</td>\n",
       "      <td>0.0</td>\n",
       "      <td>0.0</td>\n",
       "      <td>0.000000e+00</td>\n",
       "      <td>0.0</td>\n",
       "      <td>0.0</td>\n",
       "      <td>Biomass</td>\n",
       "      <td>2</td>\n",
       "      <td>0.996381</td>\n",
       "    </tr>\n",
       "    <tr>\n",
       "      <th>4358</th>\n",
       "      <td>0.000000e+00</td>\n",
       "      <td>0.000000e+00</td>\n",
       "      <td>0.0</td>\n",
       "      <td>0.000000e+00</td>\n",
       "      <td>0.0</td>\n",
       "      <td>0.0</td>\n",
       "      <td>0.0</td>\n",
       "      <td>0.0</td>\n",
       "      <td>0.0</td>\n",
       "      <td>0.0</td>\n",
       "      <td>...</td>\n",
       "      <td>0.0</td>\n",
       "      <td>0.0</td>\n",
       "      <td>0.0</td>\n",
       "      <td>0.0</td>\n",
       "      <td>0.000000e+00</td>\n",
       "      <td>0.0</td>\n",
       "      <td>0.0</td>\n",
       "      <td>Biomass</td>\n",
       "      <td>3</td>\n",
       "      <td>0.994587</td>\n",
       "    </tr>\n",
       "  </tbody>\n",
       "</table>\n",
       "<p>46035 rows × 51 columns</p>\n",
       "</div>"
      ],
      "text/plain": [
       "               48Ti          53Cr  55Mn          54Fe  59Co  58Ni  63Cu  64Zn  \\\n",
       "2892   3.108590e-16  0.000000e+00   0.0  0.000000e+00   0.0   0.0   0.0   0.0   \n",
       "724    0.000000e+00  0.000000e+00   0.0  2.972637e-15   0.0   0.0   0.0   0.0   \n",
       "10566  3.793511e-16  0.000000e+00   0.0  0.000000e+00   0.0   0.0   0.0   0.0   \n",
       "4861   0.000000e+00  0.000000e+00   0.0  0.000000e+00   0.0   0.0   0.0   0.0   \n",
       "6944   0.000000e+00  0.000000e+00   0.0  0.000000e+00   0.0   0.0   0.0   0.0   \n",
       "...             ...           ...   ...           ...   ...   ...   ...   ...   \n",
       "3407   0.000000e+00  0.000000e+00   0.0  9.895866e-16   0.0   0.0   0.0   0.0   \n",
       "3396   0.000000e+00  0.000000e+00   0.0  1.234896e-15   0.0   0.0   0.0   0.0   \n",
       "9942   1.981400e-16  0.000000e+00   0.0  0.000000e+00   0.0   0.0   0.0   0.0   \n",
       "4212   0.000000e+00  3.805140e-16   0.0  0.000000e+00   0.0   0.0   0.0   0.0   \n",
       "4358   0.000000e+00  0.000000e+00   0.0  0.000000e+00   0.0   0.0   0.0   0.0   \n",
       "\n",
       "       69Ga  72Ge  ...  193Ir  195Pt  197Au  202Hg         208Pb  238U  51V  \\\n",
       "2892    0.0   0.0  ...    0.0    0.0    0.0    0.0  0.000000e+00   0.0  0.0   \n",
       "724     0.0   0.0  ...    0.0    0.0    0.0    0.0  0.000000e+00   0.0  0.0   \n",
       "10566   0.0   0.0  ...    0.0    0.0    0.0    0.0  0.000000e+00   0.0  0.0   \n",
       "4861    0.0   0.0  ...    0.0    0.0    0.0    0.0  1.059787e-16   0.0  0.0   \n",
       "6944    0.0   0.0  ...    0.0    0.0    0.0    0.0  0.000000e+00   0.0  0.0   \n",
       "...     ...   ...  ...    ...    ...    ...    ...           ...   ...  ...   \n",
       "3407    0.0   0.0  ...    0.0    0.0    0.0    0.0  0.000000e+00   0.0  0.0   \n",
       "3396    0.0   0.0  ...    0.0    0.0    0.0    0.0  0.000000e+00   0.0  0.0   \n",
       "9942    0.0   0.0  ...    0.0    0.0    0.0    0.0  0.000000e+00   0.0  0.0   \n",
       "4212    0.0   0.0  ...    0.0    0.0    0.0    0.0  0.000000e+00   0.0  0.0   \n",
       "4358    0.0   0.0  ...    0.0    0.0    0.0    0.0  0.000000e+00   0.0  0.0   \n",
       "\n",
       "          labels  clusters  clustersprob  \n",
       "2892   Soil dust         9      0.845730  \n",
       "724    Soil dust         2      0.873934  \n",
       "10566  Soil dust         9      0.869833  \n",
       "4861   Soil dust        28      0.449736  \n",
       "6944   Soil dust        29      0.996610  \n",
       "...          ...       ...           ...  \n",
       "3407     Biomass         2      0.699769  \n",
       "3396     Biomass         2      0.743589  \n",
       "9942     Biomass         9      0.778113  \n",
       "4212     Biomass         2      0.996381  \n",
       "4358     Biomass         3      0.994587  \n",
       "\n",
       "[46035 rows x 51 columns]"
      ]
     },
     "execution_count": 27,
     "metadata": {},
     "output_type": "execute_result"
    }
   ],
   "source": [
    "SourcetrainingDF"
   ]
  },
  {
   "cell_type": "code",
   "execution_count": null,
   "id": "tested-lodge",
   "metadata": {},
   "outputs": [],
   "source": []
  }
 ],
 "metadata": {
  "kernelspec": {
   "display_name": "Python 3",
   "language": "python",
   "name": "python3"
  },
  "language_info": {
   "codemirror_mode": {
    "name": "ipython",
    "version": 3
   },
   "file_extension": ".py",
   "mimetype": "text/x-python",
   "name": "python",
   "nbconvert_exporter": "python",
   "pygments_lexer": "ipython3",
   "version": "3.8.8"
  }
 },
 "nbformat": 4,
 "nbformat_minor": 5
}
