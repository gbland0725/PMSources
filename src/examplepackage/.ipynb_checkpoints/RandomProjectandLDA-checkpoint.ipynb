{
 "cells": [
  {
   "cell_type": "code",
   "execution_count": 1,
   "id": "informative-permission",
   "metadata": {},
   "outputs": [],
   "source": [
    "%matplotlib inline\n",
    "import math\n",
    "import os \n",
    "import glob\n",
    "import pandas as pd\n",
    "import numpy as np\n",
    "import seaborn as sns\n",
    "import matplotlib.pyplot as plt\n",
    "import matplotlib.colors as cl\n",
    "import matplotlib.ticker as mtick\n",
    "from matplotlib.gridspec import GridSpec\n",
    "import statsmodels.api as sm\n",
    "from pandas import ExcelWriter\n",
    "import pickle"
   ]
  },
  {
   "cell_type": "code",
   "execution_count": 2,
   "id": "nutritional-economy",
   "metadata": {},
   "outputs": [],
   "source": [
    "def load_object(filename):\n",
    "    with open(filename, 'rb') as fid:\n",
    "        file = pickle.load(fid)\n",
    "    return file"
   ]
  },
  {
   "cell_type": "code",
   "execution_count": 3,
   "id": "aging-reggae",
   "metadata": {},
   "outputs": [],
   "source": [
    "#load the codes\n",
    "Qian2016codes = load_object('models/Qian2016codes.pkl')\n",
    "Qian2018codes = load_object('models/Qian2018codes.pkl')\n",
    "QianU2019codes = load_object('models/QianU2019codes.pkl')\n",
    "QianR2019codes = load_object('models/QianR2019codes.pkl')\n",
    "Sourcecodes = load_object('models/Sourcecodes.pkl')\n",
    "\n",
    "#Load the DFs\n",
    "Qian2016DF, Qian2016prob, Qian2016keys = load_object('models/Qian2016DF.pkl')\n",
    "Qian2018DF, Qian2018prob, Qian2018keys = load_object('models/Qian2018DF.pkl')\n",
    "QianU2019DF, QianU2019prob, QianU2019keys = load_object('models/QianU2019DF.pkl')\n",
    "QianR2019DF, QianR2019prob, QianR2019keys = load_object('models/QianR2019DF.pkl')\n",
    "SourceDF, Sourceprob, Sourcekeys = load_object('models/SourceDF.pkl')\n",
    "\n",
    "clustersdata = [Qian2016DF, Qian2018DF, QianU2019DF, QianR2019DF, SourceDF]\n",
    "probdata = [Qian2016prob, Qian2018prob, QianU2019prob, QianR2019prob, Sourceprob]\n",
    "airkeys = [Qian2016keys, Qian2018keys, QianU2019keys, QianR2019keys, Sourcekeys]"
   ]
  },
  {
   "cell_type": "code",
   "execution_count": 4,
   "id": "published-feeding",
   "metadata": {},
   "outputs": [],
   "source": [
    "def index(data, label):\n",
    "    mini = data.reset_index()[data.reset_index()['labels'] == label].index.min()\n",
    "    maxi = data.reset_index()[data.reset_index()['labels'] == label].index.max()\n",
    "    return mini,maxi"
   ]
  },
  {
   "cell_type": "markdown",
   "id": "proprietary-wings",
   "metadata": {},
   "source": [
    "# Compute total variation distance with respect to each source"
   ]
  },
  {
   "cell_type": "markdown",
   "id": "understood-pricing",
   "metadata": {},
   "source": [
    "# Get the total variational distance among the sources"
   ]
  },
  {
   "cell_type": "markdown",
   "id": "pressed-memphis",
   "metadata": {},
   "source": [
    "## individual cells because of their memory and time demand"
   ]
  },
  {
   "cell_type": "code",
   "execution_count": 5,
   "id": "aboriginal-consequence",
   "metadata": {},
   "outputs": [],
   "source": [
    "import scipy as sp\n",
    "tvdistance = 0.5*sp.spatial.distance.cdist(Sourceprob[index(clustersdata[4], 'Soil dust')[0]: index(clustersdata[4], 'Soil dust')[1]], \n",
    "                                           Sourceprob[index(clustersdata[4], 'Soil dust')[0]: index(clustersdata[4], 'Soil dust')[1]], 'cityblock')"
   ]
  },
  {
   "cell_type": "code",
   "execution_count": 6,
   "id": "disciplinary-banner",
   "metadata": {},
   "outputs": [],
   "source": [
    "tvdistance1 = 0.5*sp.spatial.distance.cdist(Sourceprob[index(clustersdata[4], 'Soil dust')[0]: index(clustersdata[4], 'Soil dust')[1]],\n",
    "                                            Sourceprob[index(clustersdata[4], 'Construction dust')[0]: index(clustersdata[4], 'Construction dust')[1]], 'cityblock')"
   ]
  },
  {
   "cell_type": "code",
   "execution_count": 7,
   "id": "loving-tender",
   "metadata": {},
   "outputs": [],
   "source": [
    "tvdistance2 = 0.5*sp.spatial.distance.cdist(Sourceprob[index(clustersdata[4], 'Soil dust')[0]: index(clustersdata[4], 'Soil dust')[1]], \n",
    "                                            Sourceprob[index(clustersdata[4], 'Construction sand')[0]: index(clustersdata[4], 'Construction sand')[1]], 'cityblock')"
   ]
  },
  {
   "cell_type": "code",
   "execution_count": 8,
   "id": "integral-cleaners",
   "metadata": {},
   "outputs": [],
   "source": [
    "tvdistance3 = 0.5*sp.spatial.distance.cdist(Sourceprob[index(clustersdata[4], 'Soil dust')[0]: index(clustersdata[4], 'Soil dust')[1]], \n",
    "                                            Sourceprob[index(clustersdata[4], 'Industrial emission')[0]: index(clustersdata[4], 'Industrial emission')[1]], 'cityblock')"
   ]
  },
  {
   "cell_type": "code",
   "execution_count": 9,
   "id": "reported-verse",
   "metadata": {},
   "outputs": [],
   "source": [
    "tvdistance4 = 0.5*sp.spatial.distance.cdist(Sourceprob[index(clustersdata[4], 'Soil dust')[0]: index(clustersdata[4], 'Soil dust')[1]], \n",
    "                                            Sourceprob[index(clustersdata[4], 'Urban fugitive dust')[0]: index(clustersdata[4], 'Urban fugitive dust')[1]], 'cityblock')"
   ]
  },
  {
   "cell_type": "code",
   "execution_count": 10,
   "id": "willing-evidence",
   "metadata": {},
   "outputs": [],
   "source": [
    "tvdistance5 = 0.5*sp.spatial.distance.cdist(Sourceprob[index(clustersdata[4], 'Soil dust')[0]: index(clustersdata[4], 'Soil dust')[1]], \n",
    "                                            Sourceprob[index(clustersdata[4], 'Car exhaust')[0]: index(clustersdata[4], 'Car exhaust')[1]], 'cityblock')"
   ]
  },
  {
   "cell_type": "code",
   "execution_count": 11,
   "id": "pleasant-scale",
   "metadata": {},
   "outputs": [],
   "source": [
    "tvdistance6 = 0.5*sp.spatial.distance.cdist(Sourceprob[index(clustersdata[4], 'Soil dust')[0]: index(clustersdata[4], 'Soil dust')[1]], \n",
    "                                            Sourceprob[index(clustersdata[4], 'Biomass')[0]: index(clustersdata[4], 'Biomass')[1]], 'cityblock')"
   ]
  },
  {
   "cell_type": "code",
   "execution_count": 12,
   "id": "sunrise-shanghai",
   "metadata": {},
   "outputs": [],
   "source": [
    "tvdistance7 = 0.5*sp.spatial.distance.cdist(Sourceprob[index(clustersdata[4], 'Soil dust')[0]: index(clustersdata[4], 'Soil dust')[1]], \n",
    "                                            Sourceprob[index(clustersdata[4], 'Coal burning')[0]: index(clustersdata[4], 'Coal burning')[1]], 'cityblock')"
   ]
  },
  {
   "cell_type": "code",
   "execution_count": 13,
   "id": "vulnerable-brown",
   "metadata": {},
   "outputs": [],
   "source": [
    "tvaverage = np.average(tvdistance)"
   ]
  },
  {
   "cell_type": "code",
   "execution_count": 14,
   "id": "accurate-acting",
   "metadata": {},
   "outputs": [],
   "source": [
    "tvaverage1 = np.average(tvdistance1)"
   ]
  },
  {
   "cell_type": "code",
   "execution_count": 15,
   "id": "violent-clearance",
   "metadata": {},
   "outputs": [],
   "source": [
    "tvaverage2 = np.average(tvdistance2)"
   ]
  },
  {
   "cell_type": "code",
   "execution_count": 16,
   "id": "hired-matter",
   "metadata": {},
   "outputs": [],
   "source": [
    "tvaverage3 = np.average(tvdistance3)"
   ]
  },
  {
   "cell_type": "code",
   "execution_count": 17,
   "id": "fallen-trading",
   "metadata": {},
   "outputs": [],
   "source": [
    "tvaverage4 = np.average(tvdistance4)"
   ]
  },
  {
   "cell_type": "code",
   "execution_count": 18,
   "id": "crude-cylinder",
   "metadata": {},
   "outputs": [],
   "source": [
    "tvaverage5 = np.average(tvdistance5)"
   ]
  },
  {
   "cell_type": "code",
   "execution_count": 19,
   "id": "female-amplifier",
   "metadata": {},
   "outputs": [],
   "source": [
    "tvaverage6 = np.average(tvdistance6)"
   ]
  },
  {
   "cell_type": "code",
   "execution_count": 20,
   "id": "impressive-north",
   "metadata": {},
   "outputs": [],
   "source": [
    "tvaverage7 = np.average(tvdistance7)"
   ]
  },
  {
   "cell_type": "code",
   "execution_count": 21,
   "id": "nominated-gross",
   "metadata": {},
   "outputs": [],
   "source": [
    "tvdistance8 = 0.5*sp.spatial.distance.cdist(Sourceprob[index(clustersdata[4], 'Construction sand')[0]: index(clustersdata[4], 'Construction sand')[1]], \n",
    "                                            Sourceprob[index(clustersdata[4], 'Construction dust')[0]: index(clustersdata[4], 'Construction dust')[1]], 'cityblock')"
   ]
  },
  {
   "cell_type": "code",
   "execution_count": 22,
   "id": "instant-minnesota",
   "metadata": {},
   "outputs": [],
   "source": [
    "tvdistance9 = 0.5*sp.spatial.distance.cdist(Sourceprob[index(clustersdata[4], 'Industrial emission')[0]: index(clustersdata[4], 'Industrial emission')[1]],\n",
    "                                            Sourceprob[index(clustersdata[4], 'Construction dust')[0]: index(clustersdata[4], 'Construction dust')[1]], 'cityblock')"
   ]
  },
  {
   "cell_type": "code",
   "execution_count": 24,
   "id": "antique-aurora",
   "metadata": {},
   "outputs": [],
   "source": [
    "tvdistance10 = 0.5*sp.spatial.distance.cdist(Sourceprob[index(clustersdata[4], 'Urban fugitive dust')[0]: index(clustersdata[4], 'Urban fugitive dust')[1]],\n",
    "                                             Sourceprob[index(clustersdata[4], 'Construction dust')[0]: index(clustersdata[4], 'Construction dust')[1]], 'cityblock')"
   ]
  },
  {
   "cell_type": "code",
   "execution_count": 25,
   "id": "thrown-auction",
   "metadata": {},
   "outputs": [],
   "source": [
    "tvdistance11 = 0.5*sp.spatial.distance.cdist(Sourceprob[index(clustersdata[4], 'Car exhaust')[0]: index(clustersdata[4], 'Car exhaust')[1]], \n",
    "                                             Sourceprob[index(clustersdata[4], 'Construction dust')[0]: index(clustersdata[4], 'Construction dust')[1]], 'cityblock')"
   ]
  },
  {
   "cell_type": "code",
   "execution_count": 26,
   "id": "democratic-dallas",
   "metadata": {},
   "outputs": [],
   "source": [
    "tvdistance12 = 0.5*sp.spatial.distance.cdist(Sourceprob[index(clustersdata[4], 'Biomass')[0]: index(clustersdata[4], 'Biomass')[1]],\n",
    "                                             Sourceprob[index(clustersdata[4], 'Construction dust')[0]: index(clustersdata[4], 'Construction dust')[1]], 'cityblock')"
   ]
  },
  {
   "cell_type": "code",
   "execution_count": 27,
   "id": "pretty-headquarters",
   "metadata": {},
   "outputs": [],
   "source": [
    "tvdistance13 = 0.5*sp.spatial.distance.cdist(Sourceprob[index(clustersdata[4], 'Coal burning')[0]: index(clustersdata[4], 'Coal burning')[1]],\n",
    "                                             Sourceprob[index(clustersdata[4], 'Construction dust')[0]: index(clustersdata[4], 'Construction dust')[1]], 'cityblock')"
   ]
  },
  {
   "cell_type": "code",
   "execution_count": 29,
   "id": "fourth-culture",
   "metadata": {},
   "outputs": [],
   "source": [
    "tvdistance14 = 0.5*sp.spatial.distance.cdist(Sourceprob[index(clustersdata[4], 'Construction dust')[0]: index(clustersdata[4], 'Construction dust')[1]],\n",
    "                                             Sourceprob[index(clustersdata[4], 'Construction dust')[0]: index(clustersdata[4], 'Construction dust')[1]], 'cityblock')"
   ]
  },
  {
   "cell_type": "code",
   "execution_count": 30,
   "id": "dated-quebec",
   "metadata": {},
   "outputs": [],
   "source": [
    "tvaverage8 = np.average(tvdistance8)"
   ]
  },
  {
   "cell_type": "code",
   "execution_count": 31,
   "id": "opposite-profile",
   "metadata": {},
   "outputs": [],
   "source": [
    "tvaverage9 = np.average(tvdistance9)"
   ]
  },
  {
   "cell_type": "code",
   "execution_count": 32,
   "id": "alien-sewing",
   "metadata": {},
   "outputs": [],
   "source": [
    "tvaverage10 = np.average(tvdistance10)"
   ]
  },
  {
   "cell_type": "code",
   "execution_count": 33,
   "id": "protecting-mistake",
   "metadata": {},
   "outputs": [],
   "source": [
    "tvaverage11 = np.average(tvdistance11)"
   ]
  },
  {
   "cell_type": "code",
   "execution_count": 34,
   "id": "imposed-switch",
   "metadata": {},
   "outputs": [],
   "source": [
    "tvaverage12 = np.average(tvdistance12)"
   ]
  },
  {
   "cell_type": "code",
   "execution_count": 35,
   "id": "fabulous-journalism",
   "metadata": {},
   "outputs": [],
   "source": [
    "tvaverage13 = np.average(tvdistance13)"
   ]
  },
  {
   "cell_type": "code",
   "execution_count": 36,
   "id": "ready-bones",
   "metadata": {},
   "outputs": [],
   "source": [
    "tvaverage14 = np.average(tvdistance14)"
   ]
  },
  {
   "cell_type": "code",
   "execution_count": 37,
   "id": "favorite-format",
   "metadata": {},
   "outputs": [],
   "source": [
    "tvdistance15 = 0.5*sp.spatial.distance.cdist(Sourceprob[index(clustersdata[4], 'Construction sand')[0]: index(clustersdata[4], 'Construction sand')[1]],\n",
    "                                             Sourceprob[index(clustersdata[4], 'Industrial emission')[0]: index(clustersdata[4], 'Industrial emission')[1]], 'cityblock')"
   ]
  },
  {
   "cell_type": "code",
   "execution_count": 38,
   "id": "spiritual-scanning",
   "metadata": {},
   "outputs": [],
   "source": [
    "tvdistance16 = 0.5*sp.spatial.distance.cdist(Sourceprob[index(clustersdata[4], 'Construction sand')[0]: index(clustersdata[4], 'Construction sand')[1]],\n",
    "                                             Sourceprob[index(clustersdata[4], 'Urban fugitive dust')[0]: index(clustersdata[4], 'Urban fugitive dust')[1]], 'cityblock')"
   ]
  },
  {
   "cell_type": "code",
   "execution_count": 39,
   "id": "alike-nightlife",
   "metadata": {},
   "outputs": [],
   "source": [
    "tvdistance17 = 0.5*sp.spatial.distance.cdist(Sourceprob[index(clustersdata[4], 'Construction sand')[0]: index(clustersdata[4], 'Construction sand')[1]],\n",
    "                                             Sourceprob[index(clustersdata[4], 'Car exhaust')[0]: index(clustersdata[4], 'Car exhaust')[1]], 'cityblock')"
   ]
  },
  {
   "cell_type": "code",
   "execution_count": 40,
   "id": "incident-andorra",
   "metadata": {},
   "outputs": [],
   "source": [
    "tvdistance18 = 0.5*sp.spatial.distance.cdist(Sourceprob[index(clustersdata[4], 'Construction sand')[0]: index(clustersdata[4], 'Construction sand')[1]],\n",
    "                                             Sourceprob[index(clustersdata[4], 'Biomass')[0]: index(clustersdata[4], 'Biomass')[1]], 'cityblock')"
   ]
  },
  {
   "cell_type": "code",
   "execution_count": 41,
   "id": "million-entry",
   "metadata": {},
   "outputs": [],
   "source": [
    "tvdistance19 = 0.5*sp.spatial.distance.cdist(Sourceprob[index(clustersdata[4], 'Construction sand')[0]: index(clustersdata[4], 'Construction sand')[1]],\n",
    "                                             Sourceprob[index(clustersdata[4], 'Coal burning')[0]: index(clustersdata[4], 'Coal burning')[1]], 'cityblock')"
   ]
  },
  {
   "cell_type": "code",
   "execution_count": 43,
   "id": "excited-roots",
   "metadata": {},
   "outputs": [],
   "source": [
    "tvdistance20 = 0.5*sp.spatial.distance.cdist(Sourceprob[index(clustersdata[4], 'Construction sand')[0]: index(clustersdata[4], 'Construction sand')[1]],\n",
    "                                             Sourceprob[index(clustersdata[4], 'Construction sand')[0]: index(clustersdata[4], 'Construction sand')[1]], 'cityblock')"
   ]
  },
  {
   "cell_type": "code",
   "execution_count": 44,
   "id": "dutch-missile",
   "metadata": {},
   "outputs": [],
   "source": [
    "tvaverage15 = np.average(tvdistance15)"
   ]
  },
  {
   "cell_type": "code",
   "execution_count": 45,
   "id": "configured-exclusion",
   "metadata": {},
   "outputs": [],
   "source": [
    "tvaverage16 = np.average(tvdistance16)"
   ]
  },
  {
   "cell_type": "code",
   "execution_count": 46,
   "id": "covered-somerset",
   "metadata": {},
   "outputs": [],
   "source": [
    "tvaverage17 = np.average(tvdistance17)"
   ]
  },
  {
   "cell_type": "code",
   "execution_count": 47,
   "id": "sought-invasion",
   "metadata": {},
   "outputs": [],
   "source": [
    "tvaverage18 = np.average(tvdistance18)"
   ]
  },
  {
   "cell_type": "code",
   "execution_count": 48,
   "id": "raised-indie",
   "metadata": {},
   "outputs": [],
   "source": [
    "tvaverage19 = np.average(tvdistance19)"
   ]
  },
  {
   "cell_type": "code",
   "execution_count": 49,
   "id": "handmade-nicholas",
   "metadata": {},
   "outputs": [],
   "source": [
    "tvaverage20 = np.average(tvdistance20)"
   ]
  },
  {
   "cell_type": "code",
   "execution_count": 51,
   "id": "exempt-encoding",
   "metadata": {},
   "outputs": [],
   "source": [
    "tvdistance21 = 0.5*sp.spatial.distance.cdist(Sourceprob[index(clustersdata[4], 'Urban fugitive dust')[0]: index(clustersdata[4], 'Urban fugitive dust')[1]],\n",
    "                                             Sourceprob[index(clustersdata[4], 'Industrial emission')[0]: index(clustersdata[4], 'Industrial emission')[1]], 'cityblock')"
   ]
  },
  {
   "cell_type": "code",
   "execution_count": 52,
   "id": "individual-julian",
   "metadata": {},
   "outputs": [],
   "source": [
    "tvdistance22 = 0.5*sp.spatial.distance.cdist(Sourceprob[index(clustersdata[4], 'Car exhaust')[0]: index(clustersdata[4], 'Car exhaust')[1]],\n",
    "                                             Sourceprob[index(clustersdata[4], 'Industrial emission')[0]: index(clustersdata[4], 'Industrial emission')[1]], 'cityblock')"
   ]
  },
  {
   "cell_type": "code",
   "execution_count": 53,
   "id": "uniform-suffering",
   "metadata": {},
   "outputs": [],
   "source": [
    "tvdistance23 = 0.5*sp.spatial.distance.cdist(Sourceprob[index(clustersdata[4], 'Biomass')[0]: index(clustersdata[4], 'Biomass')[1]],\n",
    "                                             Sourceprob[index(clustersdata[4], 'Industrial emission')[0]: index(clustersdata[4], 'Industrial emission')[1]], 'cityblock')"
   ]
  },
  {
   "cell_type": "code",
   "execution_count": 54,
   "id": "postal-gibson",
   "metadata": {},
   "outputs": [],
   "source": [
    "tvdistance24 = 0.5*sp.spatial.distance.cdist(Sourceprob[index(clustersdata[4], 'Coal burning')[0]: index(clustersdata[4], 'Coal burning')[1]],\n",
    "                                             Sourceprob[index(clustersdata[4], 'Industrial emission')[0]: index(clustersdata[4], 'Industrial emission')[1]], 'cityblock')"
   ]
  },
  {
   "cell_type": "code",
   "execution_count": 56,
   "id": "normal-passage",
   "metadata": {},
   "outputs": [],
   "source": [
    "tvdistance25 = 0.5*sp.spatial.distance.cdist(Sourceprob[index(clustersdata[4], 'Industrial emission')[0]: index(clustersdata[4], 'Industrial emission')[1]],\n",
    "                                             Sourceprob[index(clustersdata[4], 'Industrial emission')[0]: index(clustersdata[4], 'Industrial emission')[1]], 'cityblock')"
   ]
  },
  {
   "cell_type": "code",
   "execution_count": 57,
   "id": "shaped-tuning",
   "metadata": {},
   "outputs": [],
   "source": [
    "tvaverage21 = np.average(tvdistance21)"
   ]
  },
  {
   "cell_type": "code",
   "execution_count": 58,
   "id": "quality-simple",
   "metadata": {},
   "outputs": [],
   "source": [
    "tvaverage22 = np.average(tvdistance22)"
   ]
  },
  {
   "cell_type": "code",
   "execution_count": 59,
   "id": "psychological-variation",
   "metadata": {},
   "outputs": [],
   "source": [
    "tvaverage23 = np.average(tvdistance23)"
   ]
  },
  {
   "cell_type": "code",
   "execution_count": 60,
   "id": "identified-poverty",
   "metadata": {},
   "outputs": [],
   "source": [
    "tvaverage24 = np.average(tvdistance24)"
   ]
  },
  {
   "cell_type": "code",
   "execution_count": 61,
   "id": "prostate-clarity",
   "metadata": {},
   "outputs": [],
   "source": [
    "tvaverage25 = np.average(tvdistance25)"
   ]
  },
  {
   "cell_type": "code",
   "execution_count": 62,
   "id": "chicken-winning",
   "metadata": {},
   "outputs": [],
   "source": [
    "tvdistance26 = 0.5*sp.spatial.distance.cdist(Sourceprob[index(clustersdata[4], 'Urban fugitive dust')[0]: index(clustersdata[4], 'Urban fugitive dust')[1]],\n",
    "                                             Sourceprob[index(clustersdata[4], 'Car exhaust')[0]: index(clustersdata[4], 'Car exhaust')[1]], 'cityblock')"
   ]
  },
  {
   "cell_type": "code",
   "execution_count": 63,
   "id": "mathematical-enzyme",
   "metadata": {},
   "outputs": [],
   "source": [
    "tvdistance27 = 0.5*sp.spatial.distance.cdist(Sourceprob[index(clustersdata[4], 'Urban fugitive dust')[0]: index(clustersdata[4], 'Urban fugitive dust')[1]],\n",
    "                                             Sourceprob[index(clustersdata[4], 'Biomass')[0]: index(clustersdata[4], 'Biomass')[1]], 'cityblock')"
   ]
  },
  {
   "cell_type": "code",
   "execution_count": 64,
   "id": "musical-specialist",
   "metadata": {},
   "outputs": [],
   "source": [
    "tvdistance28 = 0.5*sp.spatial.distance.cdist(Sourceprob[index(clustersdata[4], 'Urban fugitive dust')[0]: index(clustersdata[4], 'Urban fugitive dust')[1]],\n",
    "                                             Sourceprob[index(clustersdata[4], 'Coal burning')[0]: index(clustersdata[4], 'Coal burning')[1]], 'cityblock')"
   ]
  },
  {
   "cell_type": "code",
   "execution_count": 65,
   "id": "written-atmosphere",
   "metadata": {},
   "outputs": [],
   "source": [
    "tvdistance29 = 0.5*sp.spatial.distance.cdist(Sourceprob[index(clustersdata[4], 'Urban fugitive dust')[0]: index(clustersdata[4], 'Urban fugitive dust')[1]],\n",
    "                                             Sourceprob[index(clustersdata[4], 'Urban fugitive dust')[0]: index(clustersdata[4], 'Urban fugitive dust')[1]], 'cityblock')"
   ]
  },
  {
   "cell_type": "code",
   "execution_count": 66,
   "id": "respiratory-retrieval",
   "metadata": {},
   "outputs": [],
   "source": [
    "tvaverage26 = np.average(tvdistance26)"
   ]
  },
  {
   "cell_type": "code",
   "execution_count": 67,
   "id": "excessive-antigua",
   "metadata": {},
   "outputs": [],
   "source": [
    "tvaverage27 = np.average(tvdistance27)"
   ]
  },
  {
   "cell_type": "code",
   "execution_count": 68,
   "id": "above-fisher",
   "metadata": {},
   "outputs": [],
   "source": [
    "tvaverage28 = np.average(tvdistance28)"
   ]
  },
  {
   "cell_type": "code",
   "execution_count": 69,
   "id": "clean-membership",
   "metadata": {},
   "outputs": [],
   "source": [
    "tvaverage29 = np.average(tvdistance29)"
   ]
  },
  {
   "cell_type": "code",
   "execution_count": 70,
   "id": "cross-bridges",
   "metadata": {},
   "outputs": [],
   "source": [
    "tvdistance30 = 0.5*sp.spatial.distance.cdist(Sourceprob[index(clustersdata[4], 'Car exhaust')[0]: index(clustersdata[4], 'Car exhaust')[1]],\n",
    "                                             Sourceprob[index(clustersdata[4], 'Biomass')[0]: index(clustersdata[4], 'Biomass')[1]], 'cityblock')"
   ]
  },
  {
   "cell_type": "code",
   "execution_count": 71,
   "id": "polar-appreciation",
   "metadata": {},
   "outputs": [],
   "source": [
    "tvdistance31 = 0.5*sp.spatial.distance.cdist(Sourceprob[index(clustersdata[4], 'Car exhaust')[0]: index(clustersdata[4], 'Car exhaust')[1]],\n",
    "                                             Sourceprob[index(clustersdata[4], 'Coal burning')[0]: index(clustersdata[4], 'Coal burning')[1]], 'cityblock')"
   ]
  },
  {
   "cell_type": "code",
   "execution_count": 72,
   "id": "original-museum",
   "metadata": {},
   "outputs": [],
   "source": [
    "tvdistance32 = 0.5*sp.spatial.distance.cdist(Sourceprob[index(clustersdata[4], 'Car exhaust')[0]: index(clustersdata[4], 'Car exhaust')[1]],\n",
    "                                             Sourceprob[index(clustersdata[4], 'Car exhaust')[0]: index(clustersdata[4], 'Car exhaust')[1]], 'cityblock')"
   ]
  },
  {
   "cell_type": "code",
   "execution_count": 73,
   "id": "caring-residence",
   "metadata": {},
   "outputs": [],
   "source": [
    "tvaverage30 = np.average(tvdistance30)"
   ]
  },
  {
   "cell_type": "code",
   "execution_count": 74,
   "id": "grave-refund",
   "metadata": {},
   "outputs": [],
   "source": [
    "tvaverage31 = np.average(tvdistance31)"
   ]
  },
  {
   "cell_type": "code",
   "execution_count": 75,
   "id": "bottom-syndication",
   "metadata": {},
   "outputs": [],
   "source": [
    "tvaverage32 = np.average(tvdistance32)"
   ]
  },
  {
   "cell_type": "code",
   "execution_count": 76,
   "id": "engaging-denver",
   "metadata": {},
   "outputs": [],
   "source": [
    "tvdistance33 = 0.5*sp.spatial.distance.cdist(Sourceprob[index(clustersdata[4], 'Biomass')[0]: index(clustersdata[4], 'Biomass')[1]],\n",
    "                                             Sourceprob[index(clustersdata[4], 'Coal burning')[0]: index(clustersdata[4], 'Coal burning')[1]], 'cityblock')"
   ]
  },
  {
   "cell_type": "code",
   "execution_count": 77,
   "id": "stuffed-poker",
   "metadata": {},
   "outputs": [],
   "source": [
    "tvdistance34 = 0.5*sp.spatial.distance.cdist(Sourceprob[index(clustersdata[4], 'Biomass')[0]: index(clustersdata[4], 'Biomass')[1]],\n",
    "                                             Sourceprob[index(clustersdata[4], 'Biomass')[0]: index(clustersdata[4], 'Biomass')[1]], 'cityblock')"
   ]
  },
  {
   "cell_type": "code",
   "execution_count": 78,
   "id": "excellent-alberta",
   "metadata": {},
   "outputs": [],
   "source": [
    "tvaverage33 = np.average(tvdistance33)"
   ]
  },
  {
   "cell_type": "code",
   "execution_count": 79,
   "id": "cordless-stuart",
   "metadata": {},
   "outputs": [],
   "source": [
    "tvaverage34 = np.average(tvdistance34)"
   ]
  },
  {
   "cell_type": "code",
   "execution_count": 80,
   "id": "periodic-diamond",
   "metadata": {},
   "outputs": [],
   "source": [
    "tvdistance35 = 0.5*sp.spatial.distance.cdist(Sourceprob[index(clustersdata[4], 'Coal burning')[0]: index(clustersdata[4], 'Coal burning')[1]],\n",
    "                                             Sourceprob[index(clustersdata[4], 'Coal burning')[0]: index(clustersdata[4], 'Coal burning')[1]], 'cityblock')"
   ]
  },
  {
   "cell_type": "code",
   "execution_count": 81,
   "id": "african-newfoundland",
   "metadata": {},
   "outputs": [],
   "source": [
    "tvaverage35 = np.average(tvdistance35)"
   ]
  },
  {
   "cell_type": "code",
   "execution_count": 82,
   "id": "necessary-daily",
   "metadata": {},
   "outputs": [],
   "source": [
    "#group everything together\n",
    "soildust = [tvaverage, tvaverage1, tvaverage2, tvaverage3, tvaverage4, tvaverage5, tvaverage6, tvaverage7]\n",
    "consdust = [tvaverage1, tvaverage14, tvaverage8, tvaverage9, tvaverage10, tvaverage11, tvaverage12, tvaverage13]\n",
    "conssand = [tvaverage2, tvaverage8, tvaverage20, tvaverage15, tvaverage16, tvaverage17, tvaverage18, tvaverage19]\n",
    "indemission  = [tvaverage3, tvaverage9, tvaverage15, tvaverage25, tvaverage21, tvaverage22, tvaverage23, tvaverage24]\n",
    "urbfugdust = [tvaverage4, tvaverage10, tvaverage16, tvaverage21, tvaverage29, tvaverage26, tvaverage27, tvaverage28]\n",
    "carexhaust = [tvaverage5, tvaverage11, tvaverage17, tvaverage22, tvaverage26, tvaverage32, tvaverage30, tvaverage31]\n",
    "biomass = [tvaverage6, tvaverage12, tvaverage18, tvaverage23, tvaverage27, tvaverage30, tvaverage34, tvaverage33]\n",
    "coalburning = [tvaverage7, tvaverage13, tvaverage19, tvaverage24, tvaverage28, tvaverage31, tvaverage33, tvaverage35]\n",
    "\n",
    "totalaverage = [soildust, consdust, conssand, indemission, urbfugdust, carexhaust, biomass, coalburning]"
   ]
  },
  {
   "cell_type": "code",
   "execution_count": 83,
   "id": "labeled-attitude",
   "metadata": {},
   "outputs": [
    {
     "data": {
      "text/plain": [
       "<AxesSubplot:>"
      ]
     },
     "execution_count": 83,
     "metadata": {},
     "output_type": "execute_result"
    },
    {
     "data": {
      "image/png": "[encoded data removed]",
      "text/plain": [
       "<Figure size 432x288 with 2 Axes>"
      ]
     },
     "metadata": {
      "needs_background": "light"
     },
     "output_type": "display_data"
    }
   ],
   "source": [
    "Index = ['Soil dust', 'Construction dust', 'Construction Sand', 'Industrial Emission', 'Urban Fugitive Dust', 'Car Exhaust', 'Biomass', 'Coal burning']\n",
    "sns.heatmap(pd.DataFrame(totalaverage, index = Index, columns = Index))"
   ]
  },
  {
   "cell_type": "code",
   "execution_count": 84,
   "id": "traditional-schema",
   "metadata": {},
   "outputs": [],
   "source": [
    "#save object\n",
    "def save_object(obj, filename):\n",
    "    with open(filename, 'wb') as output:  # Overwrites any existing file.\n",
    "        pickle.dump(obj, output, pickle.HIGHEST_PROTOCOL)"
   ]
  },
  {
   "cell_type": "code",
   "execution_count": 85,
   "id": "entertaining-python",
   "metadata": {},
   "outputs": [],
   "source": [
    "save_object(totalaverage, 'outputdata/totalvariationavgsourceheatmap.pkl')"
   ]
  },
  {
   "cell_type": "markdown",
   "id": "collective-bottom",
   "metadata": {},
   "source": [
    "# Get the Percentage particle allocated to component by max probability value"
   ]
  },
  {
   "cell_type": "code",
   "execution_count": 87,
   "id": "configured-universal",
   "metadata": {},
   "outputs": [],
   "source": [
    "soildustconf = np.zeros(Sourceprob[index(clustersdata[4], 'Soil dust')[0]: index(clustersdata[4], 'Soil dust')[1]].shape)\n",
    "consdustconf = np.zeros(Sourceprob[index(clustersdata[4], 'Construction dust')[0]: index(clustersdata[4], 'Construction dust')[1]].shape)\n",
    "conssandconf = np.zeros(Sourceprob[index(clustersdata[4], 'Construction sand')[0]: index(clustersdata[4], 'Construction sand')[1]].shape)\n",
    "indemissionconf = np.zeros(Sourceprob[index(clustersdata[4], 'Industrial emission')[0]: index(clustersdata[4], 'Industrial emission')[1]].shape)\n",
    "urbfugdustconf = np.zeros(Sourceprob[index(clustersdata[4], 'Urban fugitive dust')[0]: index(clustersdata[4], 'Urban fugitive dust')[1]].shape)\n",
    "carexhaustconf = np.zeros(Sourceprob[index(clustersdata[4], 'Car exhaust')[0]: index(clustersdata[4], 'Car exhaust')[1]].shape)\n",
    "biomassconf = np.zeros(Sourceprob[index(clustersdata[4], 'Biomass')[0]: index(clustersdata[4], 'Biomass')[1]].shape)\n",
    "coalburningconf = np.zeros(Sourceprob[index(clustersdata[4], 'Coal burning')[0]: index(clustersdata[4], 'Coal burning')[1]].shape)"
   ]
  },
  {
   "cell_type": "code",
   "execution_count": 88,
   "id": "electoral-baghdad",
   "metadata": {},
   "outputs": [],
   "source": [
    "indexconf = ['Soil dust', 'Construction dust', 'Construction sand', 'Industrial emission', 'Urban fugitive dust', 'Car exhaust', 'Biomass', 'Coal burning']\n",
    "conflist = [soildustconf, consdustconf, conssandconf, indemissionconf, urbfugdustconf, carexhaustconf, biomassconf, coalburningconf]"
   ]
  },
  {
   "cell_type": "code",
   "execution_count": 89,
   "id": "searching-substitute",
   "metadata": {},
   "outputs": [
    {
     "name": "stdout",
     "output_type": "stream",
     "text": [
      "Soil dust\n",
      "Construction dust\n",
      "Construction sand\n",
      "Industrial emission\n",
      "Urban fugitive dust\n",
      "Car exhaust\n",
      "Biomass\n",
      "Coal burning\n"
     ]
    }
   ],
   "source": [
    "for indexm, matrix in zip(indexconf, conflist):\n",
    "    print(indexm)\n",
    "    intermediateargmax = Sourceprob[index(clustersdata[4], indexm)[0]: index(clustersdata[4], indexm)[1]].argmax(axis=1)\n",
    "    intermediatemax = Sourceprob[index(clustersdata[4], indexm)[0]: index(clustersdata[4], indexm)[1]].max(axis=1)\n",
    "    for i in np.arange(0, len(matrix)):\n",
    "        matrix[i, intermediateargmax[i]] = intermediatemax[i]"
   ]
  },
  {
   "cell_type": "code",
   "execution_count": 90,
   "id": "fatty-princeton",
   "metadata": {},
   "outputs": [],
   "source": [
    "#find the average and the count for every component\n",
    "confcountcomb = np.zeros([8, 30])\n",
    "confavgcomb = np.zeros([8, 30])\n",
    "for ind, conf in enumerate(conflist):\n",
    "    confcount = np.zeros([1,30])\n",
    "    for i in np.arange(0, 30):\n",
    "        confcount[:,i] = len(conf[:,i][np.nonzero(conf[:,i])])/len(conf)\n",
    "\n",
    "    confaverage = np.zeros([1,30])\n",
    "    for i in np.arange(0, 30):\n",
    "        confaverage[:,i] = np.average(conf[:,i][np.nonzero(conf[:,i])])\n",
    "    confcountcomb[ind] = confcount\n",
    "    confavgcomb[ind] = confaverage"
   ]
  },
  {
   "cell_type": "markdown",
   "id": "matched-drinking",
   "metadata": {},
   "source": [
    "# Percentage in each component respect to source"
   ]
  },
  {
   "cell_type": "code",
   "execution_count": 91,
   "id": "designed-family",
   "metadata": {},
   "outputs": [
    {
     "data": {
      "text/plain": [
       "<AxesSubplot:>"
      ]
     },
     "execution_count": 91,
     "metadata": {},
     "output_type": "execute_result"
    },
    {
     "data": {
      "image/png": "[encoded data removed]",
      "text/plain": [
       "<Figure size 1584x360 with 2 Axes>"
      ]
     },
     "metadata": {
      "needs_background": "light"
     },
     "output_type": "display_data"
    }
   ],
   "source": [
    "fig = plt.figure(figsize = (22,5))\n",
    "sns.heatmap(pd.DataFrame(confcountcomb, index = indexconf, columns = np.arange(1,31)))"
   ]
  },
  {
   "cell_type": "markdown",
   "id": "latin-overview",
   "metadata": {},
   "source": [
    "# Confidence of the max probability with respect to each source"
   ]
  },
  {
   "cell_type": "code",
   "execution_count": 92,
   "id": "hearing-commodity",
   "metadata": {},
   "outputs": [
    {
     "data": {
      "text/plain": [
       "<AxesSubplot:>"
      ]
     },
     "execution_count": 92,
     "metadata": {},
     "output_type": "execute_result"
    },
    {
     "data": {
      "image/png": "[encoded data removed]",
      "text/plain": [
       "<Figure size 1584x360 with 2 Axes>"
      ]
     },
     "metadata": {
      "needs_background": "light"
     },
     "output_type": "display_data"
    }
   ],
   "source": [
    "fig = plt.figure(figsize = (22,5))\n",
    "sns.heatmap(pd.DataFrame(confavgcomb, index = indexconf, columns = np.arange(1,31)))"
   ]
  },
  {
   "cell_type": "code",
   "execution_count": 98,
   "id": "innovative-florida",
   "metadata": {},
   "outputs": [
    {
     "ename": "MemoryError",
     "evalue": "Unable to allocate 1.62 GiB for an array with shape (6955, 31194) and data type float64",
     "output_type": "error",
     "traceback": [
      "\u001b[1;31m---------------------------------------------------------------------------\u001b[0m",
      "\u001b[1;31mMemoryError\u001b[0m                               Traceback (most recent call last)",
      "\u001b[1;32m<ipython-input-98-551b24ac8575>\u001b[0m in \u001b[0;36m<module>\u001b[1;34m\u001b[0m\n\u001b[0;32m      4\u001b[0m     \u001b[0mtvmid\u001b[0m \u001b[1;33m=\u001b[0m \u001b[1;33m[\u001b[0m\u001b[1;33m]\u001b[0m\u001b[1;33m\u001b[0m\u001b[1;33m\u001b[0m\u001b[0m\n\u001b[0;32m      5\u001b[0m     \u001b[1;32mfor\u001b[0m \u001b[0mi\u001b[0m \u001b[1;32min\u001b[0m \u001b[0mSourcekeys\u001b[0m\u001b[1;33m:\u001b[0m\u001b[1;33m\u001b[0m\u001b[1;33m\u001b[0m\u001b[0m\n\u001b[1;32m----> 6\u001b[1;33m         tvmid.append(0.5*sp.spatial.distance.cdist(Qian2016prob[index(clustersdata[0], j)[0]: index(clustersdata[0], j)[1]],\n\u001b[0m\u001b[0;32m      7\u001b[0m                                                   Sourceprob[index(clustersdata[4], i)[0]: index(clustersdata[4], i)[1]], 'cityblock'))\n\u001b[0;32m      8\u001b[0m     \u001b[0mtvdistanceQian20161\u001b[0m\u001b[1;33m.\u001b[0m\u001b[0mappend\u001b[0m\u001b[1;33m(\u001b[0m\u001b[0mtvmid\u001b[0m\u001b[1;33m)\u001b[0m\u001b[1;33m\u001b[0m\u001b[1;33m\u001b[0m\u001b[0m\n",
      "\u001b[1;31mMemoryError\u001b[0m: Unable to allocate 1.62 GiB for an array with shape (6955, 31194) and data type float64"
     ]
    }
   ],
   "source": [
    "#create a total variation matrix for 1st sample Qian 2016\n",
    "tvdistanceQian20161 = []\n",
    "for j in Qian2016keys:\n",
    "    tvmid = []\n",
    "    for i in Sourcekeys:\n",
    "        tvmid.append(0.5*sp.spatial.distance.cdist(Qian2016prob[index(clustersdata[0], j)[0]: index(clustersdata[0], j)[1]],\n",
    "                                                  Sourceprob[index(clustersdata[4], i)[0]: index(clustersdata[4], i)[1]], 'cityblock'))\n",
    "    tvdistanceQian20161.append(tvmid)"
   ]
  },
  {
   "cell_type": "code",
   "execution_count": 124,
   "id": "raising-newcastle",
   "metadata": {},
   "outputs": [
    {
     "name": "stdout",
     "output_type": "stream",
     "text": [
      "0.8960552123488995\n",
      "0.9015423046997161\n",
      "0.8884887059189787\n",
      "0.8889895888988624\n",
      "0.9013399530313722\n",
      "0.9032267716095788\n",
      "0.9100099267928061\n",
      "0.9236833025932872\n"
     ]
    }
   ],
   "source": [
    "#get the average total variation\n",
    "averagevariation\n",
    "for i in tvdistanceQian20161:\n",
    "    print(np.average(i))"
   ]
  },
  {
   "cell_type": "code",
   "execution_count": 143,
   "id": "hollow-toddler",
   "metadata": {},
   "outputs": [],
   "source": [
    "Qian2016avg = np.zeros([2130, 8])\n",
    "for i,j in enumerate(tvdistanceQian20161[0]):\n",
    "    Qian2016avg[:,i] = np.average(j, axis = 1)"
   ]
  },
  {
   "cell_type": "code",
   "execution_count": 188,
   "id": "editorial-migration",
   "metadata": {},
   "outputs": [
    {
     "data": {
      "text/plain": [
       "array([6, 0, 4, ..., 3, 3, 2], dtype=int64)"
      ]
     },
     "execution_count": 188,
     "metadata": {},
     "output_type": "execute_result"
    }
   ],
   "source": [
    "#get the maximum for each source\n",
    "Qian2016avg.argmin(axis=1)"
   ]
  },
  {
   "cell_type": "code",
   "execution_count": 189,
   "id": "valuable-retailer",
   "metadata": {},
   "outputs": [
    {
     "data": {
      "text/plain": [
       "array(['Urban fugitive dust', 'Biomass', 'Urban fugitive dust', ...,\n",
       "       'Biomass', 'Biomass', 'Coal burning'], dtype='<U19')"
      ]
     },
     "execution_count": 189,
     "metadata": {},
     "output_type": "execute_result"
    }
   ],
   "source": [
    "#get the corresponding keys\n",
    "np.array([Sourcekeys[i] for i in Qian2016avg.argmax(axis=1)])"
   ]
  },
  {
   "cell_type": "code",
   "execution_count": 190,
   "id": "entitled-submission",
   "metadata": {},
   "outputs": [],
   "source": [
    "#get the counts and unique sources\n",
    "unique, unique_counts = np.unique(np.array([Sourcekeys[i] for i in Qian2016avg.argmin(axis=1)]), return_counts = True)"
   ]
  },
  {
   "cell_type": "code",
   "execution_count": 191,
   "id": "integral-campus",
   "metadata": {},
   "outputs": [
    {
     "name": "stderr",
     "output_type": "stream",
     "text": [
      "<ipython-input-191-0fb1001a7f0d>:1: MatplotlibDeprecationWarning: normalize=None does not normalize if the sum is less than 1 but this behavior is deprecated since 3.3 until two minor releases later. After the deprecation period the default value will be normalize=True. To prevent normalization pass normalize=False \n",
      "  plt.pie(unique_counts/unique_counts.sum(), labels = Sourcekeys)\n"
     ]
    },
    {
     "data": {
      "image/png": "[encoded data removed]",
      "text/plain": [
       "<Figure size 432x288 with 1 Axes>"
      ]
     },
     "metadata": {},
     "output_type": "display_data"
    }
   ],
   "source": [
    "plt.pie(unique_counts/unique_counts.sum(), labels = Sourcekeys)\n",
    "plt.show()"
   ]
  },
  {
   "cell_type": "code",
   "execution_count": 195,
   "id": "artificial-clerk",
   "metadata": {},
   "outputs": [],
   "source": [
    "Qian2016avgconf = np.zeros([len(Qian2016avg), 8])"
   ]
  },
  {
   "cell_type": "code",
   "execution_count": 196,
   "id": "destroyed-colon",
   "metadata": {},
   "outputs": [],
   "source": [
    "#just get the minimum distance values\n",
    "for (index, maxi), argmaxi in zip(enumerate(Qian2016avg.min(axis=1)), Qian2016avg.argmin(axis=1)):\n",
    "    Qian2016avgconf[index, argmaxi] = maxi"
   ]
  },
  {
   "cell_type": "code",
   "execution_count": 207,
   "id": "canadian-holly",
   "metadata": {},
   "outputs": [],
   "source": [
    "#get average and std distance metrics of the minimum values\n",
    "averagedist = np.array([np.average(Qian2016avgconf[np.nonzero(Qian2016avgconf[:,i]), i]) for i in np.arange(0, len(Sourcekeys))])\n",
    "\n",
    "averagestd = np.array([np.std(Qian2016avgconf[np.nonzero(Qian2016avgconf[:,i]), i]) for i in np.arange(0, len(Sourcekeys))])"
   ]
  },
  {
   "cell_type": "code",
   "execution_count": 236,
   "id": "supported-wealth",
   "metadata": {},
   "outputs": [
    {
     "data": {
      "text/plain": [
       "<AxesSubplot:>"
      ]
     },
     "execution_count": 236,
     "metadata": {},
     "output_type": "execute_result"
    },
    {
     "data": {
      "image/png": "[encoded data removed]",
      "text/plain": [
       "<Figure size 1080x216 with 1 Axes>"
      ]
     },
     "metadata": {
      "needs_background": "light"
     },
     "output_type": "display_data"
    }
   ],
   "source": [
    "accumulatelist = [Qian2016avgconf[np.nonzero(Qian2016avgconf[:,i]), i] for i in np.arange(0, len(Sourcekeys))]\n",
    "\n",
    "intermediatelist = []\n",
    "for i in accumulatelist:\n",
    "    intermediatelist.append(i[0])\n",
    "    \n",
    "fig = plt.figure(figsize = (15,3))    \n",
    "sns.boxplot(data = pd.DataFrame(intermediatelist, index = Sourcekeys).T)"
   ]
  },
  {
   "cell_type": "code",
   "execution_count": null,
   "id": "automotive-paintball",
   "metadata": {},
   "outputs": [],
   "source": []
  }
 ],
 "metadata": {
  "kernelspec": {
   "display_name": "Python 3",
   "language": "python",
   "name": "python3"
  },
  "language_info": {
   "codemirror_mode": {
    "name": "ipython",
    "version": 3
   },
   "file_extension": ".py",
   "mimetype": "text/x-python",
   "name": "python",
   "nbconvert_exporter": "python",
   "pygments_lexer": "ipython3",
   "version": "3.8.5"
  }
 },
 "nbformat": 4,
 "nbformat_minor": 5
}
