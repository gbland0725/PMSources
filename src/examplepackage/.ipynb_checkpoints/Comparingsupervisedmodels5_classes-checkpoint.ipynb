{
 "cells": [
  {
   "cell_type": "code",
   "execution_count": 1,
   "id": "surprised-radiation",
   "metadata": {},
   "outputs": [],
   "source": [
    "%matplotlib inline\n",
    "import math\n",
    "import os \n",
    "import glob\n",
    "import pandas as pd\n",
    "import numpy as np\n",
    "import seaborn as sns\n",
    "import matplotlib.pyplot as plt\n",
    "import matplotlib.colors as cl\n",
    "import matplotlib.ticker as mtick\n",
    "from matplotlib.gridspec import GridSpec\n",
    "import statsmodels.api as sm\n",
    "from pandas import ExcelWriter\n",
    "import pickle\n",
    "import scipy as sp\n",
    "from sklearn.metrics import plot_confusion_matrix"
   ]
  },
  {
   "cell_type": "code",
   "execution_count": 2,
   "id": "frequent-plane",
   "metadata": {},
   "outputs": [],
   "source": [
    "def load_object(filename):\n",
    "    with open(filename, 'rb') as fid:\n",
    "        file = pickle.load(fid)\n",
    "    return file"
   ]
  },
  {
   "cell_type": "code",
   "execution_count": 75,
   "id": "flush-berlin",
   "metadata": {},
   "outputs": [],
   "source": [
    "#load the codes\n",
    "Qian2016codes = load_object('models/revision_3/Qian2016codes_4.pkl')\n",
    "Qian2018codes = load_object('models/revision_3/Qian2018codes_4.pkl')\n",
    "QianU2019codes = load_object('models/revision_3/QianU2019codes_4.pkl')\n",
    "QianR2019codes = load_object('models/revision_3/QianR2019codes_4.pkl')\n",
    "Sourcecodes = load_object('models/revision_3/Sourcecodes_4.pkl')\n",
    "Sourcetrainingcodes = load_object('models/revision_3/Sourcesamples_trainingcodes_4.pkl')\n",
    "Sourcetestingcodes = load_object('models/revision_3/Sourcesamples_testingcodes_4.pkl')\n",
    "\n",
    "#Load the DFs\n",
    "Qian2016DF, Qian2016prob, Qian2016keys = load_object('models/revision_3/Qian2016DF_4.pkl')\n",
    "Qian2018DF, Qian2018prob, Qian2018keys = load_object('models/revision_3/Qian2018DF_4.pkl')\n",
    "QianU2019DF, QianU2019prob, QianU2019keys = load_object('models/revision_3/QianU2019DF_4.pkl')\n",
    "QianR2019DF, QianR2019prob, QianR2019keys = load_object('models/revision_3/QianR2019DF_4.pkl')\n",
    "SourceDF, Sourceprob, Sourcekeys = load_object('models/revision_3/SourceDF_4.pkl')\n",
    "SourcetrainingDF, Sourcetrainingprob, Sourcekeys = load_object('models/revision_3/SourcetrainingDF_4.pkl')\n",
    "SourcetestingDF, Sourcetestingprob, Sourcekeys = load_object('models/revision_3/SourcetestingDF_4.pkl')\n",
    "\n",
    "clustersdata = [Qian2016DF, Qian2018DF, QianU2019DF, QianR2019DF, SourceDF]\n",
    "probdata = [Qian2016prob, Qian2018prob, QianU2019prob, QianR2019prob, Sourceprob]\n",
    "airkeys = [Qian2016keys, Qian2018keys, QianU2019keys, QianR2019keys, Sourcekeys]"
   ]
  },
  {
   "cell_type": "code",
   "execution_count": 76,
   "id": "mental-intro",
   "metadata": {},
   "outputs": [
    {
     "data": {
      "text/html": [
       "<div>\n",
       "<style scoped>\n",
       "    .dataframe tbody tr th:only-of-type {\n",
       "        vertical-align: middle;\n",
       "    }\n",
       "\n",
       "    .dataframe tbody tr th {\n",
       "        vertical-align: top;\n",
       "    }\n",
       "\n",
       "    .dataframe thead th {\n",
       "        text-align: right;\n",
       "    }\n",
       "</style>\n",
       "<table border=\"1\" class=\"dataframe\">\n",
       "  <thead>\n",
       "    <tr style=\"text-align: right;\">\n",
       "      <th></th>\n",
       "      <th>48Ti</th>\n",
       "      <th>53Cr</th>\n",
       "      <th>55Mn</th>\n",
       "      <th>54Fe</th>\n",
       "      <th>59Co</th>\n",
       "      <th>58Ni</th>\n",
       "      <th>63Cu</th>\n",
       "      <th>64Zn</th>\n",
       "      <th>69Ga</th>\n",
       "      <th>72Ge</th>\n",
       "      <th>...</th>\n",
       "      <th>193Ir</th>\n",
       "      <th>195Pt</th>\n",
       "      <th>197Au</th>\n",
       "      <th>202Hg</th>\n",
       "      <th>208Pb</th>\n",
       "      <th>238U</th>\n",
       "      <th>51V</th>\n",
       "      <th>labels</th>\n",
       "      <th>clusters</th>\n",
       "      <th>clustersprob</th>\n",
       "    </tr>\n",
       "  </thead>\n",
       "  <tbody>\n",
       "    <tr>\n",
       "      <th>1041</th>\n",
       "      <td>0.0</td>\n",
       "      <td>0.0</td>\n",
       "      <td>1.304957e-16</td>\n",
       "      <td>0.000000e+00</td>\n",
       "      <td>0.0</td>\n",
       "      <td>0.000000e+00</td>\n",
       "      <td>0.000000e+00</td>\n",
       "      <td>0.000000e+00</td>\n",
       "      <td>0.0</td>\n",
       "      <td>0.0</td>\n",
       "      <td>...</td>\n",
       "      <td>0.0</td>\n",
       "      <td>0.0</td>\n",
       "      <td>0.0</td>\n",
       "      <td>0.0</td>\n",
       "      <td>0.0</td>\n",
       "      <td>0.0</td>\n",
       "      <td>0.0</td>\n",
       "      <td>Soil and Construction</td>\n",
       "      <td>15</td>\n",
       "      <td>0.916732</td>\n",
       "    </tr>\n",
       "    <tr>\n",
       "      <th>1149</th>\n",
       "      <td>0.0</td>\n",
       "      <td>0.0</td>\n",
       "      <td>0.000000e+00</td>\n",
       "      <td>0.000000e+00</td>\n",
       "      <td>0.0</td>\n",
       "      <td>0.000000e+00</td>\n",
       "      <td>0.000000e+00</td>\n",
       "      <td>0.000000e+00</td>\n",
       "      <td>0.0</td>\n",
       "      <td>0.0</td>\n",
       "      <td>...</td>\n",
       "      <td>0.0</td>\n",
       "      <td>0.0</td>\n",
       "      <td>0.0</td>\n",
       "      <td>0.0</td>\n",
       "      <td>0.0</td>\n",
       "      <td>0.0</td>\n",
       "      <td>0.0</td>\n",
       "      <td>Soil and Construction</td>\n",
       "      <td>19</td>\n",
       "      <td>0.975475</td>\n",
       "    </tr>\n",
       "    <tr>\n",
       "      <th>1915</th>\n",
       "      <td>0.0</td>\n",
       "      <td>0.0</td>\n",
       "      <td>0.000000e+00</td>\n",
       "      <td>2.390644e-15</td>\n",
       "      <td>0.0</td>\n",
       "      <td>0.000000e+00</td>\n",
       "      <td>0.000000e+00</td>\n",
       "      <td>0.000000e+00</td>\n",
       "      <td>0.0</td>\n",
       "      <td>0.0</td>\n",
       "      <td>...</td>\n",
       "      <td>0.0</td>\n",
       "      <td>0.0</td>\n",
       "      <td>0.0</td>\n",
       "      <td>0.0</td>\n",
       "      <td>0.0</td>\n",
       "      <td>0.0</td>\n",
       "      <td>0.0</td>\n",
       "      <td>Soil and Construction</td>\n",
       "      <td>13</td>\n",
       "      <td>0.866550</td>\n",
       "    </tr>\n",
       "    <tr>\n",
       "      <th>941</th>\n",
       "      <td>0.0</td>\n",
       "      <td>0.0</td>\n",
       "      <td>0.000000e+00</td>\n",
       "      <td>0.000000e+00</td>\n",
       "      <td>0.0</td>\n",
       "      <td>0.000000e+00</td>\n",
       "      <td>0.000000e+00</td>\n",
       "      <td>0.000000e+00</td>\n",
       "      <td>0.0</td>\n",
       "      <td>0.0</td>\n",
       "      <td>...</td>\n",
       "      <td>0.0</td>\n",
       "      <td>0.0</td>\n",
       "      <td>0.0</td>\n",
       "      <td>0.0</td>\n",
       "      <td>0.0</td>\n",
       "      <td>0.0</td>\n",
       "      <td>0.0</td>\n",
       "      <td>Soil and Construction</td>\n",
       "      <td>15</td>\n",
       "      <td>0.806447</td>\n",
       "    </tr>\n",
       "    <tr>\n",
       "      <th>1504</th>\n",
       "      <td>0.0</td>\n",
       "      <td>0.0</td>\n",
       "      <td>0.000000e+00</td>\n",
       "      <td>0.000000e+00</td>\n",
       "      <td>0.0</td>\n",
       "      <td>1.573988e-16</td>\n",
       "      <td>0.000000e+00</td>\n",
       "      <td>0.000000e+00</td>\n",
       "      <td>0.0</td>\n",
       "      <td>0.0</td>\n",
       "      <td>...</td>\n",
       "      <td>0.0</td>\n",
       "      <td>0.0</td>\n",
       "      <td>0.0</td>\n",
       "      <td>0.0</td>\n",
       "      <td>0.0</td>\n",
       "      <td>0.0</td>\n",
       "      <td>0.0</td>\n",
       "      <td>Soil and Construction</td>\n",
       "      <td>4</td>\n",
       "      <td>0.965387</td>\n",
       "    </tr>\n",
       "    <tr>\n",
       "      <th>...</th>\n",
       "      <td>...</td>\n",
       "      <td>...</td>\n",
       "      <td>...</td>\n",
       "      <td>...</td>\n",
       "      <td>...</td>\n",
       "      <td>...</td>\n",
       "      <td>...</td>\n",
       "      <td>...</td>\n",
       "      <td>...</td>\n",
       "      <td>...</td>\n",
       "      <td>...</td>\n",
       "      <td>...</td>\n",
       "      <td>...</td>\n",
       "      <td>...</td>\n",
       "      <td>...</td>\n",
       "      <td>...</td>\n",
       "      <td>...</td>\n",
       "      <td>...</td>\n",
       "      <td>...</td>\n",
       "      <td>...</td>\n",
       "      <td>...</td>\n",
       "    </tr>\n",
       "    <tr>\n",
       "      <th>888</th>\n",
       "      <td>0.0</td>\n",
       "      <td>0.0</td>\n",
       "      <td>0.000000e+00</td>\n",
       "      <td>0.000000e+00</td>\n",
       "      <td>0.0</td>\n",
       "      <td>0.000000e+00</td>\n",
       "      <td>0.000000e+00</td>\n",
       "      <td>0.000000e+00</td>\n",
       "      <td>0.0</td>\n",
       "      <td>0.0</td>\n",
       "      <td>...</td>\n",
       "      <td>0.0</td>\n",
       "      <td>0.0</td>\n",
       "      <td>0.0</td>\n",
       "      <td>0.0</td>\n",
       "      <td>0.0</td>\n",
       "      <td>0.0</td>\n",
       "      <td>0.0</td>\n",
       "      <td>Biomass</td>\n",
       "      <td>29</td>\n",
       "      <td>0.976035</td>\n",
       "    </tr>\n",
       "    <tr>\n",
       "      <th>1410</th>\n",
       "      <td>0.0</td>\n",
       "      <td>0.0</td>\n",
       "      <td>0.000000e+00</td>\n",
       "      <td>0.000000e+00</td>\n",
       "      <td>0.0</td>\n",
       "      <td>0.000000e+00</td>\n",
       "      <td>1.231631e-16</td>\n",
       "      <td>0.000000e+00</td>\n",
       "      <td>0.0</td>\n",
       "      <td>0.0</td>\n",
       "      <td>...</td>\n",
       "      <td>0.0</td>\n",
       "      <td>0.0</td>\n",
       "      <td>0.0</td>\n",
       "      <td>0.0</td>\n",
       "      <td>0.0</td>\n",
       "      <td>0.0</td>\n",
       "      <td>0.0</td>\n",
       "      <td>Biomass</td>\n",
       "      <td>29</td>\n",
       "      <td>0.979941</td>\n",
       "    </tr>\n",
       "    <tr>\n",
       "      <th>273</th>\n",
       "      <td>0.0</td>\n",
       "      <td>0.0</td>\n",
       "      <td>0.000000e+00</td>\n",
       "      <td>0.000000e+00</td>\n",
       "      <td>0.0</td>\n",
       "      <td>0.000000e+00</td>\n",
       "      <td>7.821763e-16</td>\n",
       "      <td>1.670252e-16</td>\n",
       "      <td>0.0</td>\n",
       "      <td>0.0</td>\n",
       "      <td>...</td>\n",
       "      <td>0.0</td>\n",
       "      <td>0.0</td>\n",
       "      <td>0.0</td>\n",
       "      <td>0.0</td>\n",
       "      <td>0.0</td>\n",
       "      <td>0.0</td>\n",
       "      <td>0.0</td>\n",
       "      <td>Biomass</td>\n",
       "      <td>25</td>\n",
       "      <td>0.997147</td>\n",
       "    </tr>\n",
       "    <tr>\n",
       "      <th>1733</th>\n",
       "      <td>0.0</td>\n",
       "      <td>0.0</td>\n",
       "      <td>0.000000e+00</td>\n",
       "      <td>0.000000e+00</td>\n",
       "      <td>0.0</td>\n",
       "      <td>1.876596e-16</td>\n",
       "      <td>0.000000e+00</td>\n",
       "      <td>0.000000e+00</td>\n",
       "      <td>0.0</td>\n",
       "      <td>0.0</td>\n",
       "      <td>...</td>\n",
       "      <td>0.0</td>\n",
       "      <td>0.0</td>\n",
       "      <td>0.0</td>\n",
       "      <td>0.0</td>\n",
       "      <td>0.0</td>\n",
       "      <td>0.0</td>\n",
       "      <td>0.0</td>\n",
       "      <td>Biomass</td>\n",
       "      <td>4</td>\n",
       "      <td>0.970800</td>\n",
       "    </tr>\n",
       "    <tr>\n",
       "      <th>107</th>\n",
       "      <td>0.0</td>\n",
       "      <td>0.0</td>\n",
       "      <td>0.000000e+00</td>\n",
       "      <td>0.000000e+00</td>\n",
       "      <td>0.0</td>\n",
       "      <td>0.000000e+00</td>\n",
       "      <td>0.000000e+00</td>\n",
       "      <td>1.486367e-16</td>\n",
       "      <td>0.0</td>\n",
       "      <td>0.0</td>\n",
       "      <td>...</td>\n",
       "      <td>0.0</td>\n",
       "      <td>0.0</td>\n",
       "      <td>0.0</td>\n",
       "      <td>0.0</td>\n",
       "      <td>0.0</td>\n",
       "      <td>0.0</td>\n",
       "      <td>0.0</td>\n",
       "      <td>Biomass</td>\n",
       "      <td>15</td>\n",
       "      <td>0.972357</td>\n",
       "    </tr>\n",
       "  </tbody>\n",
       "</table>\n",
       "<p>9330 rows × 51 columns</p>\n",
       "</div>"
      ],
      "text/plain": [
       "      48Ti  53Cr          55Mn          54Fe  59Co          58Ni  \\\n",
       "1041   0.0   0.0  1.304957e-16  0.000000e+00   0.0  0.000000e+00   \n",
       "1149   0.0   0.0  0.000000e+00  0.000000e+00   0.0  0.000000e+00   \n",
       "1915   0.0   0.0  0.000000e+00  2.390644e-15   0.0  0.000000e+00   \n",
       "941    0.0   0.0  0.000000e+00  0.000000e+00   0.0  0.000000e+00   \n",
       "1504   0.0   0.0  0.000000e+00  0.000000e+00   0.0  1.573988e-16   \n",
       "...    ...   ...           ...           ...   ...           ...   \n",
       "888    0.0   0.0  0.000000e+00  0.000000e+00   0.0  0.000000e+00   \n",
       "1410   0.0   0.0  0.000000e+00  0.000000e+00   0.0  0.000000e+00   \n",
       "273    0.0   0.0  0.000000e+00  0.000000e+00   0.0  0.000000e+00   \n",
       "1733   0.0   0.0  0.000000e+00  0.000000e+00   0.0  1.876596e-16   \n",
       "107    0.0   0.0  0.000000e+00  0.000000e+00   0.0  0.000000e+00   \n",
       "\n",
       "              63Cu          64Zn  69Ga  72Ge  ...  193Ir  195Pt  197Au  202Hg  \\\n",
       "1041  0.000000e+00  0.000000e+00   0.0   0.0  ...    0.0    0.0    0.0    0.0   \n",
       "1149  0.000000e+00  0.000000e+00   0.0   0.0  ...    0.0    0.0    0.0    0.0   \n",
       "1915  0.000000e+00  0.000000e+00   0.0   0.0  ...    0.0    0.0    0.0    0.0   \n",
       "941   0.000000e+00  0.000000e+00   0.0   0.0  ...    0.0    0.0    0.0    0.0   \n",
       "1504  0.000000e+00  0.000000e+00   0.0   0.0  ...    0.0    0.0    0.0    0.0   \n",
       "...            ...           ...   ...   ...  ...    ...    ...    ...    ...   \n",
       "888   0.000000e+00  0.000000e+00   0.0   0.0  ...    0.0    0.0    0.0    0.0   \n",
       "1410  1.231631e-16  0.000000e+00   0.0   0.0  ...    0.0    0.0    0.0    0.0   \n",
       "273   7.821763e-16  1.670252e-16   0.0   0.0  ...    0.0    0.0    0.0    0.0   \n",
       "1733  0.000000e+00  0.000000e+00   0.0   0.0  ...    0.0    0.0    0.0    0.0   \n",
       "107   0.000000e+00  1.486367e-16   0.0   0.0  ...    0.0    0.0    0.0    0.0   \n",
       "\n",
       "      208Pb  238U  51V                 labels  clusters  clustersprob  \n",
       "1041    0.0   0.0  0.0  Soil and Construction        15      0.916732  \n",
       "1149    0.0   0.0  0.0  Soil and Construction        19      0.975475  \n",
       "1915    0.0   0.0  0.0  Soil and Construction        13      0.866550  \n",
       "941     0.0   0.0  0.0  Soil and Construction        15      0.806447  \n",
       "1504    0.0   0.0  0.0  Soil and Construction         4      0.965387  \n",
       "...     ...   ...  ...                    ...       ...           ...  \n",
       "888     0.0   0.0  0.0                Biomass        29      0.976035  \n",
       "1410    0.0   0.0  0.0                Biomass        29      0.979941  \n",
       "273     0.0   0.0  0.0                Biomass        25      0.997147  \n",
       "1733    0.0   0.0  0.0                Biomass         4      0.970800  \n",
       "107     0.0   0.0  0.0                Biomass        15      0.972357  \n",
       "\n",
       "[9330 rows x 51 columns]"
      ]
     },
     "execution_count": 76,
     "metadata": {},
     "output_type": "execute_result"
    }
   ],
   "source": [
    "SourcetrainingDF"
   ]
  },
  {
   "cell_type": "code",
   "execution_count": 77,
   "id": "cleared-speed",
   "metadata": {},
   "outputs": [],
   "source": [
    "Train = SourcetrainingDF.iloc[:,:-3]\n",
    "TrainLabels = SourcetrainingDF['labels']\n",
    "Test = SourcetestingDF.iloc[:,:-3]\n",
    "TestLabels = SourcetestingDF['labels']\n",
    "\n",
    "Train_codes = Sourcetrainingcodes\n",
    "Test_codes = Sourcetestingcodes\n",
    "\n",
    "Train_prob = Sourcetrainingprob\n",
    "Test_prob = Sourcetestingprob"
   ]
  },
  {
   "cell_type": "code",
   "execution_count": 43,
   "id": "lesbian-dakota",
   "metadata": {},
   "outputs": [
    {
     "name": "stderr",
     "output_type": "stream",
     "text": [
      "<ipython-input-43-7b48f2f16dd6>:1: SettingWithCopyWarning: \n",
      "A value is trying to be set on a copy of a slice from a DataFrame\n",
      "\n",
      "See the caveats in the documentation: https://pandas.pydata.org/pandas-docs/stable/user_guide/indexing.html#returning-a-view-versus-a-copy\n",
      "  TrainLabels[TrainLabels.isin(['Soil dust', 'Construction dust', 'Construction sand'])] = \"Soil and Construction\"\n"
     ]
    }
   ],
   "source": [
    "TrainLabels[TrainLabels.isin(['Soil dust', 'Construction dust', 'Construction sand'])] = \"Soil and Construction\""
   ]
  },
  {
   "cell_type": "code",
   "execution_count": 6,
   "id": "emerging-investor",
   "metadata": {},
   "outputs": [
    {
     "name": "stderr",
     "output_type": "stream",
     "text": [
      "<ipython-input-6-3c7d48216f7b>:1: SettingWithCopyWarning: \n",
      "A value is trying to be set on a copy of a slice from a DataFrame\n",
      "\n",
      "See the caveats in the documentation: https://pandas.pydata.org/pandas-docs/stable/user_guide/indexing.html#returning-a-view-versus-a-copy\n",
      "  TestLabels[TestLabels.isin(['Soil dust', 'Construction dust', 'Construction sand'])] = \"Soil and Construction\"\n"
     ]
    }
   ],
   "source": [
    "TestLabels[TestLabels.isin(['Soil dust', 'Construction dust', 'Construction sand'])] = \"Soil and Construction\""
   ]
  },
  {
   "cell_type": "code",
   "execution_count": 33,
   "id": "designing-johnston",
   "metadata": {},
   "outputs": [],
   "source": [
    "# sample new soil and construction\n",
    "addintrain = SourcetrainingDF[SourcetrainingDF['labels'] == 'Soil and Construction'].sample(n = len(SourcetrainingDF[SourcetrainingDF['labels'] == 'Coal burning']))\n",
    "addintest = SourcetestingDF[SourcetestingDF['labels'] == 'Soil and Construction'].sample(n = len(SourcetestingDF[SourcetestingDF['labels'] == 'Coal burning']))"
   ]
  },
  {
   "cell_type": "code",
   "execution_count": 34,
   "id": "fresh-norman",
   "metadata": {},
   "outputs": [],
   "source": [
    "newSourcetrainingDF = pd.concat([addintrain, SourcetrainingDF[~SourcetrainingDF['labels'].isin(['Soil and Construction'])]])\n",
    "newSourcetestingDF = pd.concat([addintest, SourcetestingDF[~SourcetestingDF['labels'].isin(['Soil and Construction'])]])"
   ]
  },
  {
   "cell_type": "markdown",
   "id": "loose-tutorial",
   "metadata": {},
   "source": [
    "# Logistic Regression"
   ]
  },
  {
   "cell_type": "markdown",
   "id": "automotive-lemon",
   "metadata": {},
   "source": [
    "## Raw Data"
   ]
  },
  {
   "cell_type": "code",
   "execution_count": 78,
   "id": "critical-acrobat",
   "metadata": {},
   "outputs": [],
   "source": [
    "from sklearn.linear_model import LogisticRegression\n",
    "\n",
    "\n",
    "\n",
    "clf = LogisticRegression().fit(Train, TrainLabels)"
   ]
  },
  {
   "cell_type": "code",
   "execution_count": 79,
   "id": "bizarre-spread",
   "metadata": {},
   "outputs": [
    {
     "data": {
      "text/plain": [
       "0.2"
      ]
     },
     "execution_count": 79,
     "metadata": {},
     "output_type": "execute_result"
    }
   ],
   "source": [
    "clf.score(Test, TestLabels)"
   ]
  },
  {
   "cell_type": "code",
   "execution_count": 80,
   "id": "invalid-dynamics",
   "metadata": {},
   "outputs": [
    {
     "data": {
      "text/plain": [
       "0.2"
      ]
     },
     "execution_count": 80,
     "metadata": {},
     "output_type": "execute_result"
    }
   ],
   "source": [
    "clf.score(Train, TrainLabels)"
   ]
  },
  {
   "cell_type": "markdown",
   "id": "early-technician",
   "metadata": {},
   "source": [
    "## Codes"
   ]
  },
  {
   "cell_type": "code",
   "execution_count": 81,
   "id": "durable-quick",
   "metadata": {},
   "outputs": [
    {
     "name": "stdout",
     "output_type": "stream",
     "text": [
      "[0.49036402569593146, 0.5281886387995712]\n"
     ]
    },
    {
     "name": "stderr",
     "output_type": "stream",
     "text": [
      "C:\\Users\\Garret Bland\\Anaconda\\envs\\TOF classification\\lib\\site-packages\\sklearn\\linear_model\\_logistic.py:762: ConvergenceWarning: lbfgs failed to converge (status=1):\n",
      "STOP: TOTAL NO. of ITERATIONS REACHED LIMIT.\n",
      "\n",
      "Increase the number of iterations (max_iter) or scale the data as shown in:\n",
      "    https://scikit-learn.org/stable/modules/preprocessing.html\n",
      "Please also refer to the documentation for alternative solver options:\n",
      "    https://scikit-learn.org/stable/modules/linear_model.html#logistic-regression\n",
      "  n_iter_i = _check_optimize_result(\n"
     ]
    }
   ],
   "source": [
    "clf = LogisticRegression().fit(Train_codes, TrainLabels)\n",
    "\n",
    "print([clf.score(Test_codes, TestLabels), clf.score(Train_codes, TrainLabels)])"
   ]
  },
  {
   "cell_type": "code",
   "execution_count": 85,
   "id": "surprised-bibliography",
   "metadata": {},
   "outputs": [
    {
     "data": {
      "text/plain": [
       "<sklearn.metrics._plot.confusion_matrix.ConfusionMatrixDisplay at 0x2ae87400cd0>"
      ]
     },
     "execution_count": 85,
     "metadata": {},
     "output_type": "execute_result"
    },
    {
     "data": {
      "image/png": "[encoded data removed]",
      "text/plain": [
       "<Figure size 432x288 with 2 Axes>"
      ]
     },
     "metadata": {
      "needs_background": "light"
     },
     "output_type": "display_data"
    }
   ],
   "source": [
    "plot_confusion_matrix(clf, Test_prob, TestLabels)"
   ]
  },
  {
   "cell_type": "markdown",
   "id": "excellent-simple",
   "metadata": {},
   "source": [
    "## LDA"
   ]
  },
  {
   "cell_type": "code",
   "execution_count": 83,
   "id": "widespread-california",
   "metadata": {},
   "outputs": [
    {
     "name": "stdout",
     "output_type": "stream",
     "text": [
      "[0.4291220556745182, 0.43386923901393354]\n"
     ]
    },
    {
     "name": "stderr",
     "output_type": "stream",
     "text": [
      "C:\\Users\\Garret Bland\\Anaconda\\envs\\TOF classification\\lib\\site-packages\\sklearn\\linear_model\\_logistic.py:762: ConvergenceWarning: lbfgs failed to converge (status=1):\n",
      "STOP: TOTAL NO. of ITERATIONS REACHED LIMIT.\n",
      "\n",
      "Increase the number of iterations (max_iter) or scale the data as shown in:\n",
      "    https://scikit-learn.org/stable/modules/preprocessing.html\n",
      "Please also refer to the documentation for alternative solver options:\n",
      "    https://scikit-learn.org/stable/modules/linear_model.html#logistic-regression\n",
      "  n_iter_i = _check_optimize_result(\n"
     ]
    }
   ],
   "source": [
    "clf = LogisticRegression().fit(Train_prob, TrainLabels)\n",
    "\n",
    "print([clf.score(Test_prob, TestLabels), clf.score(Train_prob, TrainLabels)])"
   ]
  },
  {
   "cell_type": "markdown",
   "id": "adaptive-saudi",
   "metadata": {},
   "source": [
    "# Neural Network"
   ]
  },
  {
   "cell_type": "markdown",
   "id": "higher-parks",
   "metadata": {},
   "source": [
    "## Raw Data"
   ]
  },
  {
   "cell_type": "code",
   "execution_count": 87,
   "id": "mathematical-regulation",
   "metadata": {},
   "outputs": [],
   "source": [
    "from sklearn.neural_network import MLPClassifier\n",
    "\n",
    "clf = MLPClassifier().fit(Train, TrainLabels)"
   ]
  },
  {
   "cell_type": "code",
   "execution_count": 88,
   "id": "green-outside",
   "metadata": {},
   "outputs": [
    {
     "data": {
      "text/plain": [
       "0.2"
      ]
     },
     "execution_count": 88,
     "metadata": {},
     "output_type": "execute_result"
    }
   ],
   "source": [
    "clf.score(Test, TestLabels)"
   ]
  },
  {
   "cell_type": "code",
   "execution_count": 89,
   "id": "female-groove",
   "metadata": {},
   "outputs": [
    {
     "data": {
      "text/plain": [
       "0.2"
      ]
     },
     "execution_count": 89,
     "metadata": {},
     "output_type": "execute_result"
    }
   ],
   "source": [
    "clf.score(Train, TrainLabels)"
   ]
  },
  {
   "cell_type": "markdown",
   "id": "anticipated-cosmetic",
   "metadata": {},
   "source": [
    "## Codes"
   ]
  },
  {
   "cell_type": "code",
   "execution_count": 90,
   "id": "fantastic-automation",
   "metadata": {},
   "outputs": [
    {
     "name": "stdout",
     "output_type": "stream",
     "text": [
      "[0.6325481798715203, 0.69989281886388]\n"
     ]
    }
   ],
   "source": [
    "clf = MLPClassifier().fit(Train_codes, TrainLabels)\n",
    "\n",
    "print([clf.score(Test_codes, TestLabels), clf.score(Train_codes, TrainLabels)])"
   ]
  },
  {
   "cell_type": "code",
   "execution_count": 91,
   "id": "contemporary-circumstances",
   "metadata": {},
   "outputs": [
    {
     "data": {
      "text/plain": [
       "<sklearn.metrics._plot.confusion_matrix.ConfusionMatrixDisplay at 0x2b291027340>"
      ]
     },
     "execution_count": 91,
     "metadata": {},
     "output_type": "execute_result"
    },
    {
     "data": {
      "image/png": "[encoded data removed]",
      "text/plain": [
       "<Figure size 432x288 with 2 Axes>"
      ]
     },
     "metadata": {
      "needs_background": "light"
     },
     "output_type": "display_data"
    }
   ],
   "source": [
    "plot_confusion_matrix(clf, Test_codes, TestLabels)"
   ]
  },
  {
   "cell_type": "markdown",
   "id": "shaped-outside",
   "metadata": {},
   "source": [
    "## LDA"
   ]
  },
  {
   "cell_type": "code",
   "execution_count": 92,
   "id": "considered-philadelphia",
   "metadata": {},
   "outputs": [
    {
     "name": "stdout",
     "output_type": "stream",
     "text": [
      "[0.5203426124197003, 0.5406216505894963]\n"
     ]
    },
    {
     "name": "stderr",
     "output_type": "stream",
     "text": [
      "C:\\Users\\Garret Bland\\Anaconda\\envs\\TOF classification\\lib\\site-packages\\sklearn\\neural_network\\_multilayer_perceptron.py:582: ConvergenceWarning: Stochastic Optimizer: Maximum iterations (200) reached and the optimization hasn't converged yet.\n",
      "  warnings.warn(\n"
     ]
    }
   ],
   "source": [
    "clf = MLPClassifier().fit(Train_prob, TrainLabels)\n",
    "\n",
    "print([clf.score(Test_prob, TestLabels), clf.score(Train_prob, TrainLabels)])"
   ]
  },
  {
   "cell_type": "code",
   "execution_count": 94,
   "id": "classified-designation",
   "metadata": {},
   "outputs": [
    {
     "data": {
      "text/plain": [
       "<sklearn.metrics._plot.confusion_matrix.ConfusionMatrixDisplay at 0x2ae87355160>"
      ]
     },
     "execution_count": 94,
     "metadata": {},
     "output_type": "execute_result"
    },
    {
     "data": {
      "image/png": "[encoded data removed]",
      "text/plain": [
       "<Figure size 432x288 with 2 Axes>"
      ]
     },
     "metadata": {
      "needs_background": "light"
     },
     "output_type": "display_data"
    }
   ],
   "source": [
    "plot_confusion_matrix(clf, Test_prob, TestLabels)"
   ]
  },
  {
   "cell_type": "markdown",
   "id": "owned-nicaragua",
   "metadata": {},
   "source": [
    "# k nearest neighbors"
   ]
  },
  {
   "cell_type": "markdown",
   "id": "hungarian-military",
   "metadata": {},
   "source": [
    "## Raw Data"
   ]
  },
  {
   "cell_type": "code",
   "execution_count": 95,
   "id": "unlike-breakfast",
   "metadata": {},
   "outputs": [],
   "source": [
    "from sklearn.neighbors import KNeighborsClassifier\n",
    "\n",
    "clf = KNeighborsClassifier(n_neighbors = 30, weights = 'distance').fit(Train, TrainLabels)"
   ]
  },
  {
   "cell_type": "code",
   "execution_count": 96,
   "id": "equal-storage",
   "metadata": {},
   "outputs": [
    {
     "data": {
      "text/plain": [
       "0.6355460385438972"
      ]
     },
     "execution_count": 96,
     "metadata": {},
     "output_type": "execute_result"
    }
   ],
   "source": [
    "clf.score(Test, TestLabels)"
   ]
  },
  {
   "cell_type": "code",
   "execution_count": 97,
   "id": "thermal-theory",
   "metadata": {},
   "outputs": [
    {
     "data": {
      "text/plain": [
       "1.0"
      ]
     },
     "execution_count": 97,
     "metadata": {},
     "output_type": "execute_result"
    }
   ],
   "source": [
    "clf.score(Train, TrainLabels)"
   ]
  },
  {
   "cell_type": "markdown",
   "id": "polish-strengthening",
   "metadata": {},
   "source": [
    "## Codes"
   ]
  },
  {
   "cell_type": "code",
   "execution_count": 98,
   "id": "important-slave",
   "metadata": {},
   "outputs": [
    {
     "name": "stdout",
     "output_type": "stream",
     "text": [
      "0.563169164882227\n"
     ]
    }
   ],
   "source": [
    "clf = KNeighborsClassifier(n_neighbors = 30, weights = 'distance').fit(Train_codes, TrainLabels)\n",
    "\n",
    "print(clf.score(Test_codes, TestLabels))"
   ]
  },
  {
   "cell_type": "code",
   "execution_count": 100,
   "id": "transsexual-charleston",
   "metadata": {},
   "outputs": [
    {
     "data": {
      "text/plain": [
       "1.0"
      ]
     },
     "execution_count": 100,
     "metadata": {},
     "output_type": "execute_result"
    }
   ],
   "source": [
    "clf.score(Train_codes, TrainLabels)"
   ]
  },
  {
   "cell_type": "markdown",
   "id": "blank-delivery",
   "metadata": {},
   "source": [
    "## LDA"
   ]
  },
  {
   "cell_type": "code",
   "execution_count": 101,
   "id": "exterior-circumstances",
   "metadata": {},
   "outputs": [
    {
     "name": "stdout",
     "output_type": "stream",
     "text": [
      "0.540899357601713\n"
     ]
    }
   ],
   "source": [
    "clf = KNeighborsClassifier(n_neighbors = 30, weights = 'distance').fit(Train_prob, TrainLabels)\n",
    "\n",
    "print(clf.score(Test_prob, TestLabels))"
   ]
  },
  {
   "cell_type": "markdown",
   "id": "adjacent-arnold",
   "metadata": {},
   "source": [
    "# Random Forest"
   ]
  },
  {
   "cell_type": "markdown",
   "id": "yellow-mystery",
   "metadata": {},
   "source": [
    "## Raw Data"
   ]
  },
  {
   "cell_type": "code",
   "execution_count": 102,
   "id": "median-instruction",
   "metadata": {},
   "outputs": [],
   "source": [
    "from sklearn.ensemble import RandomForestClassifier\n",
    "\n",
    "clf = RandomForestClassifier().fit(Train, TrainLabels)"
   ]
  },
  {
   "cell_type": "code",
   "execution_count": 103,
   "id": "historic-truth",
   "metadata": {},
   "outputs": [
    {
     "data": {
      "text/plain": [
       "0.2"
      ]
     },
     "execution_count": 103,
     "metadata": {},
     "output_type": "execute_result"
    }
   ],
   "source": [
    "clf.score(Test, TestLabels)"
   ]
  },
  {
   "cell_type": "code",
   "execution_count": 104,
   "id": "superior-advocate",
   "metadata": {},
   "outputs": [
    {
     "data": {
      "text/plain": [
       "0.2"
      ]
     },
     "execution_count": 104,
     "metadata": {},
     "output_type": "execute_result"
    }
   ],
   "source": [
    "clf.score(Train, TrainLabels)"
   ]
  },
  {
   "cell_type": "markdown",
   "id": "narrative-cutting",
   "metadata": {},
   "source": [
    "## Codes"
   ]
  },
  {
   "cell_type": "code",
   "execution_count": 105,
   "id": "comfortable-earthquake",
   "metadata": {},
   "outputs": [
    {
     "name": "stdout",
     "output_type": "stream",
     "text": [
      "[0.5468950749464668, 0.9996784565916399]\n"
     ]
    }
   ],
   "source": [
    "clf = RandomForestClassifier().fit(Train_codes, TrainLabels)\n",
    "\n",
    "print([clf.score(Test_codes, TestLabels), clf.score(Train_codes, TrainLabels)])"
   ]
  },
  {
   "cell_type": "markdown",
   "id": "national-refrigerator",
   "metadata": {},
   "source": [
    "## LDA"
   ]
  },
  {
   "cell_type": "code",
   "execution_count": 106,
   "id": "permanent-strengthening",
   "metadata": {},
   "outputs": [
    {
     "name": "stdout",
     "output_type": "stream",
     "text": [
      "[0.49593147751606, 0.9983922829581994]\n"
     ]
    }
   ],
   "source": [
    "clf = RandomForestClassifier().fit(Train_prob, TrainLabels)\n",
    "\n",
    "print([clf.score(Test_prob, TestLabels), clf.score(Train_prob, TrainLabels)])"
   ]
  },
  {
   "cell_type": "markdown",
   "id": "organized-belgium",
   "metadata": {},
   "source": [
    "# Gradient Boosted Tree"
   ]
  },
  {
   "cell_type": "markdown",
   "id": "similar-configuration",
   "metadata": {},
   "source": [
    "## Raw Data"
   ]
  },
  {
   "cell_type": "code",
   "execution_count": 107,
   "id": "hydraulic-category",
   "metadata": {},
   "outputs": [],
   "source": [
    "from sklearn.ensemble import GradientBoostingClassifier\n",
    "\n",
    "clf = GradientBoostingClassifier().fit(Train, TrainLabels)"
   ]
  },
  {
   "cell_type": "code",
   "execution_count": 108,
   "id": "naughty-pioneer",
   "metadata": {},
   "outputs": [
    {
     "data": {
      "text/plain": [
       "0.2"
      ]
     },
     "execution_count": 108,
     "metadata": {},
     "output_type": "execute_result"
    }
   ],
   "source": [
    "clf.score(Test, TestLabels)"
   ]
  },
  {
   "cell_type": "code",
   "execution_count": 109,
   "id": "likely-sewing",
   "metadata": {},
   "outputs": [
    {
     "data": {
      "text/plain": [
       "0.2"
      ]
     },
     "execution_count": 109,
     "metadata": {},
     "output_type": "execute_result"
    }
   ],
   "source": [
    "clf.score(Train, TrainLabels)"
   ]
  },
  {
   "cell_type": "markdown",
   "id": "conventional-responsibility",
   "metadata": {},
   "source": [
    "## Codes"
   ]
  },
  {
   "cell_type": "code",
   "execution_count": 110,
   "id": "unusual-consultation",
   "metadata": {},
   "outputs": [
    {
     "name": "stdout",
     "output_type": "stream",
     "text": [
      "[0.6158458244111349, 0.6813504823151125]\n"
     ]
    }
   ],
   "source": [
    "clf = GradientBoostingClassifier().fit(Train_codes, TrainLabels)\n",
    "\n",
    "print([clf.score(Test_codes, TestLabels), clf.score(Train_codes, TrainLabels)])"
   ]
  },
  {
   "cell_type": "markdown",
   "id": "still-point",
   "metadata": {},
   "source": [
    "## LDA"
   ]
  },
  {
   "cell_type": "code",
   "execution_count": 111,
   "id": "asian-national",
   "metadata": {},
   "outputs": [
    {
     "name": "stdout",
     "output_type": "stream",
     "text": [
      "[0.558458244111349, 0.6337620578778135]\n"
     ]
    }
   ],
   "source": [
    "clf = GradientBoostingClassifier().fit(Train_prob, TrainLabels)\n",
    "\n",
    "print([clf.score(Test_prob, TestLabels), clf.score(Train_prob, TrainLabels)])"
   ]
  },
  {
   "cell_type": "markdown",
   "id": "thousand-flight",
   "metadata": {},
   "source": [
    "# Support Vector machine"
   ]
  },
  {
   "cell_type": "markdown",
   "id": "brazilian-panic",
   "metadata": {},
   "source": [
    "## Raw Data"
   ]
  },
  {
   "cell_type": "code",
   "execution_count": 116,
   "id": "medium-composition",
   "metadata": {},
   "outputs": [],
   "source": [
    "from sklearn.svm import SVC\n",
    "\n",
    "#clf = SVC().fit(Train, TrainLabels)"
   ]
  },
  {
   "cell_type": "code",
   "execution_count": 113,
   "id": "earned-reverse",
   "metadata": {},
   "outputs": [
    {
     "data": {
      "text/plain": [
       "0.4197002141327623"
      ]
     },
     "execution_count": 113,
     "metadata": {},
     "output_type": "execute_result"
    }
   ],
   "source": [
    "clf.score(Test, TestLabels)"
   ]
  },
  {
   "cell_type": "code",
   "execution_count": 114,
   "id": "stock-knight",
   "metadata": {},
   "outputs": [
    {
     "data": {
      "text/plain": [
       "0.41479099678456594"
      ]
     },
     "execution_count": 114,
     "metadata": {},
     "output_type": "execute_result"
    }
   ],
   "source": [
    "clf.score(Train, TrainLabels)"
   ]
  },
  {
   "cell_type": "markdown",
   "id": "considered-touch",
   "metadata": {},
   "source": [
    "## Codes"
   ]
  },
  {
   "cell_type": "code",
   "execution_count": 118,
   "id": "russian-criterion",
   "metadata": {},
   "outputs": [
    {
     "name": "stdout",
     "output_type": "stream",
     "text": [
      "[0.2809421841541756, 0.2956055734190782]\n"
     ]
    }
   ],
   "source": [
    "clf = SVC().fit(Train_codes, TrainLabels)\n",
    "\n",
    "print([clf.score(Test_codes, TestLabels), clf.score(Train_codes, TrainLabels)])"
   ]
  },
  {
   "cell_type": "markdown",
   "id": "warming-lexington",
   "metadata": {},
   "source": [
    "## LDA"
   ]
  },
  {
   "cell_type": "code",
   "execution_count": 117,
   "id": "cardiac-mirror",
   "metadata": {},
   "outputs": [
    {
     "name": "stdout",
     "output_type": "stream",
     "text": [
      "[0.4980728051391863, 0.5087888531618435]\n"
     ]
    }
   ],
   "source": [
    "clf = SVC().fit(Train_prob, TrainLabels)\n",
    "\n",
    "print([clf.score(Test_prob, TestLabels), clf.score(Train_prob, TrainLabels)])"
   ]
  },
  {
   "cell_type": "code",
   "execution_count": null,
   "id": "rocky-duplicate",
   "metadata": {},
   "outputs": [],
   "source": []
  }
 ],
 "metadata": {
  "kernelspec": {
   "display_name": "Python 3",
   "language": "python",
   "name": "python3"
  },
  "language_info": {
   "codemirror_mode": {
    "name": "ipython",
    "version": 3
   },
   "file_extension": ".py",
   "mimetype": "text/x-python",
   "name": "python",
   "nbconvert_exporter": "python",
   "pygments_lexer": "ipython3",
   "version": "3.8.5"
  }
 },
 "nbformat": 4,
 "nbformat_minor": 5
}
