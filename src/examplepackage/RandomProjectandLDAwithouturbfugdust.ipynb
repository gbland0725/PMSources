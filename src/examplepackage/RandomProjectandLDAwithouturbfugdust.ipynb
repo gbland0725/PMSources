{
 "cells": [
  {
   "cell_type": "code",
   "execution_count": 2,
   "id": "stable-limitation",
   "metadata": {},
   "outputs": [],
   "source": [
    "%matplotlib inline\n",
    "import math\n",
    "import os \n",
    "import glob\n",
    "import pandas as pd\n",
    "import numpy as np\n",
    "import seaborn as sns\n",
    "import matplotlib.pyplot as plt\n",
    "import matplotlib.colors as cl\n",
    "import matplotlib.ticker as mtick\n",
    "from matplotlib.gridspec import GridSpec\n",
    "import statsmodels.api as sm\n",
    "from pandas import ExcelWriter\n",
    "import pickle\n",
    "import scipy as sp"
   ]
  },
  {
   "cell_type": "code",
   "execution_count": 3,
   "id": "continuous-anchor",
   "metadata": {},
   "outputs": [],
   "source": [
    "def load_object(filename):\n",
    "    with open(filename, 'rb') as fid:\n",
    "        file = pickle.load(fid)\n",
    "    return file"
   ]
  },
  {
   "cell_type": "code",
   "execution_count": 4,
   "id": "applied-globe",
   "metadata": {},
   "outputs": [],
   "source": [
    "#load the codes\n",
    "Qian2016codes = load_object('models/revision/Qian2016codes_2.pkl')\n",
    "Qian2018codes = load_object('models/revision/Qian2018codes_2.pkl')\n",
    "QianU2019codes = load_object('models/revision/QianU2019codes_2.pkl')\n",
    "QianR2019codes = load_object('models/revision/QianR2019codes_2.pkl')\n",
    "Sourcecodes = load_object('models/revision/Sourcecodes_2.pkl')\n",
    "\n",
    "#Load the DFs\n",
    "Qian2016DF, Qian2016prob, Qian2016keys = load_object('models/revision/Qian2016DF_2.pkl')\n",
    "Qian2018DF, Qian2018prob, Qian2018keys = load_object('models/revision/Qian2018DF_2.pkl')\n",
    "QianU2019DF, QianU2019prob, QianU2019keys = load_object('models/revision/QianU2019DF_2.pkl')\n",
    "QianR2019DF, QianR2019prob, QianR2019keys = load_object('models/revision/QianR2019DF_2.pkl')\n",
    "SourceDF, Sourceprob, Sourcekeys = load_object('models/revision/SourceDF_2.pkl')\n",
    "\n",
    "clustersdata = [Qian2016DF, Qian2018DF, QianU2019DF, QianR2019DF, SourceDF]\n",
    "probdata = [Qian2016prob, Qian2018prob, QianU2019prob, QianR2019prob, Sourceprob]\n",
    "airkeys = [Qian2016keys, Qian2018keys, QianU2019keys, QianR2019keys, Sourcekeys]"
   ]
  },
  {
   "cell_type": "code",
   "execution_count": 16,
   "id": "vietnamese-convenience",
   "metadata": {},
   "outputs": [],
   "source": [
    "# load urban fug dust \n",
    "Urbanfugdustcodes = load_object('models/revision/Urbfugdustcodes_2.pkl')\n",
    "\n",
    "UrbanfugdustDF, Urbanfugdustprob, Urbanfugdustkeys = load_object('models/revision/UrbanfugdustDF_2.pkl')"
   ]
  },
  {
   "cell_type": "code",
   "execution_count": 6,
   "id": "plain-hardwood",
   "metadata": {},
   "outputs": [],
   "source": [
    "def index(data, label):\n",
    "    mini = data.reset_index()[data.reset_index()['labels'] == label].index.min()\n",
    "    maxi = data.reset_index()[data.reset_index()['labels'] == label].index.max()\n",
    "    return mini,maxi"
   ]
  },
  {
   "cell_type": "markdown",
   "id": "mineral-roulette",
   "metadata": {},
   "source": [
    "# Compute total variation distance with respect to each source"
   ]
  },
  {
   "cell_type": "markdown",
   "id": "hollywood-mainland",
   "metadata": {},
   "source": [
    "# Get the total variational distance among the sources"
   ]
  },
  {
   "cell_type": "markdown",
   "id": "gorgeous-cancer",
   "metadata": {},
   "source": [
    "## individual cells because of their memory and time demand"
   ]
  },
  {
   "cell_type": "code",
   "execution_count": 5,
   "id": "assisted-legend",
   "metadata": {},
   "outputs": [],
   "source": [
    "import scipy as sp\n",
    "tvdistance = 0.5*sp.spatial.distance.cdist(Sourceprob[index(clustersdata[4], 'Soil dust')[0]: index(clustersdata[4], 'Soil dust')[1]], \n",
    "                                           Sourceprob[index(clustersdata[4], 'Soil dust')[0]: index(clustersdata[4], 'Soil dust')[1]], 'cityblock')"
   ]
  },
  {
   "cell_type": "code",
   "execution_count": 6,
   "id": "subtle-characterization",
   "metadata": {},
   "outputs": [],
   "source": [
    "tvdistance1 = 0.5*sp.spatial.distance.cdist(Sourceprob[index(clustersdata[4], 'Soil dust')[0]: index(clustersdata[4], 'Soil dust')[1]],\n",
    "                                            Sourceprob[index(clustersdata[4], 'Construction dust')[0]: index(clustersdata[4], 'Construction dust')[1]], 'cityblock')"
   ]
  },
  {
   "cell_type": "code",
   "execution_count": 7,
   "id": "resident-soviet",
   "metadata": {},
   "outputs": [],
   "source": [
    "tvdistance2 = 0.5*sp.spatial.distance.cdist(Sourceprob[index(clustersdata[4], 'Soil dust')[0]: index(clustersdata[4], 'Soil dust')[1]], \n",
    "                                            Sourceprob[index(clustersdata[4], 'Construction sand')[0]: index(clustersdata[4], 'Construction sand')[1]], 'cityblock')"
   ]
  },
  {
   "cell_type": "code",
   "execution_count": 8,
   "id": "valuable-puzzle",
   "metadata": {},
   "outputs": [],
   "source": [
    "tvdistance3 = 0.5*sp.spatial.distance.cdist(Sourceprob[index(clustersdata[4], 'Soil dust')[0]: index(clustersdata[4], 'Soil dust')[1]], \n",
    "                                            Sourceprob[index(clustersdata[4], 'Industrial emission')[0]: index(clustersdata[4], 'Industrial emission')[1]], 'cityblock')"
   ]
  },
  {
   "cell_type": "code",
   "execution_count": 9,
   "id": "sticky-repair",
   "metadata": {},
   "outputs": [],
   "source": [
    "tvdistance4 = 0.5*sp.spatial.distance.cdist(Sourceprob[index(clustersdata[4], 'Soil dust')[0]: index(clustersdata[4], 'Soil dust')[1]], \n",
    "                                            Sourceprob[index(clustersdata[4], 'Urban fugitive dust')[0]: index(clustersdata[4], 'Urban fugitive dust')[1]], 'cityblock')"
   ]
  },
  {
   "cell_type": "code",
   "execution_count": 10,
   "id": "polish-liver",
   "metadata": {},
   "outputs": [],
   "source": [
    "tvdistance5 = 0.5*sp.spatial.distance.cdist(Sourceprob[index(clustersdata[4], 'Soil dust')[0]: index(clustersdata[4], 'Soil dust')[1]], \n",
    "                                            Sourceprob[index(clustersdata[4], 'Car exhaust')[0]: index(clustersdata[4], 'Car exhaust')[1]], 'cityblock')"
   ]
  },
  {
   "cell_type": "code",
   "execution_count": 11,
   "id": "crucial-style",
   "metadata": {},
   "outputs": [],
   "source": [
    "tvdistance6 = 0.5*sp.spatial.distance.cdist(Sourceprob[index(clustersdata[4], 'Soil dust')[0]: index(clustersdata[4], 'Soil dust')[1]], \n",
    "                                            Sourceprob[index(clustersdata[4], 'Biomass')[0]: index(clustersdata[4], 'Biomass')[1]], 'cityblock')"
   ]
  },
  {
   "cell_type": "code",
   "execution_count": 12,
   "id": "other-infection",
   "metadata": {},
   "outputs": [],
   "source": [
    "tvdistance7 = 0.5*sp.spatial.distance.cdist(Sourceprob[index(clustersdata[4], 'Soil dust')[0]: index(clustersdata[4], 'Soil dust')[1]], \n",
    "                                            Sourceprob[index(clustersdata[4], 'Coal burning')[0]: index(clustersdata[4], 'Coal burning')[1]], 'cityblock')"
   ]
  },
  {
   "cell_type": "code",
   "execution_count": 13,
   "id": "tutorial-designer",
   "metadata": {},
   "outputs": [],
   "source": [
    "tvaverage = np.average(tvdistance)"
   ]
  },
  {
   "cell_type": "code",
   "execution_count": 14,
   "id": "antique-stewart",
   "metadata": {},
   "outputs": [],
   "source": [
    "tvaverage1 = np.average(tvdistance1)"
   ]
  },
  {
   "cell_type": "code",
   "execution_count": 15,
   "id": "explicit-essay",
   "metadata": {},
   "outputs": [],
   "source": [
    "tvaverage2 = np.average(tvdistance2)"
   ]
  },
  {
   "cell_type": "code",
   "execution_count": 16,
   "id": "abroad-prisoner",
   "metadata": {},
   "outputs": [],
   "source": [
    "tvaverage3 = np.average(tvdistance3)"
   ]
  },
  {
   "cell_type": "code",
   "execution_count": 17,
   "id": "buried-natural",
   "metadata": {},
   "outputs": [],
   "source": [
    "tvaverage4 = np.average(tvdistance4)"
   ]
  },
  {
   "cell_type": "code",
   "execution_count": 18,
   "id": "simple-malaysia",
   "metadata": {},
   "outputs": [],
   "source": [
    "tvaverage5 = np.average(tvdistance5)"
   ]
  },
  {
   "cell_type": "code",
   "execution_count": 19,
   "id": "intended-tumor",
   "metadata": {},
   "outputs": [],
   "source": [
    "tvaverage6 = np.average(tvdistance6)"
   ]
  },
  {
   "cell_type": "code",
   "execution_count": 20,
   "id": "subjective-reporter",
   "metadata": {},
   "outputs": [],
   "source": [
    "tvaverage7 = np.average(tvdistance7)"
   ]
  },
  {
   "cell_type": "code",
   "execution_count": 21,
   "id": "electronic-mount",
   "metadata": {},
   "outputs": [],
   "source": [
    "tvdistance8 = 0.5*sp.spatial.distance.cdist(Sourceprob[index(clustersdata[4], 'Construction sand')[0]: index(clustersdata[4], 'Construction sand')[1]], \n",
    "                                            Sourceprob[index(clustersdata[4], 'Construction dust')[0]: index(clustersdata[4], 'Construction dust')[1]], 'cityblock')"
   ]
  },
  {
   "cell_type": "code",
   "execution_count": 22,
   "id": "related-mainstream",
   "metadata": {},
   "outputs": [],
   "source": [
    "tvdistance9 = 0.5*sp.spatial.distance.cdist(Sourceprob[index(clustersdata[4], 'Industrial emission')[0]: index(clustersdata[4], 'Industrial emission')[1]],\n",
    "                                            Sourceprob[index(clustersdata[4], 'Construction dust')[0]: index(clustersdata[4], 'Construction dust')[1]], 'cityblock')"
   ]
  },
  {
   "cell_type": "code",
   "execution_count": 24,
   "id": "accomplished-reflection",
   "metadata": {},
   "outputs": [],
   "source": [
    "tvdistance10 = 0.5*sp.spatial.distance.cdist(Sourceprob[index(clustersdata[4], 'Urban fugitive dust')[0]: index(clustersdata[4], 'Urban fugitive dust')[1]],\n",
    "                                             Sourceprob[index(clustersdata[4], 'Construction dust')[0]: index(clustersdata[4], 'Construction dust')[1]], 'cityblock')"
   ]
  },
  {
   "cell_type": "code",
   "execution_count": 25,
   "id": "acknowledged-canadian",
   "metadata": {},
   "outputs": [],
   "source": [
    "tvdistance11 = 0.5*sp.spatial.distance.cdist(Sourceprob[index(clustersdata[4], 'Car exhaust')[0]: index(clustersdata[4], 'Car exhaust')[1]], \n",
    "                                             Sourceprob[index(clustersdata[4], 'Construction dust')[0]: index(clustersdata[4], 'Construction dust')[1]], 'cityblock')"
   ]
  },
  {
   "cell_type": "code",
   "execution_count": 26,
   "id": "other-fourth",
   "metadata": {},
   "outputs": [],
   "source": [
    "tvdistance12 = 0.5*sp.spatial.distance.cdist(Sourceprob[index(clustersdata[4], 'Biomass')[0]: index(clustersdata[4], 'Biomass')[1]],\n",
    "                                             Sourceprob[index(clustersdata[4], 'Construction dust')[0]: index(clustersdata[4], 'Construction dust')[1]], 'cityblock')"
   ]
  },
  {
   "cell_type": "code",
   "execution_count": 27,
   "id": "adolescent-transparency",
   "metadata": {},
   "outputs": [],
   "source": [
    "tvdistance13 = 0.5*sp.spatial.distance.cdist(Sourceprob[index(clustersdata[4], 'Coal burning')[0]: index(clustersdata[4], 'Coal burning')[1]],\n",
    "                                             Sourceprob[index(clustersdata[4], 'Construction dust')[0]: index(clustersdata[4], 'Construction dust')[1]], 'cityblock')"
   ]
  },
  {
   "cell_type": "code",
   "execution_count": 29,
   "id": "superb-sleeping",
   "metadata": {},
   "outputs": [],
   "source": [
    "tvdistance14 = 0.5*sp.spatial.distance.cdist(Sourceprob[index(clustersdata[4], 'Construction dust')[0]: index(clustersdata[4], 'Construction dust')[1]],\n",
    "                                             Sourceprob[index(clustersdata[4], 'Construction dust')[0]: index(clustersdata[4], 'Construction dust')[1]], 'cityblock')"
   ]
  },
  {
   "cell_type": "code",
   "execution_count": 30,
   "id": "expanded-negotiation",
   "metadata": {},
   "outputs": [],
   "source": [
    "tvaverage8 = np.average(tvdistance8)"
   ]
  },
  {
   "cell_type": "code",
   "execution_count": 31,
   "id": "fifty-columbia",
   "metadata": {},
   "outputs": [],
   "source": [
    "tvaverage9 = np.average(tvdistance9)"
   ]
  },
  {
   "cell_type": "code",
   "execution_count": 32,
   "id": "bigger-giant",
   "metadata": {},
   "outputs": [],
   "source": [
    "tvaverage10 = np.average(tvdistance10)"
   ]
  },
  {
   "cell_type": "code",
   "execution_count": 33,
   "id": "accredited-football",
   "metadata": {},
   "outputs": [],
   "source": [
    "tvaverage11 = np.average(tvdistance11)"
   ]
  },
  {
   "cell_type": "code",
   "execution_count": 34,
   "id": "forty-visibility",
   "metadata": {},
   "outputs": [],
   "source": [
    "tvaverage12 = np.average(tvdistance12)"
   ]
  },
  {
   "cell_type": "code",
   "execution_count": 35,
   "id": "annoying-broadway",
   "metadata": {},
   "outputs": [],
   "source": [
    "tvaverage13 = np.average(tvdistance13)"
   ]
  },
  {
   "cell_type": "code",
   "execution_count": 36,
   "id": "universal-edgar",
   "metadata": {},
   "outputs": [],
   "source": [
    "tvaverage14 = np.average(tvdistance14)"
   ]
  },
  {
   "cell_type": "code",
   "execution_count": 37,
   "id": "tired-injury",
   "metadata": {},
   "outputs": [],
   "source": [
    "tvdistance15 = 0.5*sp.spatial.distance.cdist(Sourceprob[index(clustersdata[4], 'Construction sand')[0]: index(clustersdata[4], 'Construction sand')[1]],\n",
    "                                             Sourceprob[index(clustersdata[4], 'Industrial emission')[0]: index(clustersdata[4], 'Industrial emission')[1]], 'cityblock')"
   ]
  },
  {
   "cell_type": "code",
   "execution_count": 38,
   "id": "conventional-linux",
   "metadata": {},
   "outputs": [],
   "source": [
    "tvdistance16 = 0.5*sp.spatial.distance.cdist(Sourceprob[index(clustersdata[4], 'Construction sand')[0]: index(clustersdata[4], 'Construction sand')[1]],\n",
    "                                             Sourceprob[index(clustersdata[4], 'Urban fugitive dust')[0]: index(clustersdata[4], 'Urban fugitive dust')[1]], 'cityblock')"
   ]
  },
  {
   "cell_type": "code",
   "execution_count": 39,
   "id": "public-practice",
   "metadata": {},
   "outputs": [],
   "source": [
    "tvdistance17 = 0.5*sp.spatial.distance.cdist(Sourceprob[index(clustersdata[4], 'Construction sand')[0]: index(clustersdata[4], 'Construction sand')[1]],\n",
    "                                             Sourceprob[index(clustersdata[4], 'Car exhaust')[0]: index(clustersdata[4], 'Car exhaust')[1]], 'cityblock')"
   ]
  },
  {
   "cell_type": "code",
   "execution_count": 40,
   "id": "paperback-slovak",
   "metadata": {},
   "outputs": [],
   "source": [
    "tvdistance18 = 0.5*sp.spatial.distance.cdist(Sourceprob[index(clustersdata[4], 'Construction sand')[0]: index(clustersdata[4], 'Construction sand')[1]],\n",
    "                                             Sourceprob[index(clustersdata[4], 'Biomass')[0]: index(clustersdata[4], 'Biomass')[1]], 'cityblock')"
   ]
  },
  {
   "cell_type": "code",
   "execution_count": 41,
   "id": "sharp-preview",
   "metadata": {},
   "outputs": [],
   "source": [
    "tvdistance19 = 0.5*sp.spatial.distance.cdist(Sourceprob[index(clustersdata[4], 'Construction sand')[0]: index(clustersdata[4], 'Construction sand')[1]],\n",
    "                                             Sourceprob[index(clustersdata[4], 'Coal burning')[0]: index(clustersdata[4], 'Coal burning')[1]], 'cityblock')"
   ]
  },
  {
   "cell_type": "code",
   "execution_count": 43,
   "id": "capable-cooperation",
   "metadata": {},
   "outputs": [],
   "source": [
    "tvdistance20 = 0.5*sp.spatial.distance.cdist(Sourceprob[index(clustersdata[4], 'Construction sand')[0]: index(clustersdata[4], 'Construction sand')[1]],\n",
    "                                             Sourceprob[index(clustersdata[4], 'Construction sand')[0]: index(clustersdata[4], 'Construction sand')[1]], 'cityblock')"
   ]
  },
  {
   "cell_type": "code",
   "execution_count": 44,
   "id": "pursuant-piano",
   "metadata": {},
   "outputs": [],
   "source": [
    "tvaverage15 = np.average(tvdistance15)"
   ]
  },
  {
   "cell_type": "code",
   "execution_count": 45,
   "id": "flying-patient",
   "metadata": {},
   "outputs": [],
   "source": [
    "tvaverage16 = np.average(tvdistance16)"
   ]
  },
  {
   "cell_type": "code",
   "execution_count": 46,
   "id": "pregnant-imaging",
   "metadata": {},
   "outputs": [],
   "source": [
    "tvaverage17 = np.average(tvdistance17)"
   ]
  },
  {
   "cell_type": "code",
   "execution_count": 47,
   "id": "structured-monte",
   "metadata": {},
   "outputs": [],
   "source": [
    "tvaverage18 = np.average(tvdistance18)"
   ]
  },
  {
   "cell_type": "code",
   "execution_count": 48,
   "id": "fitting-possible",
   "metadata": {},
   "outputs": [],
   "source": [
    "tvaverage19 = np.average(tvdistance19)"
   ]
  },
  {
   "cell_type": "code",
   "execution_count": 49,
   "id": "infinite-cholesterol",
   "metadata": {},
   "outputs": [],
   "source": [
    "tvaverage20 = np.average(tvdistance20)"
   ]
  },
  {
   "cell_type": "code",
   "execution_count": 51,
   "id": "italian-chorus",
   "metadata": {},
   "outputs": [],
   "source": [
    "tvdistance21 = 0.5*sp.spatial.distance.cdist(Sourceprob[index(clustersdata[4], 'Urban fugitive dust')[0]: index(clustersdata[4], 'Urban fugitive dust')[1]],\n",
    "                                             Sourceprob[index(clustersdata[4], 'Industrial emission')[0]: index(clustersdata[4], 'Industrial emission')[1]], 'cityblock')"
   ]
  },
  {
   "cell_type": "code",
   "execution_count": 52,
   "id": "geological-resort",
   "metadata": {},
   "outputs": [],
   "source": [
    "tvdistance22 = 0.5*sp.spatial.distance.cdist(Sourceprob[index(clustersdata[4], 'Car exhaust')[0]: index(clustersdata[4], 'Car exhaust')[1]],\n",
    "                                             Sourceprob[index(clustersdata[4], 'Industrial emission')[0]: index(clustersdata[4], 'Industrial emission')[1]], 'cityblock')"
   ]
  },
  {
   "cell_type": "code",
   "execution_count": 53,
   "id": "external-recall",
   "metadata": {},
   "outputs": [],
   "source": [
    "tvdistance23 = 0.5*sp.spatial.distance.cdist(Sourceprob[index(clustersdata[4], 'Biomass')[0]: index(clustersdata[4], 'Biomass')[1]],\n",
    "                                             Sourceprob[index(clustersdata[4], 'Industrial emission')[0]: index(clustersdata[4], 'Industrial emission')[1]], 'cityblock')"
   ]
  },
  {
   "cell_type": "code",
   "execution_count": 54,
   "id": "undefined-journal",
   "metadata": {},
   "outputs": [],
   "source": [
    "tvdistance24 = 0.5*sp.spatial.distance.cdist(Sourceprob[index(clustersdata[4], 'Coal burning')[0]: index(clustersdata[4], 'Coal burning')[1]],\n",
    "                                             Sourceprob[index(clustersdata[4], 'Industrial emission')[0]: index(clustersdata[4], 'Industrial emission')[1]], 'cityblock')"
   ]
  },
  {
   "cell_type": "code",
   "execution_count": 56,
   "id": "illegal-spine",
   "metadata": {},
   "outputs": [],
   "source": [
    "tvdistance25 = 0.5*sp.spatial.distance.cdist(Sourceprob[index(clustersdata[4], 'Industrial emission')[0]: index(clustersdata[4], 'Industrial emission')[1]],\n",
    "                                             Sourceprob[index(clustersdata[4], 'Industrial emission')[0]: index(clustersdata[4], 'Industrial emission')[1]], 'cityblock')"
   ]
  },
  {
   "cell_type": "code",
   "execution_count": 57,
   "id": "intermediate-material",
   "metadata": {},
   "outputs": [],
   "source": [
    "tvaverage21 = np.average(tvdistance21)"
   ]
  },
  {
   "cell_type": "code",
   "execution_count": 58,
   "id": "consecutive-distance",
   "metadata": {},
   "outputs": [],
   "source": [
    "tvaverage22 = np.average(tvdistance22)"
   ]
  },
  {
   "cell_type": "code",
   "execution_count": 59,
   "id": "minus-basement",
   "metadata": {},
   "outputs": [],
   "source": [
    "tvaverage23 = np.average(tvdistance23)"
   ]
  },
  {
   "cell_type": "code",
   "execution_count": 60,
   "id": "least-carry",
   "metadata": {},
   "outputs": [],
   "source": [
    "tvaverage24 = np.average(tvdistance24)"
   ]
  },
  {
   "cell_type": "code",
   "execution_count": 61,
   "id": "perfect-remove",
   "metadata": {},
   "outputs": [],
   "source": [
    "tvaverage25 = np.average(tvdistance25)"
   ]
  },
  {
   "cell_type": "code",
   "execution_count": 62,
   "id": "spectacular-fraud",
   "metadata": {},
   "outputs": [],
   "source": [
    "tvdistance26 = 0.5*sp.spatial.distance.cdist(Sourceprob[index(clustersdata[4], 'Urban fugitive dust')[0]: index(clustersdata[4], 'Urban fugitive dust')[1]],\n",
    "                                             Sourceprob[index(clustersdata[4], 'Car exhaust')[0]: index(clustersdata[4], 'Car exhaust')[1]], 'cityblock')"
   ]
  },
  {
   "cell_type": "code",
   "execution_count": 63,
   "id": "flying-cleaner",
   "metadata": {},
   "outputs": [],
   "source": [
    "tvdistance27 = 0.5*sp.spatial.distance.cdist(Sourceprob[index(clustersdata[4], 'Urban fugitive dust')[0]: index(clustersdata[4], 'Urban fugitive dust')[1]],\n",
    "                                             Sourceprob[index(clustersdata[4], 'Biomass')[0]: index(clustersdata[4], 'Biomass')[1]], 'cityblock')"
   ]
  },
  {
   "cell_type": "code",
   "execution_count": 64,
   "id": "timely-choice",
   "metadata": {},
   "outputs": [],
   "source": [
    "tvdistance28 = 0.5*sp.spatial.distance.cdist(Sourceprob[index(clustersdata[4], 'Urban fugitive dust')[0]: index(clustersdata[4], 'Urban fugitive dust')[1]],\n",
    "                                             Sourceprob[index(clustersdata[4], 'Coal burning')[0]: index(clustersdata[4], 'Coal burning')[1]], 'cityblock')"
   ]
  },
  {
   "cell_type": "code",
   "execution_count": 65,
   "id": "favorite-session",
   "metadata": {},
   "outputs": [],
   "source": [
    "tvdistance29 = 0.5*sp.spatial.distance.cdist(Sourceprob[index(clustersdata[4], 'Urban fugitive dust')[0]: index(clustersdata[4], 'Urban fugitive dust')[1]],\n",
    "                                             Sourceprob[index(clustersdata[4], 'Urban fugitive dust')[0]: index(clustersdata[4], 'Urban fugitive dust')[1]], 'cityblock')"
   ]
  },
  {
   "cell_type": "code",
   "execution_count": 66,
   "id": "moved-introduction",
   "metadata": {},
   "outputs": [],
   "source": [
    "tvaverage26 = np.average(tvdistance26)"
   ]
  },
  {
   "cell_type": "code",
   "execution_count": 67,
   "id": "egyptian-competition",
   "metadata": {},
   "outputs": [],
   "source": [
    "tvaverage27 = np.average(tvdistance27)"
   ]
  },
  {
   "cell_type": "code",
   "execution_count": 68,
   "id": "excellent-bachelor",
   "metadata": {},
   "outputs": [],
   "source": [
    "tvaverage28 = np.average(tvdistance28)"
   ]
  },
  {
   "cell_type": "code",
   "execution_count": 69,
   "id": "negative-america",
   "metadata": {},
   "outputs": [],
   "source": [
    "tvaverage29 = np.average(tvdistance29)"
   ]
  },
  {
   "cell_type": "code",
   "execution_count": 70,
   "id": "developed-minneapolis",
   "metadata": {},
   "outputs": [],
   "source": [
    "tvdistance30 = 0.5*sp.spatial.distance.cdist(Sourceprob[index(clustersdata[4], 'Car exhaust')[0]: index(clustersdata[4], 'Car exhaust')[1]],\n",
    "                                             Sourceprob[index(clustersdata[4], 'Biomass')[0]: index(clustersdata[4], 'Biomass')[1]], 'cityblock')"
   ]
  },
  {
   "cell_type": "code",
   "execution_count": 71,
   "id": "rolled-looking",
   "metadata": {},
   "outputs": [],
   "source": [
    "tvdistance31 = 0.5*sp.spatial.distance.cdist(Sourceprob[index(clustersdata[4], 'Car exhaust')[0]: index(clustersdata[4], 'Car exhaust')[1]],\n",
    "                                             Sourceprob[index(clustersdata[4], 'Coal burning')[0]: index(clustersdata[4], 'Coal burning')[1]], 'cityblock')"
   ]
  },
  {
   "cell_type": "code",
   "execution_count": 72,
   "id": "liberal-tanzania",
   "metadata": {},
   "outputs": [],
   "source": [
    "tvdistance32 = 0.5*sp.spatial.distance.cdist(Sourceprob[index(clustersdata[4], 'Car exhaust')[0]: index(clustersdata[4], 'Car exhaust')[1]],\n",
    "                                             Sourceprob[index(clustersdata[4], 'Car exhaust')[0]: index(clustersdata[4], 'Car exhaust')[1]], 'cityblock')"
   ]
  },
  {
   "cell_type": "code",
   "execution_count": 73,
   "id": "downtown-seven",
   "metadata": {},
   "outputs": [],
   "source": [
    "tvaverage30 = np.average(tvdistance30)"
   ]
  },
  {
   "cell_type": "code",
   "execution_count": 74,
   "id": "external-titanium",
   "metadata": {},
   "outputs": [],
   "source": [
    "tvaverage31 = np.average(tvdistance31)"
   ]
  },
  {
   "cell_type": "code",
   "execution_count": 75,
   "id": "apart-portal",
   "metadata": {},
   "outputs": [],
   "source": [
    "tvaverage32 = np.average(tvdistance32)"
   ]
  },
  {
   "cell_type": "code",
   "execution_count": 76,
   "id": "raising-bumper",
   "metadata": {},
   "outputs": [],
   "source": [
    "tvdistance33 = 0.5*sp.spatial.distance.cdist(Sourceprob[index(clustersdata[4], 'Biomass')[0]: index(clustersdata[4], 'Biomass')[1]],\n",
    "                                             Sourceprob[index(clustersdata[4], 'Coal burning')[0]: index(clustersdata[4], 'Coal burning')[1]], 'cityblock')"
   ]
  },
  {
   "cell_type": "code",
   "execution_count": 77,
   "id": "beautiful-climb",
   "metadata": {},
   "outputs": [],
   "source": [
    "tvdistance34 = 0.5*sp.spatial.distance.cdist(Sourceprob[index(clustersdata[4], 'Biomass')[0]: index(clustersdata[4], 'Biomass')[1]],\n",
    "                                             Sourceprob[index(clustersdata[4], 'Biomass')[0]: index(clustersdata[4], 'Biomass')[1]], 'cityblock')"
   ]
  },
  {
   "cell_type": "code",
   "execution_count": 78,
   "id": "preliminary-puppy",
   "metadata": {},
   "outputs": [],
   "source": [
    "tvaverage33 = np.average(tvdistance33)"
   ]
  },
  {
   "cell_type": "code",
   "execution_count": 79,
   "id": "future-spray",
   "metadata": {},
   "outputs": [],
   "source": [
    "tvaverage34 = np.average(tvdistance34)"
   ]
  },
  {
   "cell_type": "code",
   "execution_count": 80,
   "id": "coordinate-coating",
   "metadata": {},
   "outputs": [],
   "source": [
    "tvdistance35 = 0.5*sp.spatial.distance.cdist(Sourceprob[index(clustersdata[4], 'Coal burning')[0]: index(clustersdata[4], 'Coal burning')[1]],\n",
    "                                             Sourceprob[index(clustersdata[4], 'Coal burning')[0]: index(clustersdata[4], 'Coal burning')[1]], 'cityblock')"
   ]
  },
  {
   "cell_type": "code",
   "execution_count": 81,
   "id": "blond-appeal",
   "metadata": {},
   "outputs": [],
   "source": [
    "tvaverage35 = np.average(tvdistance35)"
   ]
  },
  {
   "cell_type": "code",
   "execution_count": 6,
   "id": "single-scholar",
   "metadata": {
    "collapsed": true,
    "jupyter": {
     "outputs_hidden": true
    }
   },
   "outputs": [
    {
     "ename": "NameError",
     "evalue": "name 'tvaverage' is not defined",
     "output_type": "error",
     "traceback": [
      "\u001b[1;31m---------------------------------------------------------------------------\u001b[0m",
      "\u001b[1;31mNameError\u001b[0m                                 Traceback (most recent call last)",
      "\u001b[1;32m<ipython-input-6-c2518619b98f>\u001b[0m in \u001b[0;36m<module>\u001b[1;34m\u001b[0m\n\u001b[0;32m      1\u001b[0m \u001b[1;31m#group everything together\u001b[0m\u001b[1;33m\u001b[0m\u001b[1;33m\u001b[0m\u001b[1;33m\u001b[0m\u001b[0m\n\u001b[1;32m----> 2\u001b[1;33m \u001b[0msoildust\u001b[0m \u001b[1;33m=\u001b[0m \u001b[1;33m[\u001b[0m\u001b[0mtvaverage\u001b[0m\u001b[1;33m,\u001b[0m \u001b[0mtvaverage1\u001b[0m\u001b[1;33m,\u001b[0m \u001b[0mtvaverage2\u001b[0m\u001b[1;33m,\u001b[0m \u001b[0mtvaverage3\u001b[0m\u001b[1;33m,\u001b[0m \u001b[0mtvaverage4\u001b[0m\u001b[1;33m,\u001b[0m \u001b[0mtvaverage5\u001b[0m\u001b[1;33m,\u001b[0m \u001b[0mtvaverage6\u001b[0m\u001b[1;33m,\u001b[0m \u001b[0mtvaverage7\u001b[0m\u001b[1;33m]\u001b[0m\u001b[1;33m\u001b[0m\u001b[1;33m\u001b[0m\u001b[0m\n\u001b[0m\u001b[0;32m      3\u001b[0m \u001b[0mconsdust\u001b[0m \u001b[1;33m=\u001b[0m \u001b[1;33m[\u001b[0m\u001b[0mtvaverage1\u001b[0m\u001b[1;33m,\u001b[0m \u001b[0mtvaverage14\u001b[0m\u001b[1;33m,\u001b[0m \u001b[0mtvaverage8\u001b[0m\u001b[1;33m,\u001b[0m \u001b[0mtvaverage9\u001b[0m\u001b[1;33m,\u001b[0m \u001b[0mtvaverage10\u001b[0m\u001b[1;33m,\u001b[0m \u001b[0mtvaverage11\u001b[0m\u001b[1;33m,\u001b[0m \u001b[0mtvaverage12\u001b[0m\u001b[1;33m,\u001b[0m \u001b[0mtvaverage13\u001b[0m\u001b[1;33m]\u001b[0m\u001b[1;33m\u001b[0m\u001b[1;33m\u001b[0m\u001b[0m\n\u001b[0;32m      4\u001b[0m \u001b[0mconssand\u001b[0m \u001b[1;33m=\u001b[0m \u001b[1;33m[\u001b[0m\u001b[0mtvaverage2\u001b[0m\u001b[1;33m,\u001b[0m \u001b[0mtvaverage8\u001b[0m\u001b[1;33m,\u001b[0m \u001b[0mtvaverage20\u001b[0m\u001b[1;33m,\u001b[0m \u001b[0mtvaverage15\u001b[0m\u001b[1;33m,\u001b[0m \u001b[0mtvaverage16\u001b[0m\u001b[1;33m,\u001b[0m \u001b[0mtvaverage17\u001b[0m\u001b[1;33m,\u001b[0m \u001b[0mtvaverage18\u001b[0m\u001b[1;33m,\u001b[0m \u001b[0mtvaverage19\u001b[0m\u001b[1;33m]\u001b[0m\u001b[1;33m\u001b[0m\u001b[1;33m\u001b[0m\u001b[0m\n\u001b[0;32m      5\u001b[0m \u001b[0mindemission\u001b[0m  \u001b[1;33m=\u001b[0m \u001b[1;33m[\u001b[0m\u001b[0mtvaverage3\u001b[0m\u001b[1;33m,\u001b[0m \u001b[0mtvaverage9\u001b[0m\u001b[1;33m,\u001b[0m \u001b[0mtvaverage15\u001b[0m\u001b[1;33m,\u001b[0m \u001b[0mtvaverage25\u001b[0m\u001b[1;33m,\u001b[0m \u001b[0mtvaverage21\u001b[0m\u001b[1;33m,\u001b[0m \u001b[0mtvaverage22\u001b[0m\u001b[1;33m,\u001b[0m \u001b[0mtvaverage23\u001b[0m\u001b[1;33m,\u001b[0m \u001b[0mtvaverage24\u001b[0m\u001b[1;33m]\u001b[0m\u001b[1;33m\u001b[0m\u001b[1;33m\u001b[0m\u001b[0m\n",
      "\u001b[1;31mNameError\u001b[0m: name 'tvaverage' is not defined"
     ]
    }
   ],
   "source": [
    "#group everything together\n",
    "soildust = [tvaverage, tvaverage1, tvaverage2, tvaverage3, tvaverage4, tvaverage5, tvaverage6, tvaverage7]\n",
    "consdust = [tvaverage1, tvaverage14, tvaverage8, tvaverage9, tvaverage10, tvaverage11, tvaverage12, tvaverage13]\n",
    "conssand = [tvaverage2, tvaverage8, tvaverage20, tvaverage15, tvaverage16, tvaverage17, tvaverage18, tvaverage19]\n",
    "indemission  = [tvaverage3, tvaverage9, tvaverage15, tvaverage25, tvaverage21, tvaverage22, tvaverage23, tvaverage24]\n",
    "urbfugdust = [tvaverage4, tvaverage10, tvaverage16, tvaverage21, tvaverage29, tvaverage26, tvaverage27, tvaverage28]\n",
    "carexhaust = [tvaverage5, tvaverage11, tvaverage17, tvaverage22, tvaverage26, tvaverage32, tvaverage30, tvaverage31]\n",
    "biomass = [tvaverage6, tvaverage12, tvaverage18, tvaverage23, tvaverage27, tvaverage30, tvaverage34, tvaverage33]\n",
    "coalburning = [tvaverage7, tvaverage13, tvaverage19, tvaverage24, tvaverage28, tvaverage31, tvaverage33, tvaverage35]\n",
    "\n",
    "totalaverage = [soildust, consdust, conssand, indemission, urbfugdust, carexhaust, biomass, coalburning]"
   ]
  },
  {
   "cell_type": "code",
   "execution_count": 83,
   "id": "contained-brief",
   "metadata": {},
   "outputs": [
    {
     "data": {
      "text/plain": [
       "<AxesSubplot:>"
      ]
     },
     "execution_count": 83,
     "metadata": {},
     "output_type": "execute_result"
    },
    {
     "data": {
      "image/png": "[encoded data removed]",
      "text/plain": [
       "<Figure size 432x288 with 2 Axes>"
      ]
     },
     "metadata": {
      "needs_background": "light"
     },
     "output_type": "display_data"
    }
   ],
   "source": [
    "Index = ['Soil dust', 'Construction dust', 'Construction Sand', 'Industrial Emission', 'Urban Fugitive Dust', 'Car Exhaust', 'Biomass', 'Coal burning']\n",
    "sns.heatmap(pd.DataFrame(totalaverage, index = Index, columns = Index))"
   ]
  },
  {
   "cell_type": "code",
   "execution_count": 7,
   "id": "multiple-annex",
   "metadata": {},
   "outputs": [],
   "source": [
    "#save object\n",
    "def save_object(obj, filename):\n",
    "    with open(filename, 'wb') as output:  # Overwrites any existing file.\n",
    "        pickle.dump(obj, output, pickle.HIGHEST_PROTOCOL)"
   ]
  },
  {
   "cell_type": "code",
   "execution_count": 85,
   "id": "damaged-judgment",
   "metadata": {},
   "outputs": [],
   "source": [
    "save_object(totalaverage, 'outputdata/totalvariationavgsourceheatmap.pkl')"
   ]
  },
  {
   "cell_type": "markdown",
   "id": "outside-wyoming",
   "metadata": {},
   "source": [
    "# Get the Percentage particle allocated to component by max probability value (Correct without Urban Fugitive Dust)"
   ]
  },
  {
   "cell_type": "code",
   "execution_count": 7,
   "id": "minute-observation",
   "metadata": {},
   "outputs": [],
   "source": [
    "soildustconf = np.zeros(Sourceprob[index(clustersdata[4], 'Soil dust')[0]: index(clustersdata[4], 'Soil dust')[1]].shape)\n",
    "consdustconf = np.zeros(Sourceprob[index(clustersdata[4], 'Construction dust')[0]: index(clustersdata[4], 'Construction dust')[1]].shape)\n",
    "conssandconf = np.zeros(Sourceprob[index(clustersdata[4], 'Construction sand')[0]: index(clustersdata[4], 'Construction sand')[1]].shape)\n",
    "indemissionconf = np.zeros(Sourceprob[index(clustersdata[4], 'Industrial emission')[0]: index(clustersdata[4], 'Industrial emission')[1]].shape)\n",
    "carexhaustconf = np.zeros(Sourceprob[index(clustersdata[4], 'Car exhaust')[0]: index(clustersdata[4], 'Car exhaust')[1]].shape)\n",
    "biomassconf = np.zeros(Sourceprob[index(clustersdata[4], 'Biomass')[0]: index(clustersdata[4], 'Biomass')[1]].shape)\n",
    "coalburningconf = np.zeros(Sourceprob[index(clustersdata[4], 'Coal burning')[0]: index(clustersdata[4], 'Coal burning')[1]].shape)"
   ]
  },
  {
   "cell_type": "code",
   "execution_count": 8,
   "id": "false-match",
   "metadata": {},
   "outputs": [],
   "source": [
    "indexconf = ['Soil dust', 'Construction dust', 'Construction sand', 'Industrial emission', 'Car exhaust', 'Biomass', 'Coal burning']\n",
    "conflist = [soildustconf, consdustconf, conssandconf, indemissionconf, carexhaustconf, biomassconf, coalburningconf]"
   ]
  },
  {
   "cell_type": "code",
   "execution_count": 9,
   "id": "manufactured-romantic",
   "metadata": {},
   "outputs": [
    {
     "name": "stdout",
     "output_type": "stream",
     "text": [
      "Soil dust\n",
      "Construction dust\n",
      "Construction sand\n",
      "Industrial emission\n",
      "Car exhaust\n",
      "Biomass\n",
      "Coal burning\n"
     ]
    }
   ],
   "source": [
    "for indexm, matrix in zip(indexconf, conflist):\n",
    "    print(indexm)\n",
    "    intermediateargmax = Sourceprob[index(clustersdata[4], indexm)[0]: index(clustersdata[4], indexm)[1]].argmax(axis=1)\n",
    "    intermediatemax = Sourceprob[index(clustersdata[4], indexm)[0]: index(clustersdata[4], indexm)[1]].max(axis=1)\n",
    "    for i in np.arange(0, len(matrix)):\n",
    "        matrix[i, intermediateargmax[i]] = intermediatemax[i]"
   ]
  },
  {
   "cell_type": "code",
   "execution_count": 12,
   "id": "figured-attempt",
   "metadata": {},
   "outputs": [],
   "source": [
    "#find the average and the count for every component\n",
    "confcountcomb = np.zeros([7, 30])\n",
    "confavgcomb = np.zeros([7, 30])\n",
    "for ind, conf in enumerate(conflist):\n",
    "    confcount = np.zeros([1,30])\n",
    "    for i in np.arange(0, 30):\n",
    "        confcount[:,i] = len(conf[:,i][np.nonzero(conf[:,i])])/len(conf)\n",
    "\n",
    "    confaverage = np.zeros([1,30])\n",
    "    for i in np.arange(0, 30):\n",
    "        confaverage[:,i] = np.average(conf[:,i][np.nonzero(conf[:,i])])\n",
    "    confcountcomb[ind] = confcount\n",
    "    confavgcomb[ind] = confaverage"
   ]
  },
  {
   "cell_type": "markdown",
   "id": "chubby-contamination",
   "metadata": {},
   "source": [
    "# Percentage in each component respect to source"
   ]
  },
  {
   "cell_type": "code",
   "execution_count": 13,
   "id": "arabic-rogers",
   "metadata": {},
   "outputs": [
    {
     "data": {
      "text/plain": [
       "<AxesSubplot:>"
      ]
     },
     "execution_count": 13,
     "metadata": {},
     "output_type": "execute_result"
    },
    {
     "data": {
      "image/png": "[encoded data removed]",
      "text/plain": [
       "<Figure size 1584x360 with 2 Axes>"
      ]
     },
     "metadata": {
      "needs_background": "light"
     },
     "output_type": "display_data"
    }
   ],
   "source": [
    "fig = plt.figure(figsize = (22,5))\n",
    "sns.heatmap(pd.DataFrame(confcountcomb, index = indexconf, columns = np.arange(1,31)))"
   ]
  },
  {
   "cell_type": "markdown",
   "id": "vanilla-falls",
   "metadata": {},
   "source": [
    "# Confidence of the max probability with respect to each source"
   ]
  },
  {
   "cell_type": "code",
   "execution_count": 14,
   "id": "grateful-mother",
   "metadata": {},
   "outputs": [
    {
     "data": {
      "text/plain": [
       "<AxesSubplot:>"
      ]
     },
     "execution_count": 14,
     "metadata": {},
     "output_type": "execute_result"
    },
    {
     "data": {
      "image/png": "[encoded data removed]",
      "text/plain": [
       "<Figure size 1584x360 with 2 Axes>"
      ]
     },
     "metadata": {
      "needs_background": "light"
     },
     "output_type": "display_data"
    }
   ],
   "source": [
    "fig = plt.figure(figsize = (22,5))\n",
    "sns.heatmap(pd.DataFrame(confavgcomb, index = indexconf, columns = np.arange(1,31)))"
   ]
  },
  {
   "cell_type": "markdown",
   "id": "academic-wireless",
   "metadata": {},
   "source": [
    "# Predicting Urb fug dust"
   ]
  },
  {
   "cell_type": "code",
   "execution_count": 18,
   "id": "welcome-quebec",
   "metadata": {},
   "outputs": [],
   "source": [
    "tvdistanceUrbanfugdust = []\n",
    "for j in Urbanfugdustkeys:\n",
    "    tvmid = []\n",
    "    for i in Sourcekeys:\n",
    "        tvmid.append(0.5*sp.spatial.distance.cdist(Urbanfugdustprob[index(UrbanfugdustDF, j)[0]: index(UrbanfugdustDF, j)[1]],\n",
    "                                                  Sourceprob[index(clustersdata[4], i)[0]: index(clustersdata[4], i)[1]], 'cityblock'))\n",
    "    tvdistanceUrbanfugdust.append(tvmid)"
   ]
  },
  {
   "cell_type": "code",
   "execution_count": 19,
   "id": "offshore-laugh",
   "metadata": {},
   "outputs": [],
   "source": [
    "Urbanfugdustavglist = []\n",
    "for l in tvdistanceUrbanfugdust:\n",
    "    Urbanfugdustavg = np.zeros([len(l[0]), 7])\n",
    "    for i,j in enumerate(l):\n",
    "        Urbanfugdustavg[:,i] = np.average(j, axis = 1)\n",
    "    Urbanfugdustavglist.append(Urbanfugdustavg)"
   ]
  },
  {
   "cell_type": "code",
   "execution_count": 20,
   "id": "vital-calculation",
   "metadata": {},
   "outputs": [],
   "source": [
    "#get the counts and unique sources\n",
    "uniquelist = []\n",
    "for j in Urbanfugdustavglist:\n",
    "    uniquelist.append(np.unique(np.array([Sourcekeys[i] for i in j.argmin(axis=1)]), return_counts = True))"
   ]
  },
  {
   "cell_type": "code",
   "execution_count": 22,
   "id": "ahead-accommodation",
   "metadata": {},
   "outputs": [
    {
     "data": {
      "image/png": "[encoded data removed]",
      "text/plain": [
       "<Figure size 432x288 with 1 Axes>"
      ]
     },
     "metadata": {},
     "output_type": "display_data"
    }
   ],
   "source": [
    "plt.pie(uniquelist[0][1]/uniquelist[0][1].sum(), labels = uniquelist[0][0])\n",
    "plt.show()"
   ]
  },
  {
   "cell_type": "markdown",
   "id": "accompanied-standing",
   "metadata": {},
   "source": [
    "# Prediction for the 1st set of samples"
   ]
  },
  {
   "cell_type": "code",
   "execution_count": 24,
   "id": "voluntary-platinum",
   "metadata": {},
   "outputs": [
    {
     "ename": "MemoryError",
     "evalue": "Unable to allocate 923. MiB for an array with shape (3651, 33125) and data type float64",
     "output_type": "error",
     "traceback": [
      "\u001b[1;31m---------------------------------------------------------------------------\u001b[0m",
      "\u001b[1;31mMemoryError\u001b[0m                               Traceback (most recent call last)",
      "\u001b[1;32m<ipython-input-24-551b24ac8575>\u001b[0m in \u001b[0;36m<module>\u001b[1;34m\u001b[0m\n\u001b[0;32m      4\u001b[0m     \u001b[0mtvmid\u001b[0m \u001b[1;33m=\u001b[0m \u001b[1;33m[\u001b[0m\u001b[1;33m]\u001b[0m\u001b[1;33m\u001b[0m\u001b[1;33m\u001b[0m\u001b[0m\n\u001b[0;32m      5\u001b[0m     \u001b[1;32mfor\u001b[0m \u001b[0mi\u001b[0m \u001b[1;32min\u001b[0m \u001b[0mSourcekeys\u001b[0m\u001b[1;33m:\u001b[0m\u001b[1;33m\u001b[0m\u001b[1;33m\u001b[0m\u001b[0m\n\u001b[1;32m----> 6\u001b[1;33m         tvmid.append(0.5*sp.spatial.distance.cdist(Qian2016prob[index(clustersdata[0], j)[0]: index(clustersdata[0], j)[1]],\n\u001b[0m\u001b[0;32m      7\u001b[0m                                                   Sourceprob[index(clustersdata[4], i)[0]: index(clustersdata[4], i)[1]], 'cityblock'))\n\u001b[0;32m      8\u001b[0m     \u001b[0mtvdistanceQian20161\u001b[0m\u001b[1;33m.\u001b[0m\u001b[0mappend\u001b[0m\u001b[1;33m(\u001b[0m\u001b[0mtvmid\u001b[0m\u001b[1;33m)\u001b[0m\u001b[1;33m\u001b[0m\u001b[1;33m\u001b[0m\u001b[0m\n",
      "\u001b[1;31mMemoryError\u001b[0m: Unable to allocate 923. MiB for an array with shape (3651, 33125) and data type float64"
     ]
    }
   ],
   "source": [
    "#create a total variation matrix for 1st sample Qian 2016\n",
    "tvdistanceQian20161 = []\n",
    "for j in Qian2016keys:\n",
    "    tvmid = []\n",
    "    for i in Sourcekeys:\n",
    "        tvmid.append(0.5*sp.spatial.distance.cdist(Qian2016prob[index(clustersdata[0], j)[0]: index(clustersdata[0], j)[1]],\n",
    "                                                  Sourceprob[index(clustersdata[4], i)[0]: index(clustersdata[4], i)[1]], 'cityblock'))\n",
    "    tvdistanceQian20161.append(tvmid)"
   ]
  },
  {
   "cell_type": "code",
   "execution_count": null,
   "id": "alternate-stake",
   "metadata": {},
   "outputs": [],
   "source": [
    "Qian2016avglist = []\n",
    "for l in tvdistanceQian20161:\n",
    "    Qian2016avg = np.zeros([len(l[0]), 7])\n",
    "    for i,j in enumerate(l):\n",
    "        Qian2016avg[:,i] = np.average(j, axis = 1)\n",
    "    Qian2016avglist.append(Qian2016avg)"
   ]
  },
  {
   "cell_type": "code",
   "execution_count": 14,
   "id": "offensive-revelation",
   "metadata": {},
   "outputs": [
    {
     "data": {
      "text/plain": [
       "array([4, 4, 4, ..., 3, 3, 5], dtype=int64)"
      ]
     },
     "execution_count": 14,
     "metadata": {},
     "output_type": "execute_result"
    }
   ],
   "source": [
    "#get the maximum for each source\n",
    "Qian2016avg.argmin(axis=1)"
   ]
  },
  {
   "cell_type": "code",
   "execution_count": 25,
   "id": "static-centre",
   "metadata": {},
   "outputs": [
    {
     "data": {
      "text/plain": [
       "array(['Industrial emission', 'Industrial emission',\n",
       "       'Industrial emission', ..., 'Coal burning', 'Coal burning',\n",
       "       'Urban fugitive dust'], dtype='<U19')"
      ]
     },
     "execution_count": 25,
     "metadata": {},
     "output_type": "execute_result"
    }
   ],
   "source": [
    "#get the corresponding keys\n",
    "np.array([Sourcekeys[i] for i in Qian2016avg.argmin(axis=1)])"
   ]
  },
  {
   "cell_type": "code",
   "execution_count": null,
   "id": "compressed-impression",
   "metadata": {},
   "outputs": [],
   "source": [
    "#get the counts and unique sources\n",
    "uniquelist = []\n",
    "for j in Qian2016avglist:\n",
    "    uniquelist.append(np.unique(np.array([Sourcekeys[i] for i in j.argmin(axis=1)]), return_counts = True))"
   ]
  },
  {
   "cell_type": "code",
   "execution_count": null,
   "id": "local-visiting",
   "metadata": {},
   "outputs": [],
   "source": [
    "for i in uniquelist:\n",
    "    plt.pie(i[1]/i[1].sum(), labels = i[0])\n",
    "    plt.show()"
   ]
  },
  {
   "cell_type": "code",
   "execution_count": 21,
   "id": "regional-habitat",
   "metadata": {},
   "outputs": [],
   "source": [
    "Qian2016avgconf = np.zeros([len(Qian2016avg), 8])"
   ]
  },
  {
   "cell_type": "code",
   "execution_count": 22,
   "id": "narrative-diagram",
   "metadata": {},
   "outputs": [],
   "source": [
    "#just get the minimum distance values\n",
    "for (index, maxi), argmaxi in zip(enumerate(Qian2016avg.min(axis=1)), Qian2016avg.argmin(axis=1)):\n",
    "    Qian2016avgconf[index, argmaxi] = maxi"
   ]
  },
  {
   "cell_type": "code",
   "execution_count": 23,
   "id": "english-center",
   "metadata": {},
   "outputs": [
    {
     "name": "stderr",
     "output_type": "stream",
     "text": [
      "C:\\Users\\Garret Bland\\Anaconda\\envs\\TOF classification\\lib\\site-packages\\numpy\\lib\\function_base.py:380: RuntimeWarning: Mean of empty slice.\n",
      "  avg = a.mean(axis)\n",
      "C:\\Users\\Garret Bland\\Anaconda\\envs\\TOF classification\\lib\\site-packages\\numpy\\core\\_methods.py:170: RuntimeWarning: invalid value encountered in double_scalars\n",
      "  ret = ret.dtype.type(ret / rcount)\n",
      "C:\\Users\\Garret Bland\\Anaconda\\envs\\TOF classification\\lib\\site-packages\\numpy\\core\\_methods.py:233: RuntimeWarning: Degrees of freedom <= 0 for slice\n",
      "  ret = _var(a, axis=axis, dtype=dtype, out=out, ddof=ddof,\n",
      "C:\\Users\\Garret Bland\\Anaconda\\envs\\TOF classification\\lib\\site-packages\\numpy\\core\\_methods.py:194: RuntimeWarning: invalid value encountered in true_divide\n",
      "  arrmean = um.true_divide(\n",
      "C:\\Users\\Garret Bland\\Anaconda\\envs\\TOF classification\\lib\\site-packages\\numpy\\core\\_methods.py:226: RuntimeWarning: invalid value encountered in double_scalars\n",
      "  ret = ret.dtype.type(ret / rcount)\n"
     ]
    }
   ],
   "source": [
    "#get average and std distance metrics of the minimum values\n",
    "averagedist = np.array([np.average(Qian2016avgconf[np.nonzero(Qian2016avgconf[:,i]), i]) for i in np.arange(0, len(Sourcekeys))])\n",
    "\n",
    "averagestd = np.array([np.std(Qian2016avgconf[np.nonzero(Qian2016avgconf[:,i]), i]) for i in np.arange(0, len(Sourcekeys))])"
   ]
  },
  {
   "cell_type": "code",
   "execution_count": 24,
   "id": "geographic-miller",
   "metadata": {},
   "outputs": [
    {
     "data": {
      "text/plain": [
       "<AxesSubplot:>"
      ]
     },
     "execution_count": 24,
     "metadata": {},
     "output_type": "execute_result"
    },
    {
     "data": {
      "image/png": "[encoded data removed]",
      "text/plain": [
       "<Figure size 1080x216 with 1 Axes>"
      ]
     },
     "metadata": {
      "needs_background": "light"
     },
     "output_type": "display_data"
    }
   ],
   "source": [
    "accumulatelist = [Qian2016avgconf[np.nonzero(Qian2016avgconf[:,i]), i] for i in np.arange(0, len(Sourcekeys))]\n",
    "\n",
    "intermediatelist = []\n",
    "for i in accumulatelist:\n",
    "    intermediatelist.append(i[0])\n",
    "    \n",
    "fig = plt.figure(figsize = (15,3))    \n",
    "sns.boxplot(data = pd.DataFrame(intermediatelist, index = Sourcekeys).T)"
   ]
  }
 ],
 "metadata": {
  "kernelspec": {
   "display_name": "Python 3",
   "language": "python",
   "name": "python3"
  },
  "language_info": {
   "codemirror_mode": {
    "name": "ipython",
    "version": 3
   },
   "file_extension": ".py",
   "mimetype": "text/x-python",
   "name": "python",
   "nbconvert_exporter": "python",
   "pygments_lexer": "ipython3",
   "version": "3.8.5"
  }
 },
 "nbformat": 4,
 "nbformat_minor": 5
}
